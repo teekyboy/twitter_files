{
 "cells": [
  {
   "cell_type": "code",
   "execution_count": 1,
   "metadata": {},
   "outputs": [],
   "source": [
    "import pandas as pd\n",
    "data1 = pd.read_csv('raw_data/twitter_1.csv')\n",
    "data2 = pd.read_csv('raw_data/twitter_2.csv')"
   ]
  },
  {
   "cell_type": "code",
   "execution_count": 2,
   "metadata": {},
   "outputs": [
    {
     "data": {
      "text/plain": [
       "26490"
      ]
     },
     "metadata": {},
     "output_type": "display_data"
    },
    {
     "data": {
      "text/plain": [
       "24814"
      ]
     },
     "metadata": {},
     "output_type": "display_data"
    },
    {
     "data": {
      "text/plain": [
       "112998"
      ]
     },
     "metadata": {},
     "output_type": "display_data"
    },
    {
     "data": {
      "text/plain": [
       "204770"
      ]
     },
     "metadata": {},
     "output_type": "display_data"
    }
   ],
   "source": [
    "display(data1['cashtags'].count())\n",
    "display(data2['cashtags'].count())\n",
    "display(data1['cashtags'].isnull().sum())\n",
    "display(data2['cashtags'].isnull().sum())"
   ]
  },
  {
   "cell_type": "code",
   "execution_count": 3,
   "metadata": {},
   "outputs": [
    {
     "data": {
      "text/plain": [
       "18674"
      ]
     },
     "metadata": {},
     "output_type": "display_data"
    },
    {
     "data": {
      "text/plain": [
       "4183"
      ]
     },
     "metadata": {},
     "output_type": "display_data"
    },
    {
     "data": {
      "text/plain": [
       "120814"
      ]
     },
     "metadata": {},
     "output_type": "display_data"
    },
    {
     "data": {
      "text/plain": [
       "225401"
      ]
     },
     "metadata": {},
     "output_type": "display_data"
    }
   ],
   "source": [
    "display(data1['hashtags'].count())\n",
    "display(data2['hashtags'].count())\n",
    "display(data1['hashtags'].isnull().sum())\n",
    "display(data2['hashtags'].isnull().sum())"
   ]
  },
  {
   "cell_type": "code",
   "execution_count": 4,
   "metadata": {},
   "outputs": [
    {
     "data": {
      "text/plain": [
       "array([nan,\n",
       "       \"['WOO', 'MLT', 'QRDO', 'CHZ', 'FET', 'LUNA', 'MCC', 'FLOKI']\",\n",
       "       \"['TRAC']\", ..., \"['JPM', 'SPX']\", \"['NFLX', 'QQQ']\",\n",
       "       \"['FUTU', 'TIGR', 'TGTX']\"], dtype=object)"
      ]
     },
     "metadata": {},
     "output_type": "display_data"
    },
    {
     "data": {
      "text/plain": [
       "array([nan, \"['TSLA']\", \"['BTC', 'GOLD']\", ...,\n",
       "       \"['AAPL', 'AMZN', 'GOOGL', 'META', 'NFLX', 'TSLA']\",\n",
       "       \"['LCID', 'RIVN', 'SNAP', 'U']\",\n",
       "       \"['AAPL', 'DIS', 'NFLX', 'SPY', 'AAPL', 'DIS', 'NFLX']\"],\n",
       "      dtype=object)"
      ]
     },
     "metadata": {},
     "output_type": "display_data"
    },
    {
     "data": {
      "text/plain": [
       "array([\"['XRP']\", nan, \"['Bitcoin']\", ..., \"['Litepaper']\",\n",
       "       \"['safelanding']\",\n",
       "       \"['Crypto', 'terra', 'voyager', 'celcius', 'ronin', 'btc', 'ETH']\"],\n",
       "      dtype=object)"
      ]
     },
     "metadata": {},
     "output_type": "display_data"
    },
    {
     "data": {
      "text/plain": [
       "array([nan, \"['Bitcoin']\", \"['RTY_F']\", \"['NQ_F']\", \"['Germany']\",\n",
       "       \"['crypto']\",\n",
       "       \"['Metaverse', 'PlayToEarn', 'NFT', 'GameFi', 'Play2Earn', 'P2E']\",\n",
       "       \"['DeFi', 'parachain', 'blockchain', 'Layer1']\",\n",
       "       \"['PlayToEarn', 'DAO', 'DeFi', 'Metaverse', 'ZKRollups']\",\n",
       "       \"['metaverse', 'PlayToEarn']\", \"['Crypto', 'Cryptos']\",\n",
       "       \"['launchpad', 'NFTs']\", \"['bitcoin']\", \"['forex', 'crypto']\",\n",
       "       \"['Bitcoin', 'Bitcoin']\",\n",
       "       \"['BSC', 'Metaverse', 'PlayToEarn', 'GameFi', 'P2E']\",\n",
       "       \"['Metaverse', 'NFT', 'PlayToEarn', 'Play2Earn', 'P2E']\",\n",
       "       \"['metaverses', 'PlayToEarn', 'P2E', 'Play2Earn']\", \"['Tesla']\",\n",
       "       \"['Metaverse', 'PlayToEarn', 'GameFi']\",\n",
       "       \"['GameFi', 'Metaverse', 'PlayToEarn']\", \"['Crypto']\",\n",
       "       \"['crypto', 'Metaverse', 'GameFi', 'PlayToEarn', 'DeFi', 'Launchpad', 'Layer2', 'Staking', 'YieldFarming']\",\n",
       "       \"['OOTT']\", \"['PlayToEarn', 'Metaverse', 'GameFi']\",\n",
       "       \"['Bitcoin', 'Crypto']\", \"['Layer1']\", \"['China']\", \"['Turkey']\",\n",
       "       \"['Metaverse', 'PlayToEarn', 'Play2Earn', 'P2E', 'GameFi']\",\n",
       "       \"['fact']\", \"['BTC']\", \"['Apple']\", \"['Ccrypto']\",\n",
       "       \"['memecoin', 'crypto']\", \"['Metaverse', 'GameFi', 'PlayToEarn']\",\n",
       "       \"['GameFi']\", \"['Peloton']\", \"['DeFi']\",\n",
       "       \"['Metaverse', 'PlayToEarn']\", \"['DeFi', 'DeFi3']\",\n",
       "       \"['Layer1', 'DeFi', 'GameFi', 'Metaverse', 'PlayToEarn']\",\n",
       "       \"['stock', 'crypto']\", \"['FF']\", \"['NFTs', 'NFT']\", \"['GetDEFIT']\",\n",
       "       \"['ECB']\", \"['DeFi', 'DEX']\", \"['Fed']\", \"['inflation']\",\n",
       "       \"['stablecoin']\", \"['NFT', 'Bitcoin', 'NFTseason']\",\n",
       "       \"['BREAKING']\", \"['Bitcoin', 'BTFD']\", \"['BTFD']\",\n",
       "       \"['JAGUAR', 'LANDROVER']\", \"['stablecoin', 'crypto']\",\n",
       "       \"['metaverse']\", \"['altcoins', 'Bitcoin']\", \"['altcoins']\",\n",
       "       \"['Layer1', 'Layer2', 'ZKrollups', 'GameFi', 'DeFi', 'Metaverse']\",\n",
       "       \"['alts']\", \"['inflation', 'ECB']\", \"['DeFit']\",\n",
       "       \"['WAGMI', 'Bitcoin']\", \"['Launchpad']\", \"['Metaverse']\",\n",
       "       \"['launchpad', 'crypto']\", \"['launchpad', 'Fantom']\",\n",
       "       \"['GameStop']\", \"['ff']\", \"['crypto', 'alts', 'cryptotrading']\",\n",
       "       \"['MeTaVeRsE']\", \"['Bitcoin', 'cryptotrading', 'BitcoinCrash']\",\n",
       "       \"['referencetothewhole']\", \"['Signal']\", \"['Ethereum']\",\n",
       "       \"['Germany', 'Italy', 'Spain']\", \"['BareShelvesBiden']\",\n",
       "       \"['sticksoutforTeddy']\", \"['ECB', 'inflation']\",\n",
       "       \"['Metaverse', 'PlayToEarn', 'GameFi', 'P2E']\", \"['PlayToEarn']\",\n",
       "       \"['DuZ']\", \"['MOASS']\", \"['Germany', 'inflation']\",\n",
       "       \"['hopium', 'Redenial']\",\n",
       "       \"['Layer1', 'parachain', 'blockchain', 'Metaverse']\", \"['hopium']\",\n",
       "       \"['AusOpen']\", \"['PlayToEarn', 'blockchain']\",\n",
       "       \"['Germany', 'inflation', 'France', 'Italy', 'Spain']\",\n",
       "       \"['BlackRock']\", \"['cryptos']\", \"['blockchain']\", \"['carbon']\",\n",
       "       \"['Germany', 'China']\", \"['PORTX', 'Poolz']\",\n",
       "       \"['PMSIDontWantToOverreactBUT']\",\n",
       "       \"['crypto', 'DeFi', 'Metaverse', 'Layer1', 'PlayToEarn']\",\n",
       "       \"['ngmi']\", \"['oil']\", \"['CrYpTo', 'StableCoin']\",\n",
       "       \"['crypto', 'Bitcoin']\", \"['keepingitreal']\", \"['StableCoin']\",\n",
       "       \"['advicetoliveby']\", \"['Germany', 'ZIRP']\", \"['Goldman']\",\n",
       "       \"['PlayToEarn', 'Fantom', 'Launchpad']\",\n",
       "       \"['altcoins', 'defi', 'layer1', 'PlayToEarn']\", \"['NGMI']\",\n",
       "       \"['Cardano']\", \"['crash']\", \"['nflx']\", \"['Japan']\",\n",
       "       \"['Bitcoin', 'Ethereum']\", \"['Germany', 'Ukraine']\",\n",
       "       \"['Gold', 'Bitcoin']\", \"['WEF22']\", \"['gold', 'Bitcoin']\",\n",
       "       \"['BITCOIN']\", \"['altcoin']\", \"['Ukraine', 'Russia']\", \"['NQ']\",\n",
       "       \"['Inflation']\", \"['Russia', 'Ukraine']\", \"['Bitcoin', 'Etherum']\",\n",
       "       \"['Oil']\", \"['NFT', 'NFTartists', 'nftart']\", \"['Gold']\",\n",
       "       \"['DoorDash']\", \"['cryptobanter']\",\n",
       "       \"['crypto', 'TeslaStock', 'BTC']\", \"['SPAC']\", \"['EXPOSED']\",\n",
       "       \"['Microsoft']\", \"['Italy']\", \"['crypto', 'altcoins']\",\n",
       "       \"['ES', 'SPX']\", \"['FreedomConvoy']\", \"['Austria']\",\n",
       "       \"['trashtalk', 'loveyoureally']\",\n",
       "       \"['Austria', 'Apple', 'Microsoft', 'Amazon']\", \"['PaidInBitcoin']\",\n",
       "       \"['ECB', 'Eurozone', 'Fed']\", \"['ETF']\",\n",
       "       \"['Bitcoin', 'Bitcoin', 'Bitcoin', 'Bitcoin', 'Bitcoin']\",\n",
       "       \"['Austria', 'Germany']\", \"['ECB', 'Japan']\",\n",
       "       \"['PlayToEarn', 'Metaverse']\", \"['Alphabet']\", \"['Facebook']\",\n",
       "       \"['Eurozone', 'inflation', 'ECB']\", \"['ECB', 'Austria']\",\n",
       "       \"['positivevibes']\", \"['DeleteFacebook']\", \"['Euro', 'ECB']\",\n",
       "       \"['Bitcoin', 'BTC']\", \"['5080Rule']\", \"['inflation', 'Amazon']\",\n",
       "       \"['Binance']\", \"['Amazon']\", \"['RTY_F', 'RTY_F']\", \"['launchpad']\",\n",
       "       \"['Amazon', 'Facebook']\", \"['FANGMAN', 'Amazon', 'Facebook']\",\n",
       "       \"['Austria', 'inflation', 'Germany']\", \"['oilprice']\",\n",
       "       \"['NFT', 'metaverse', 'NFTs', 'crypto']\", \"['NFT', 'crypto']\",\n",
       "       \"['send']\", \"['simps']\", \"['NFT']\", \"['ECB', 'Greece']\",\n",
       "       \"['Italy', 'ECB']\", \"['Bitcoin', 'Ether']\", \"['LightningNetwork']\",\n",
       "       \"['respectrisk']\", \"['Nodes']\", \"['GetBoosted']\",\n",
       "       \"['Crypto', 'Banking', 'Banks', 'Bitcoin', 'Cryptocurrency']\",\n",
       "       \"['Spain', 'Bitcoin']\", \"['shitcoin', 'crypto']\",\n",
       "       \"['FF', 'crypto']\", \"['Delivery']\", \"['NFT', 'Metaverse']\",\n",
       "       \"['Stablecoin', 'Cardano', 'CardanoCommunity', 'CardanoADA']\",\n",
       "       \"['Russia']\", \"['Fed', 'ECB', 'BoJ']\",\n",
       "       \"['NFT', 'NFTGame', 'NFTGaming', 'Metaverse', 'Petaverse']\",\n",
       "       \"['NFT', 'NFTs', 'NFTCommunity', 'NFTProject']\", \"['NFTs']\",\n",
       "       \"['Twitter']\", \"['Germany', 'Russia']\", \"['Ukraine']\",\n",
       "       \"['NFT', 'NFTs', 'NFTGiveaway', 'PlayToEarn']\", \"['inversebrah']\",\n",
       "       \"['Cryoto']\", \"['PivotMIA']\", \"['Oil', 'Russia']\",\n",
       "       \"['NFT', 'NFTs', 'NFTCommunity', 'NFTGame']\",\n",
       "       \"['NFT', 'NFTs', 'NFTCommunity', 'NFTGiveaways']\", \"['SuperBowl']\",\n",
       "       \"['Stablecoin', 'crypto']\", \"['Carbon']\", \"['SPX', 'ES']\",\n",
       "       \"['math']\", \"['Altseason']\", \"['Gold', 'Russia']\",\n",
       "       \"['ARKK', 'cathiewood']\", \"['France']\", \"['Palantir']\",\n",
       "       \"['Fed', 'ECB']\", \"['breaking']\", \"['Iraq', 'oil']\",\n",
       "       \"['Russia', 'gold']\", \"['memecoin', 'Crypto']\", \"['BreakingNews']\",\n",
       "       \"['XRP']\", \"['SPX']\", \"['oil', 'Russia', 'Ukraine']\",\n",
       "       \"['Gold', 'Ukraine']\", \"['ECB', 'Ukraine']\",\n",
       "       \"['Russia', 'oil', 'Ukraine']\", \"['NFT', 'NFTGiveaways', 'NFTs']\",\n",
       "       \"['Gold', 'Russia', 'Ukraine']\", \"['Eurozone', 'inflation']\",\n",
       "       \"['FazeUp']\", \"['brownandsad']\", \"['backfirerally']\",\n",
       "       \"['Germany', 'Russia', 'France', 'Italy', 'Austria']\",\n",
       "       \"['rollups']\", \"['crypto', 'Metaverse', 'PlayToEarn']\",\n",
       "       \"['Metaverse', 'PlayToEarn', 'crypto']\",\n",
       "       \"['BP', 'Rosneft', 'Ukraine']\", \"['memecoins']\", \"['Ruble']\",\n",
       "       \"['altcoins', 'crypto']\", \"['Russia', 'Bitcoin']\",\n",
       "       \"['Italys', 'inflation', 'Spain', 'France']\",\n",
       "       \"['ECB', 'inflation', 'Eurozone']\", \"['Bitcoin', 'Russia']\",\n",
       "       \"['Bitcoin', 'crypto']\", \"['Russia', 'Apple', 'Ukraine']\",\n",
       "       \"['XAPO']\", \"['Bundesbank']\", \"['Russia', 'Oil']\",\n",
       "       \"['Gas', 'Russia']\", \"['beer']\", \"['wheat', 'Russia', 'Ukraine']\",\n",
       "       \"['stagflation']\", \"['Wheat']\", \"['PlayToEarn', 'Fantom']\",\n",
       "       \"['Cronos', 'CRO', 'crofam', 'Metaverse']\", \"['altseason']\",\n",
       "       \"['Ukraine', 'Amazon']\", \"['Russia', 'China']\",\n",
       "       \"['Russia', 'oil']\", \"['Inflation', 'ECB']\",\n",
       "       \"['layer2', 'blockchain', 'rollups', 'Ethereum']\",\n",
       "       \"['crypto', 'NFTs']\", \"['Euro']\", \"['Nickel']\",\n",
       "       \"['Ukraine', 'inflation']\", \"['Nickel', 'Ukraine']\",\n",
       "       \"['FUD', 'bearpropoganda']\", \"['AppleEvent']\",\n",
       "       \"['Oil', 'Ukraine']\", \"['Crypto', 'Bitcoin']\",\n",
       "       \"['respect', 'love']\", \"['inflation', 'Russia', 'Ukraine']\",\n",
       "       \"['crypto', 'forex']\", \"['CRO', 'crofam', 'cronoschain']\",\n",
       "       \"['Ref']\", \"['terraluna', 'LUNAtics']\", \"['LUNAtics']\",\n",
       "       \"['ECB', 'Germany']\", \"['ECB', 'Inflation']\",\n",
       "       \"['CardanoCommunity']\", \"['Inflation', 'oil']\",\n",
       "       \"['China', 'Russia']\", \"['arbitrage']\", \"['crypto', 'DeFi']\",\n",
       "       \"['Ukraine', 'stagflation', 'ECB']\", \"['cryptopuke']\",\n",
       "       \"['Germany', 'inflation', 'Ukraine']\", \"['wagmi']\", \"['KOMPETE']\",\n",
       "       \"['memecoin']\", \"['FOMC']\", \"['ad']\", \"['Fed', 'inflation']\",\n",
       "       \"['PlayToEarn', 'Move2Earn']\", \"['TOTAL2', 'BTC']\", \"['blessed']\",\n",
       "       \"['Metaverse', 'PlayToEarn', 'yieldfarm', 'NFT']\", \"['P2E']\",\n",
       "       \"['yieldfarm']\", \"['UFC']\", \"['Terra']\", \"['crypto', 'crypto']\",\n",
       "       \"['Germany', 'oil']\", \"['ECB', 'Eurozone']\",\n",
       "       \"['TMXCGB', 'TMXBAX']\", \"['YachtWatch']\", \"['DuZ200']\",\n",
       "       \"['Russia', 'Ruble']\", \"['Populism', 'Germany']\",\n",
       "       \"['BoJ', 'Japan']\", \"['FF', 'Crypto']\", \"['Bayer']\",\n",
       "       \"['OscarsStillSoWhite']\", \"['Oscars']\",\n",
       "       \"['willsmith', 'chrisrock', 'oscars']\", \"['WillSmith']\",\n",
       "       \"['OSCARS']\", \"['GotGoldorRubles']\",\n",
       "       \"['boughtavocadocantbuyahouse']\",\n",
       "       \"['PlayToEarn', 'Metaverse', 'STEPN', 'Web3']\", \"['Baidu']\",\n",
       "       \"['ES_F']\", \"['ES_F', 'ES_F']\", \"['IMF', 'Russia', 'Ukraine']\",\n",
       "       \"['CRYPTO']\", \"['Eurozone', 'Spain', 'Germany', 'inflation']\",\n",
       "       \"['Crypto', 'alts']\", \"['Uniswap']\", \"['Japan', 'ECB', 'Fed']\",\n",
       "       \"['Hungary']\", \"['EVs']\", \"['Germany', 'ECB']\", \"['BSC']\",\n",
       "       \"['ECB', 'Gold']\", \"['Layer1', 'PlayToEarn', 'Metaverse']\",\n",
       "       \"['ECB', 'stagflation', 'slowflation']\",\n",
       "       \"['launchpad', 'Binance']\", \"['hackathons']\", \"['ECB', 'Italy']\",\n",
       "       \"['s']\", \"['Germany', 'inflation', 'ECB']\", \"['neverselling']\",\n",
       "       \"['crypto', 'nft', 'nfts']\", \"['France', 'Germany']\",\n",
       "       \"['Crypto', 'memecoin']\", \"['deathbyathousandtweets']\", \"['gold']\",\n",
       "       \"['inflation', 'Russia']\", \"['DeFi', 'algotrading']\", \"['ES']\",\n",
       "       \"['metaverse', 'NFT', 'L1']\",\n",
       "       \"['Metaverse', 'playtoearn', 'GameFi']\",\n",
       "       \"['Lithuania', 'inflation', 'ECB']\", \"['GameFi', 'PlayToEarn']\",\n",
       "       \"['Russia', 'default']\", \"['Germany', 'Russia', 'Ukraine']\",\n",
       "       \"['gas', 'Russia']\", \"['btc', 'ltc', 'eth', 'mrx']\",\n",
       "       \"['inflation', 'Japan']\", \"['Corn', 'Russia']\",\n",
       "       \"['FitFi', 'GameFi', 'FitFi', 'Move2Earn']\",\n",
       "       \"['STEPN', 'Move2Earn', 'MoveToEarn', 'M2E', 'NFT']\", \"['Radix']\",\n",
       "       \"['MoveToEarn']\", \"['NFLX', 'Netflix']\", \"['Netflix']\",\n",
       "       \"['Germany', 'Inflation']\",\n",
       "       \"['Fed', 'Turkey', 'Egypt', 'Ukraine']\", \"['meow']\",\n",
       "       \"['BAX', 'CGB', 'CANADIANBOND']\",\n",
       "       \"['STEPN', 'MoveToEarn', 'Move2Earn']\",\n",
       "       \"['NFTs', 'NFTs', 'GameFi']\", \"['STEPN']\",\n",
       "       \"['Netflix', 'Facebook']\", \"['Tesla', 'Twitter']\",\n",
       "       \"['chubbishop']\", \"['Germany', 'Twitter']\",\n",
       "       \"['ILV', 'Metaverse', 'GameFi', 'PlayToEarn']\",\n",
       "       \"['STEPN', 'MoveToEarn']\", \"['Euro', 'Russia']\", \"['Bitconi']\",\n",
       "       \"['Inflation', 'Germany', 'oil', 'Ukraine']\", \"['Eurozone']\",\n",
       "       \"['Bitcoin', 'ETH']\", \"['movetoearn']\",\n",
       "       \"['crypto', 'alts', 'hodl']\", \"['MoveToEarn', 'PlayToEarn']\",\n",
       "       \"['totalreturnsectorindexfutures', 'comingsoon', 'financialmarkets']\",\n",
       "       \"['WAGBO']\", \"['STEPN', 'NFT', 'Crypto']\",\n",
       "       \"['bringbackthebtc500']\", \"['resistance']\", \"['Solana']\",\n",
       "       \"['paradigmshift2022']\", \"['NFA']\", \"['PlayToEarn', 'crypto']\",\n",
       "       \"['RELAX']\", \"['BTC', 'Coinbase']\", \"['Bitcoin', 'Altcoins']\",\n",
       "       \"['Italy', 'Germany']\", \"['AllesAufAktien']\", \"['crypto', 'luna']\",\n",
       "       \"['Volatility']\", \"['STEPN', 'Bitcoin', 'Crypto']\",\n",
       "       \"['Bitcoin', 'altcoins']\", \"['FTXUSD']\", \"['Takeunder']\",\n",
       "       \"['crypto', 'stablecoins']\", \"['crypto', 'Ethereum', 'layer2']\",\n",
       "       \"['ZKrollups']\", \"['Luna']\", \"['Coinbase']\",\n",
       "       \"['LUNAtic', 'Lunacrash']\", \"['Cryptocrash', 'Bitcoin']\",\n",
       "       \"['gas', 'Ukraine']\", \"['crypto', 'Tradingview']\",\n",
       "       \"['altcoin', 'alts']\", \"['layer2', 'ZKRollup', 'Bitcoin']\",\n",
       "       \"['launchpads']\", \"['BTC', 'BTC']\", \"['stagflation', 'inflation']\",\n",
       "       \"['Japan', 'inflation']\", \"['TerraIsTerrable']\", \"['Lunatics']\",\n",
       "       \"['Crypto', 'Tradingview']\", \"['5111GT']\",\n",
       "       \"['Bitcoin', 'Cryptocrash', 'Bitcoin2022']\",\n",
       "       \"['Venezuela', 'Davos2022']\",\n",
       "       \"['Germany', 'stagflation', 'inflation']\",\n",
       "       \"['Switzerland', 'inflation', 'WEF2022', 'Davos']\",\n",
       "       \"['WEF2022', 'Ukraine']\", \"['WEF2022', 'inflation']\",\n",
       "       \"['wef2022']\", \"['inflation', 'WEF2022']\",\n",
       "       \"['Davos', 'WEF22', 'recession']\",\n",
       "       \"['wef22', 'Russia', 'Ukraine']\", \"['Euro', 'ECB', 'wef22']\",\n",
       "       \"['Spain', 'wef22']\", \"['wef22', 'Spain']\",\n",
       "       \"['China', 'Russia', 'wef22']\", \"['wef22', 'China', 'Russia']\",\n",
       "       \"['wef22']\", \"['Davos', 'WEF22']\", \"['Davos']\", \"['ECB', 'wef22']\",\n",
       "       \"['Crypto', 'Layer1', 'Layer2', 'GameFi', 'Metaverse', 'Privacy']\",\n",
       "       \"['STEPN', 'MoveToEarn', 'crypto']\", \"['Bitcoin', 'wef22']\",\n",
       "       \"['wef22', 'oil']\", \"['Russia', 'Ukraine', 'wef22']\",\n",
       "       \"['Germany', 'Russia', 'China']\", \"['WAGMI', 'GoodVibesOnly']\",\n",
       "       \"['Wheat', 'Russia']\", \"['crypro']\",\n",
       "       \"['ff', 'crypto', 'TradingView']\", \"['China', 'Germany']\",\n",
       "       \"['Layer2']\", \"['inflation', 'Eurozone', 'Spain']\",\n",
       "       \"['Italy', 'inflation', 'Germany', 'Spain']\",\n",
       "       \"['inflation', 'Germany', 'Spain', 'ECB']\", \"['layer2']\",\n",
       "       \"['Croatia']\", \"['scumbags']\", \"['Turkey', 'inflation']\",\n",
       "       \"['Layer2', 'crypto']\", \"['Arbitrum', 'Optimism']\", \"['wine']\",\n",
       "       \"['WWDC22']\", \"['BuzzFeed']\", \"['LGR']\", \"['India']\",\n",
       "       \"['Gold', 'inflation']\", \"['COM']\",\n",
       "       \"['ECB', 'Germany', 'inflation']\", \"['DXY', 'SPX']\",\n",
       "       \"['Fragmentation', 'Italy']\", \"['Bitcoin', 'inflation']\",\n",
       "       \"['petme']\", \"['cryptoscam', 'cryptocrash', 'lockthemup']\",\n",
       "       \"['next']\", \"['fed']\", \"['fakemoney']\",\n",
       "       \"['Italy', 'ECB', 'inflation']\", \"['hg_f']\", \"['insolvent']\",\n",
       "       \"['growth']\", \"['BTC', 'ETH']\", \"['kanpaiclaw']\",\n",
       "       \"['Inflation', 'Germany']\", \"['recession', 'Eurozone']\",\n",
       "       \"['BITCOIN', 'BITCOIN']\", \"['HG_F']\", \"['recession']\",\n",
       "       \"['Zalando']\", \"['blackmail']\", \"['prolifegang']\",\n",
       "       \"['contagioncontainment']\",\n",
       "       \"['Germany', 'inflation', 'recession']\",\n",
       "       \"['ECB', 'inflation', 'Italy']\", \"['Coinbase', 'crypto']\",\n",
       "       \"['BREAKING', 'OOTT']\", \"['winning']\",\n",
       "       \"['totalreturnsectorindexfutures', 'financialmarkets']\",\n",
       "       \"['RUSSIA', 'BREAKING']\", \"['Spain']\",\n",
       "       \"['Germany', 'repression', 'inflation']\", \"['Bitcoin', 'Netflix']\",\n",
       "       \"['crypto', 'Layer2']\", \"['Russia', 'China', 'India']\",\n",
       "       \"['Germany', 'recession']\", \"['playtoearn', 'metaverse']\",\n",
       "       \"['Euro', 'Germany']\", \"['Copper']\", \"['oil', 'inflation']\",\n",
       "       \"['gamefi']\", \"['notfinancialadvice']\", \"['wagmi', 'Bitcoin']\",\n",
       "       \"['ZB_F', 'CL_F', 'ES_F']\", \"['Eurozone', 'Italy']\",\n",
       "       \"['NewProfilePic']\", \"['Italy', 'Eurozone']\",\n",
       "       \"['Netflix', 'Bitcoin']\", \"['winner']\", \"['Bitcoin', 'altcoin']\",\n",
       "       \"['Italy', 'Germany', 'France']\", \"['Layer2', 'Ethereum']\",\n",
       "       \"['JCPOA']\", \"['BAX']\", \"['TSLA']\", \"['crypto', 'nft']\",\n",
       "       \"['Italy', 'Enel', 'Eni', 'Ferrari', 'Intesa']\",\n",
       "       \"['googletrends']\", \"['Layer1', 'Layer2', 'ZKrollups']\",\n",
       "       \"['NotFinancialAdvice', 'Shill', 'PastPerformanceIsNotIndicativeOfFutureResults']\",\n",
       "       \"['Italy', 'Euro', 'Germany', 'Spain']\", \"['ES_F', 'NQ_F']\",\n",
       "       \"['Uniper']\", \"['EnergyCrisis']\", \"['Recession']\",\n",
       "       \"['Italy', 'inflation']\", \"['longtermdebtcycle']\",\n",
       "       \"['NFT', 'Polarys']\", \"['Turkey', 'Russia']\", \"['BItcoin']\",\n",
       "       \"['btc']\", \"['crypto', 'layer2', 'Arbitrum']\",\n",
       "       \"['Eurozone', 'ECB', 'inflation']\",\n",
       "       \"['launchpad', 'airdrop', 'NFT']\", \"['india']\", \"['airdrop']\",\n",
       "       \"['playtoearn']\", \"['Polarys']\", \"['Energy', 'Germany']\",\n",
       "       \"['Solana', 'Polygon']\", \"['MA200']\", \"['Reply']\", \"['layer1']\",\n",
       "       \"['Gazprom']\", \"['Rollux', 'ZKrollups']\", \"['LINOecon']\",\n",
       "       \"['USDT', 'Tether']\", \"['PolarBears', 'METIS']\", \"['Germamny']\",\n",
       "       \"['FF', 'Bitcoin']\", \"['Avalanche', 'Bitcoin']\",\n",
       "       \"['Spain', 'inflation']\", \"['NFT', 'NFTs']\", \"['DXY']\", \"['ref']\",\n",
       "       \"['grateful']\", \"['kissofdeath']\",\n",
       "       \"['sponsored', 'ad', 'paidpartnership']\",\n",
       "       \"['butreallyfrankifyouwanttosponsortheaboveposthitmydmsjustkiddingloveyouglwiththemint']\",\n",
       "       \"['BIGBREAKING']\", \"['deindustrialization']\", \"['ARKMATH']\",\n",
       "       \"['layer2', 'Arbitrum']\", \"['alts', 'crypto']\", \"['tequilabros']\",\n",
       "       \"['nantucket']\", \"['ETHMerge', 'Arbitrum']\", \"['FutureProofAC']\",\n",
       "       \"['Ether', 'Bitcoin']\", \"['ETHMerge']\", \"['LUNA', 'BIGBREAKING']\",\n",
       "       \"['jordans']\", \"['EthereumMerge']\", \"['Etherum']\", \"['smart']\",\n",
       "       \"['Volkswagen']\", \"['China', 'Yuan']\", \"['inflation', 'Germany']\",\n",
       "       \"['Porsche']\", \"['Bitcoin', 'Layer1']\", \"['REF']\",\n",
       "       \"['Euro', 'inflation']\", \"['ZebuLive22']\", \"['goodpeople']\",\n",
       "       \"['XiJinping', 'BigBreaking']\", \"['Germany', 'Retailcalypse']\",\n",
       "       \"['fanduelisfun']\", \"['Germany', 'Italy']\", \"['currencycrash']\",\n",
       "       \"['GBPUSD']\", \"['Gas', 'Ukaine']\", \"['BigBreaking']\",\n",
       "       \"['Germany', 'inflation', 'inflation']\", \"['mindset']\", \"['AD']\",\n",
       "       \"['options']\", \"['CreditSuisse']\", \"['Germany', 'Euro']\",\n",
       "       \"['BiTcOiN']\", \"['ffs']\", \"['CrimeanBridge']\", \"['liqduity']\",\n",
       "       \"['Arbitrum', 'Layer2']\", \"['lasereyesbelow20k']\", \"['fakenews']\",\n",
       "       \"['Germany', 'stagflation']\", \"['Vonovia']\",\n",
       "       \"['Layer2', 'Arbitrum']\", \"['WalkAway']\", \"['PeakChina']\",\n",
       "       \"['Arbitrum']\", \"['crypto', 'NFT']\", \"['Gas']\", \"['timestamps']\",\n",
       "       \"['Twitter', 'Starlink', 'Russia', 'Ukraine']\",\n",
       "       \"['airdrops', 'crypto']\", \"['FreeAssange', 'FreeRoss']\",\n",
       "       \"['China', 'XiJinping']\", \"['Germany', 'gas']\", \"['Airdrop']\",\n",
       "       \"['Meta']\", \"['FreeAssange']\",\n",
       "       \"['crypto', 'Arbitrum', 'Layerzero', 'StarkNet']\",\n",
       "       \"['CHARTS', 'OPTIONS']\", \"['BOC']\", \"['shitcoins']\",\n",
       "       \"['Microsoft', 'Alphabet', 'Meta']\", \"['discipline']\",\n",
       "       \"['China', 'Amazon']\", \"['Arbitrum', 'StarkNet', 'zkSync']\",\n",
       "       \"['Germany', 'inflation', 'Italy', 'Spain']\", \"['defi']\",\n",
       "       \"['prioritize']\", \"['crypto', 'RealYield']\",\n",
       "       \"['Arbitrum', 'Avalanche']\", \"['Eurozone', 'Inflation']\",\n",
       "       \"['Arbitrum', 'StarkNet']\", \"['Optionstrategy']\", \"['Litecoin']\",\n",
       "       \"['inflationary']\", \"['MMT', 'debt']\", \"['Facebook', 'Meta']\",\n",
       "       \"['realyield']\", \"['cryptocrash']\",\n",
       "       \"['Arbitrum', 'StarkNet', 'ZkSync']\", \"['Tesla', 'Twittermess']\",\n",
       "       \"['Binance', 'FTX']\", \"['USElection']\", \"['VA02']\",\n",
       "       \"['crypto', 'alts']\", \"['inflation', 'Ether', 'Bitcoin']\",\n",
       "       \"['crypto', 'Arbitrum']\", \"['Fed', 'pivot']\", \"['COP27']\",\n",
       "       \"['SoftBank']\", \"['Germany', 'Eurozone']\", \"['Bitcoin', 'GBTC']\",\n",
       "       \"['HEDGING']\", \"['cypto', 'Arbitrum', 'zkSync', 'StarkNet']\",\n",
       "       \"['bondmarket']\", \"['Solana', 'Binance']\", \"['lifehack']\",\n",
       "       \"['Layer2', 'Arbitrum', 'StarkNet']\", \"['checkhisharddrive']\",\n",
       "       \"['trump']\", \"['recession', 'hopium']\", \"['RIPTwitter']\",\n",
       "       \"['Germany', 'inflation', 'Peakinflation']\",\n",
       "       \"['Arbitrum', 'zkSync', 'StarkNet']\",\n",
       "       \"['crypto', 'Arbitrum', 'StarkNet']\", \"['Grayscale', 'Bitcoin']\",\n",
       "       \"['ARKK']\", \"['DeffnerundZschaepitz']\", \"['Arbitrum', 'zkSync']\",\n",
       "       \"['Oil', 'China']\", \"['NewNFTProfilePic']\", \"['Apple', 'China']\",\n",
       "       \"['Freespeech']\", \"['Apple', 'Twitter']\",\n",
       "       \"['Germany', 'wages', 'inflation']\", \"['recession', 'recession']\",\n",
       "       \"['ZT_F', 'ES_F']\", \"['hopium', 'recession']\",\n",
       "       \"['crypto', 'launchpads']\", \"['RUSSIA']\",\n",
       "       \"['crypto', 'launchpad']\", \"['EV']\", \"['ABC2022']\",\n",
       "       \"['Bitcoin', 'Ethereum', 'Cardano', 'Solana', 'MATIC', 'DOGE', 'BNB', 'XRP']\",\n",
       "       \"['MORSPA']\", \"['RadFi2022']\", \"['Germany', 'Wirecard']\",\n",
       "       \"['Metaverse', 'P2E']\", \"['Metis']\", \"['CryptoGiveaway']\",\n",
       "       \"['OptionsTrading']\", \"['FIFAWORLDCUP']\", \"['cryptosoupgroup']\",\n",
       "       \"['SAFU']\", \"['Altcoins']\", \"['Options']\", \"['finance']\",\n",
       "       \"['crypto', 'tokenomics']\", \"['dominoeffect']\", \"['Greece']\",\n",
       "       \"['Coinbase', 'Dogecoin']\", \"['neverforget']\", \"['AAA']\",\n",
       "       \"['BinanceChristmas']\", \"['Notfinancialadvice']\",\n",
       "       \"['crypto', 'alts', 'crypto']\"], dtype=object)"
      ]
     },
     "metadata": {},
     "output_type": "display_data"
    }
   ],
   "source": [
    "display(data1['cashtags'].unique())\n",
    "display(data2['cashtags'].unique())\n",
    "display(data1['hashtags'].unique())\n",
    "display(data2['hashtags'].unique())"
   ]
  },
  {
   "cell_type": "code",
   "execution_count": 5,
   "metadata": {},
   "outputs": [],
   "source": [
    "#add empty columns 1min, 60min, 1day, 1week to data1 and data2\n",
    "data1['1min'] = ''\n",
    "data1['60min'] = ''\n",
    "data1['1day'] = ''\n",
    "data1['1week'] = ''\n",
    "data2['1min'] = ''\n",
    "data2['60min'] = ''\n",
    "data2['1day'] = ''\n",
    "data2['1week'] = ''\n",
    "#add them to the csv\n",
    "data1.to_csv('raw_data/twitter_1.csv', index=False)\n",
    "data2.to_csv('raw_data/twitter_2.csv', index=False)"
   ]
  },
  {
   "cell_type": "code",
   "execution_count": 6,
   "metadata": {},
   "outputs": [],
   "source": [
    "#breakdown list of cashtags and hashtags into individual columns\n",
    "data1['cashtags'] = data1['cashtags'].str.split(',')\n",
    "data1['hashtags'] = data1['hashtags'].str.split(',')\n",
    "data2['cashtags'] = data2['cashtags'].str.split(',')\n",
    "data2['hashtags'] = data2['hashtags'].str.split(',')"
   ]
  },
  {
   "cell_type": "code",
   "execution_count": 7,
   "metadata": {},
   "outputs": [
    {
     "data": {
      "text/plain": [
       "['BTC']     1996\n",
       "['SPY']     1596\n",
       "['ETH']     1298\n",
       "['QQQ']     1166\n",
       "['TSLA']    1089\n",
       "            ... \n",
       " 'IMAB'        1\n",
       " 'BUR']        1\n",
       " 'ANKR']       1\n",
       "['CAT'         1\n",
       " 'TGTX']       1\n",
       "Name: cashtags, Length: 6986, dtype: int64"
      ]
     },
     "metadata": {},
     "output_type": "display_data"
    },
    {
     "data": {
      "text/plain": [
       "['BTC']     2448\n",
       "['TSLA']    1163\n",
       " 'MSFT'      822\n",
       " 'NVDA'      803\n",
       " 'TSLA'      765\n",
       "            ... \n",
       "['KBE'         1\n",
       " 'XLF']        1\n",
       " 'ATRS'        1\n",
       "['LTUM'        1\n",
       "['VNO'         1\n",
       "Name: cashtags, Length: 5519, dtype: int64"
      ]
     },
     "metadata": {},
     "output_type": "display_data"
    },
    {
     "data": {
      "text/plain": [
       " 'Binance']     2860\n",
       "['BTC'          2531\n",
       "['USDT'         1949\n",
       "['ES_F']        1467\n",
       " 'Coinbase']    1333\n",
       "                ... \n",
       "['AMC']            1\n",
       "['Germany']        1\n",
       " 'Alts']           1\n",
       "['SAFU']           1\n",
       " 'ronin'           1\n",
       "Name: hashtags, Length: 1720, dtype: int64"
      ]
     },
     "metadata": {},
     "output_type": "display_data"
    },
    {
     "data": {
      "text/plain": [
       "['Bitcoin']               1476\n",
       "['crypto']                 412\n",
       "['Germany']                188\n",
       "['Germany'                  97\n",
       "['inflation']               93\n",
       "                          ... \n",
       "['GotGoldorRubles']          1\n",
       "['OSCARS']                   1\n",
       "['WillSmith']                1\n",
       " 'oscars']                   1\n",
       "['Notfinancialadvice']       1\n",
       "Name: hashtags, Length: 730, dtype: int64"
      ]
     },
     "metadata": {},
     "output_type": "display_data"
    }
   ],
   "source": [
    "#give me the sum of the total number of each individual cashtag and hashtag and sort them in descending order\n",
    "display(data1['cashtags'].explode().value_counts())\n",
    "display(data2['cashtags'].explode().value_counts())\n",
    "display(data1['hashtags'].explode().value_counts())\n",
    "display(data2['hashtags'].explode().value_counts())"
   ]
  },
  {
   "cell_type": "code",
   "execution_count": 8,
   "metadata": {},
   "outputs": [
    {
     "data": {
      "text/plain": [
       "['BTC']       1996\n",
       "['SPY']       1596\n",
       "['ETH']       1298\n",
       "['QQQ']       1166\n",
       "['TSLA']      1089\n",
       "['AAPL']       565\n",
       "['SPY'         497\n",
       "['SOL']        380\n",
       " 'QQQ'         379\n",
       "['LUNA']       318\n",
       "['NVDA']       308\n",
       "['IWM']        291\n",
       "['SPX']        284\n",
       "['AMZN']       275\n",
       " 'BTC']        262\n",
       " 'ETH']        246\n",
       "['AMD']        244\n",
       "['DXY']        243\n",
       "['VIX']        234\n",
       "['ETH'         225\n",
       "['BTC'         213\n",
       "['NFLX']       209\n",
       " 'IWM'         184\n",
       "['SQQQ']       179\n",
       " 'SPY'         172\n",
       "['OXY']        168\n",
       "['MSFT']       160\n",
       " 'AAPL'        155\n",
       "['META']       139\n",
       " 'QQQ']        138\n",
       "['TSLA'        138\n",
       "['XRP']        137\n",
       " 'TSLA'        136\n",
       "['LINK']       129\n",
       "['RBLX']       126\n",
       " 'BTC'         125\n",
       " 'SPX']        121\n",
       " 'IWM']        119\n",
       "['AVAX']       119\n",
       " 'SPY']        118\n",
       "['APE']        109\n",
       "['NEAR']       109\n",
       "['ETHBTC']     109\n",
       " 'ETH'         108\n",
       "['AAPL'        107\n",
       "['QNT']        106\n",
       "['FB']         105\n",
       "['TWTR']       103\n",
       "['ARKK']       101\n",
       "['ES']         101\n",
       "Name: cashtags, dtype: int64"
      ]
     },
     "metadata": {},
     "output_type": "display_data"
    },
    {
     "data": {
      "text/plain": [
       "['BTC']      2448\n",
       "['TSLA']     1163\n",
       " 'MSFT'       822\n",
       " 'NVDA'       803\n",
       " 'TSLA'       765\n",
       " 'AMZN'       737\n",
       "['AAPL']      703\n",
       " 'GOOGL'      580\n",
       " 'AAPL'       571\n",
       "['ETH']       568\n",
       "['AAPL'       559\n",
       "['TWTR']      527\n",
       "['SPX']       489\n",
       "['AMZN']      477\n",
       " 'META'       455\n",
       " 'AMD'        449\n",
       " 'UNH'        411\n",
       " 'BRK.B'      402\n",
       " 'FB'         392\n",
       " 'TSM'        381\n",
       " 'JNJ'        369\n",
       " 'F'          367\n",
       " 'V'          354\n",
       " 'QQQ']       351\n",
       "['SPY'        322\n",
       "['DIS']       314\n",
       " 'CCL'        299\n",
       "['SOL']       297\n",
       "['BTC'        296\n",
       " 'PLTR'       285\n",
       "['TSLA'       274\n",
       " 'BAC'        268\n",
       "['META']      268\n",
       "['SPY']       263\n",
       " 'INTC'       263\n",
       " 'NIO'        256\n",
       " 'AAL'        250\n",
       "['NVDA']      237\n",
       " 'SPY'        230\n",
       "['NFLX']      226\n",
       " 'BTC']       226\n",
       " 'QQQ'        210\n",
       "['QQQ']       208\n",
       "['COIN']      203\n",
       " 'XOM'        200\n",
       " 'ETH']       200\n",
       " 'OXY'        185\n",
       "['GOOGL']     184\n",
       " 'T'          182\n",
       "['MSFT']      179\n",
       "Name: cashtags, dtype: int64"
      ]
     },
     "metadata": {},
     "output_type": "display_data"
    },
    {
     "data": {
      "text/plain": [
       " 'Binance']       2860\n",
       "['BTC'            2531\n",
       "['USDT'           1949\n",
       "['ES_F']          1467\n",
       " 'Coinbase']      1333\n",
       "['ETH'            1011\n",
       "['BUSD'            894\n",
       " 'FTX']            683\n",
       " 'Bitfinex']       662\n",
       "['USDC'            626\n",
       " 'Gemini']         604\n",
       "['Bitcoin']        604\n",
       "['BTC']            532\n",
       "['earnings']       488\n",
       "['USDC']           464\n",
       " 'Huobi']          445\n",
       " 'Xapo']           332\n",
       "['USDT']           307\n",
       "['SPY']            271\n",
       " 'CryptoCom']      268\n",
       " 'Binance'         260\n",
       "['ETH']            246\n",
       "['TRX'             237\n",
       "['QQQ']            232\n",
       "['TSLA']           208\n",
       "['Teamwork']       205\n",
       "['btc'             205\n",
       "['btc']            173\n",
       " 'Coinbase'        171\n",
       " 'eth']            151\n",
       "['TEAMSHARDI']     141\n",
       "['IWM']            130\n",
       " 'OKEx']           128\n",
       "['darkpool']       128\n",
       "['AAPL']           127\n",
       " 'Gemini'          116\n",
       "['Bitcoin'         114\n",
       "['GUSD'            111\n",
       " 'Bitstamp']       110\n",
       " 'Huobi'           106\n",
       " 'Xapo'            104\n",
       "['Ethereum']        96\n",
       "['AMD']             92\n",
       "['NVDA']            90\n",
       "['MATIC'            89\n",
       " 'USDC']            88\n",
       " 'Kraken'           86\n",
       "['BNB'              86\n",
       "['XRP']             85\n",
       " 'Kucoin']          83\n",
       "Name: hashtags, dtype: int64"
      ]
     },
     "metadata": {},
     "output_type": "display_data"
    },
    {
     "data": {
      "text/plain": [
       "['Bitcoin']                         1476\n",
       "['crypto']                           412\n",
       "['Germany']                          188\n",
       "['Germany'                            97\n",
       "['inflation']                         93\n",
       "['totalreturnsectorindexfutures'      90\n",
       " 'financialmarkets']                  90\n",
       " 'inflation']                         87\n",
       "['ECB']                               70\n",
       "['Crypto']                            62\n",
       "['Bitcoin'                            61\n",
       "['Russia']                            58\n",
       "['Fed']                               52\n",
       " 'Bitcoin']                           48\n",
       " 'ECB']                               44\n",
       " 'comingsoon'                         44\n",
       "['crypto'                             43\n",
       " 'Ukraine']                           43\n",
       "['ECB'                                41\n",
       "['cryptobanter']                      38\n",
       "['bitcoin']                           36\n",
       " 'crypto']                            36\n",
       "['recession']                         35\n",
       "['FF']                                35\n",
       "['Italy']                             34\n",
       "['China']                             34\n",
       "['BREAKING']                          33\n",
       "['Russia'                             29\n",
       " 'Russia']                            26\n",
       "['Twitter']                           22\n",
       "['Italy'                              21\n",
       "['BITCOIN']                           21\n",
       "['Tesla']                             21\n",
       "['altcoins']                          21\n",
       "['NFT']                               21\n",
       " 'inflation'                          20\n",
       "['SPX'                                18\n",
       "['SPX']                               18\n",
       " 'ES']                                18\n",
       "['Metaverse'                          18\n",
       "['inflation'                          17\n",
       "['Euro']                              17\n",
       " 'PlayToEarn']                        16\n",
       " 'PlayToEarn'                         15\n",
       " 'Germany']                           15\n",
       "['ff']                                15\n",
       "['Fed'                                15\n",
       "['Ukraine']                           14\n",
       " 'Metaverse'                          13\n",
       "['NFT'                                13\n",
       "Name: hashtags, dtype: int64"
      ]
     },
     "metadata": {},
     "output_type": "display_data"
    }
   ],
   "source": [
    "#give me a list of top 50 cashtags and hashtags\n",
    "display(data1['cashtags'].explode().value_counts().head(50))\n",
    "display(data2['cashtags'].explode().value_counts().head(50))\n",
    "display(data1['hashtags'].explode().value_counts().head(50))\n",
    "display(data2['hashtags'].explode().value_counts().head(50))"
   ]
  },
  {
   "cell_type": "code",
   "execution_count": 9,
   "metadata": {},
   "outputs": [],
   "source": [
    "#add the cashtags from data1 to data2, add the hashtags from data1 to data2\n",
    "data2['cashtags'] = data2['cashtags'] + data1['cashtags']\n",
    "data2['hashtags'] = data2['hashtags'] + data1['hashtags']"
   ]
  },
  {
   "cell_type": "code",
   "execution_count": 10,
   "metadata": {},
   "outputs": [],
   "source": [
    "#make a new csv top50 with the top 50 cashtags and hashtags\n",
    "top50 = pd.DataFrame()\n",
    "top50['cashtags'] = data2['cashtags'].explode().value_counts().head(50).index\n",
    "top50['hashtags'] = data2['hashtags'].explode().value_counts().head(50).index\n",
    "top50.to_csv('raw_data/top50.csv', index=False)"
   ]
  },
  {
   "cell_type": "code",
   "execution_count": 29,
   "metadata": {},
   "outputs": [
    {
     "name": "stderr",
     "output_type": "stream",
     "text": [
      "/var/folders/sd/p4tcs9gs0hn4nt45wd9f9q1w0000gn/T/ipykernel_4926/2437896836.py:2: FutureWarning: The default value of regex will change from True to False in a future version. In addition, single character regular expressions will *not* be treated as literal strings when regex=True.\n",
      "  list =  top50['cashtags'].str.replace('[', '').str.replace(']', '').str.replace(\"'\", '').str.replace(' ', '').str.split(',')\n"
     ]
    }
   ],
   "source": [
    "top50['cashtags'].tolist() \n",
    "list =  top50['cashtags'].str.replace('[', '').str.replace(']', '').str.replace(\"'\", '').str.replace(' ', '').str.split(',')"
   ]
  },
  {
   "cell_type": "code",
   "execution_count": 30,
   "metadata": {},
   "outputs": [
    {
     "data": {
      "text/plain": [
       "0       [BTC]\n",
       "1      [TSLA]\n",
       "2       [SPY]\n",
       "3       [ETH]\n",
       "4       [QQQ]\n",
       "5      [NVDA]\n",
       "6      [AAPL]\n",
       "7      [MSFT]\n",
       "8      [TSLA]\n",
       "9      [AMZN]\n",
       "10     [AAPL]\n",
       "11      [SPY]\n",
       "12     [AMZN]\n",
       "13     [AAPL]\n",
       "14      [AMD]\n",
       "15      [SPX]\n",
       "16    [GOOGL]\n",
       "17      [SOL]\n",
       "18      [QQQ]\n",
       "19       [FB]\n",
       "20     [TWTR]\n",
       "21     [LUNA]\n",
       "22        [F]\n",
       "23     [META]\n",
       "24      [JNJ]\n",
       "25      [QQQ]\n",
       "26      [UNH]\n",
       "27    [BRK.B]\n",
       "28      [NIO]\n",
       "29      [TSM]\n",
       "30      [DIS]\n",
       "31     [PLTR]\n",
       "32      [BAC]\n",
       "33      [SPY]\n",
       "34      [BTC]\n",
       "35      [BTC]\n",
       "36     [TSLA]\n",
       "37     [NVDA]\n",
       "38     [INTC]\n",
       "39        [V]\n",
       "40      [ETH]\n",
       "41      [CCL]\n",
       "42      [AMD]\n",
       "43      [IWM]\n",
       "44      [AAL]\n",
       "45     [NFLX]\n",
       "46       [FB]\n",
       "47        [T]\n",
       "48      [ETH]\n",
       "49     [ITUB]\n",
       "Name: cashtags, dtype: object"
      ]
     },
     "execution_count": 30,
     "metadata": {},
     "output_type": "execute_result"
    }
   ],
   "source": [
    "list"
   ]
  },
  {
   "cell_type": "code",
   "execution_count": null,
   "metadata": {},
   "outputs": [],
   "source": []
  }
 ],
 "metadata": {
  "kernelspec": {
   "display_name": "twitter_files",
   "language": "python",
   "name": "python3"
  },
  "language_info": {
   "codemirror_mode": {
    "name": "ipython",
    "version": 3
   },
   "file_extension": ".py",
   "mimetype": "text/x-python",
   "name": "python",
   "nbconvert_exporter": "python",
   "pygments_lexer": "ipython3",
   "version": "3.10.6"
  },
  "orig_nbformat": 4
 },
 "nbformat": 4,
 "nbformat_minor": 2
}
