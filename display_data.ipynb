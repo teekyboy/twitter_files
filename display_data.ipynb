{
 "cells": [
  {
   "cell_type": "code",
   "execution_count": 5,
   "metadata": {},
   "outputs": [],
   "source": [
    "import pandas as pd\n",
    "data1 = pd.read_csv('raw_data/twitter_1.csv')\n",
    "data2 = pd.read_csv('raw_data/twitter_2.csv')"
   ]
  },
  {
   "cell_type": "code",
   "execution_count": 9,
   "metadata": {},
   "outputs": [
    {
     "data": {
      "text/plain": [
       "26490"
      ]
     },
     "metadata": {},
     "output_type": "display_data"
    },
    {
     "data": {
      "text/plain": [
       "24814"
      ]
     },
     "metadata": {},
     "output_type": "display_data"
    },
    {
     "data": {
      "text/plain": [
       "112998"
      ]
     },
     "metadata": {},
     "output_type": "display_data"
    },
    {
     "data": {
      "text/plain": [
       "204770"
      ]
     },
     "metadata": {},
     "output_type": "display_data"
    }
   ],
   "source": [
    "display(data1['cashtags'].count())\n",
    "display(data2['cashtags'].count())\n",
    "display(data1['cashtags'].isnull().sum())\n",
    "display(data2['cashtags'].isnull().sum())"
   ]
  },
  {
   "cell_type": "code",
   "execution_count": 10,
   "metadata": {},
   "outputs": [
    {
     "data": {
      "text/plain": [
       "18674"
      ]
     },
     "metadata": {},
     "output_type": "display_data"
    },
    {
     "data": {
      "text/plain": [
       "4183"
      ]
     },
     "metadata": {},
     "output_type": "display_data"
    },
    {
     "data": {
      "text/plain": [
       "120814"
      ]
     },
     "metadata": {},
     "output_type": "display_data"
    },
    {
     "data": {
      "text/plain": [
       "225401"
      ]
     },
     "metadata": {},
     "output_type": "display_data"
    }
   ],
   "source": [
    "display(data1['hashtags'].count())\n",
    "display(data2['hashtags'].count())\n",
    "display(data1['hashtags'].isnull().sum())\n",
    "display(data2['hashtags'].isnull().sum())"
   ]
  },
  {
   "cell_type": "code",
   "execution_count": 11,
   "metadata": {},
   "outputs": [
    {
     "data": {
      "text/plain": [
       "array([nan,\n",
       "       \"['WOO', 'MLT', 'QRDO', 'CHZ', 'FET', 'LUNA', 'MCC', 'FLOKI']\",\n",
       "       \"['TRAC']\", ..., \"['JPM', 'SPX']\", \"['NFLX', 'QQQ']\",\n",
       "       \"['FUTU', 'TIGR', 'TGTX']\"], dtype=object)"
      ]
     },
     "metadata": {},
     "output_type": "display_data"
    },
    {
     "data": {
      "text/plain": [
       "array([nan, \"['TSLA']\", \"['BTC', 'GOLD']\", ...,\n",
       "       \"['AAPL', 'AMZN', 'GOOGL', 'META', 'NFLX', 'TSLA']\",\n",
       "       \"['LCID', 'RIVN', 'SNAP', 'U']\",\n",
       "       \"['AAPL', 'DIS', 'NFLX', 'SPY', 'AAPL', 'DIS', 'NFLX']\"],\n",
       "      dtype=object)"
      ]
     },
     "metadata": {},
     "output_type": "display_data"
    },
    {
     "data": {
      "text/plain": [
       "array([\"['XRP']\", nan, \"['Bitcoin']\", ..., \"['Litepaper']\",\n",
       "       \"['safelanding']\",\n",
       "       \"['Crypto', 'terra', 'voyager', 'celcius', 'ronin', 'btc', 'ETH']\"],\n",
       "      dtype=object)"
      ]
     },
     "metadata": {},
     "output_type": "display_data"
    },
    {
     "data": {
      "text/plain": [
       "array([nan, \"['Bitcoin']\", \"['RTY_F']\", \"['NQ_F']\", \"['Germany']\",\n",
       "       \"['crypto']\",\n",
       "       \"['Metaverse', 'PlayToEarn', 'NFT', 'GameFi', 'Play2Earn', 'P2E']\",\n",
       "       \"['DeFi', 'parachain', 'blockchain', 'Layer1']\",\n",
       "       \"['PlayToEarn', 'DAO', 'DeFi', 'Metaverse', 'ZKRollups']\",\n",
       "       \"['metaverse', 'PlayToEarn']\", \"['Crypto', 'Cryptos']\",\n",
       "       \"['launchpad', 'NFTs']\", \"['bitcoin']\", \"['forex', 'crypto']\",\n",
       "       \"['Bitcoin', 'Bitcoin']\",\n",
       "       \"['BSC', 'Metaverse', 'PlayToEarn', 'GameFi', 'P2E']\",\n",
       "       \"['Metaverse', 'NFT', 'PlayToEarn', 'Play2Earn', 'P2E']\",\n",
       "       \"['metaverses', 'PlayToEarn', 'P2E', 'Play2Earn']\", \"['Tesla']\",\n",
       "       \"['Metaverse', 'PlayToEarn', 'GameFi']\",\n",
       "       \"['GameFi', 'Metaverse', 'PlayToEarn']\", \"['Crypto']\",\n",
       "       \"['crypto', 'Metaverse', 'GameFi', 'PlayToEarn', 'DeFi', 'Launchpad', 'Layer2', 'Staking', 'YieldFarming']\",\n",
       "       \"['OOTT']\", \"['PlayToEarn', 'Metaverse', 'GameFi']\",\n",
       "       \"['Bitcoin', 'Crypto']\", \"['Layer1']\", \"['China']\", \"['Turkey']\",\n",
       "       \"['Metaverse', 'PlayToEarn', 'Play2Earn', 'P2E', 'GameFi']\",\n",
       "       \"['fact']\", \"['BTC']\", \"['Apple']\", \"['Ccrypto']\",\n",
       "       \"['memecoin', 'crypto']\", \"['Metaverse', 'GameFi', 'PlayToEarn']\",\n",
       "       \"['GameFi']\", \"['Peloton']\", \"['DeFi']\",\n",
       "       \"['Metaverse', 'PlayToEarn']\", \"['DeFi', 'DeFi3']\",\n",
       "       \"['Layer1', 'DeFi', 'GameFi', 'Metaverse', 'PlayToEarn']\",\n",
       "       \"['stock', 'crypto']\", \"['FF']\", \"['NFTs', 'NFT']\", \"['GetDEFIT']\",\n",
       "       \"['ECB']\", \"['DeFi', 'DEX']\", \"['Fed']\", \"['inflation']\",\n",
       "       \"['stablecoin']\", \"['NFT', 'Bitcoin', 'NFTseason']\",\n",
       "       \"['BREAKING']\", \"['Bitcoin', 'BTFD']\", \"['BTFD']\",\n",
       "       \"['JAGUAR', 'LANDROVER']\", \"['stablecoin', 'crypto']\",\n",
       "       \"['metaverse']\", \"['altcoins', 'Bitcoin']\", \"['altcoins']\",\n",
       "       \"['Layer1', 'Layer2', 'ZKrollups', 'GameFi', 'DeFi', 'Metaverse']\",\n",
       "       \"['alts']\", \"['inflation', 'ECB']\", \"['DeFit']\",\n",
       "       \"['WAGMI', 'Bitcoin']\", \"['Launchpad']\", \"['Metaverse']\",\n",
       "       \"['launchpad', 'crypto']\", \"['launchpad', 'Fantom']\",\n",
       "       \"['GameStop']\", \"['ff']\", \"['crypto', 'alts', 'cryptotrading']\",\n",
       "       \"['MeTaVeRsE']\", \"['Bitcoin', 'cryptotrading', 'BitcoinCrash']\",\n",
       "       \"['referencetothewhole']\", \"['Signal']\", \"['Ethereum']\",\n",
       "       \"['Germany', 'Italy', 'Spain']\", \"['BareShelvesBiden']\",\n",
       "       \"['sticksoutforTeddy']\", \"['ECB', 'inflation']\",\n",
       "       \"['Metaverse', 'PlayToEarn', 'GameFi', 'P2E']\", \"['PlayToEarn']\",\n",
       "       \"['DuZ']\", \"['MOASS']\", \"['Germany', 'inflation']\",\n",
       "       \"['hopium', 'Redenial']\",\n",
       "       \"['Layer1', 'parachain', 'blockchain', 'Metaverse']\", \"['hopium']\",\n",
       "       \"['AusOpen']\", \"['PlayToEarn', 'blockchain']\",\n",
       "       \"['Germany', 'inflation', 'France', 'Italy', 'Spain']\",\n",
       "       \"['BlackRock']\", \"['cryptos']\", \"['blockchain']\", \"['carbon']\",\n",
       "       \"['Germany', 'China']\", \"['PORTX', 'Poolz']\",\n",
       "       \"['PMSIDontWantToOverreactBUT']\",\n",
       "       \"['crypto', 'DeFi', 'Metaverse', 'Layer1', 'PlayToEarn']\",\n",
       "       \"['ngmi']\", \"['oil']\", \"['CrYpTo', 'StableCoin']\",\n",
       "       \"['crypto', 'Bitcoin']\", \"['keepingitreal']\", \"['StableCoin']\",\n",
       "       \"['advicetoliveby']\", \"['Germany', 'ZIRP']\", \"['Goldman']\",\n",
       "       \"['PlayToEarn', 'Fantom', 'Launchpad']\",\n",
       "       \"['altcoins', 'defi', 'layer1', 'PlayToEarn']\", \"['NGMI']\",\n",
       "       \"['Cardano']\", \"['crash']\", \"['nflx']\", \"['Japan']\",\n",
       "       \"['Bitcoin', 'Ethereum']\", \"['Germany', 'Ukraine']\",\n",
       "       \"['Gold', 'Bitcoin']\", \"['WEF22']\", \"['gold', 'Bitcoin']\",\n",
       "       \"['BITCOIN']\", \"['altcoin']\", \"['Ukraine', 'Russia']\", \"['NQ']\",\n",
       "       \"['Inflation']\", \"['Russia', 'Ukraine']\", \"['Bitcoin', 'Etherum']\",\n",
       "       \"['Oil']\", \"['NFT', 'NFTartists', 'nftart']\", \"['Gold']\",\n",
       "       \"['DoorDash']\", \"['cryptobanter']\",\n",
       "       \"['crypto', 'TeslaStock', 'BTC']\", \"['SPAC']\", \"['EXPOSED']\",\n",
       "       \"['Microsoft']\", \"['Italy']\", \"['crypto', 'altcoins']\",\n",
       "       \"['ES', 'SPX']\", \"['FreedomConvoy']\", \"['Austria']\",\n",
       "       \"['trashtalk', 'loveyoureally']\",\n",
       "       \"['Austria', 'Apple', 'Microsoft', 'Amazon']\", \"['PaidInBitcoin']\",\n",
       "       \"['ECB', 'Eurozone', 'Fed']\", \"['ETF']\",\n",
       "       \"['Bitcoin', 'Bitcoin', 'Bitcoin', 'Bitcoin', 'Bitcoin']\",\n",
       "       \"['Austria', 'Germany']\", \"['ECB', 'Japan']\",\n",
       "       \"['PlayToEarn', 'Metaverse']\", \"['Alphabet']\", \"['Facebook']\",\n",
       "       \"['Eurozone', 'inflation', 'ECB']\", \"['ECB', 'Austria']\",\n",
       "       \"['positivevibes']\", \"['DeleteFacebook']\", \"['Euro', 'ECB']\",\n",
       "       \"['Bitcoin', 'BTC']\", \"['5080Rule']\", \"['inflation', 'Amazon']\",\n",
       "       \"['Binance']\", \"['Amazon']\", \"['RTY_F', 'RTY_F']\", \"['launchpad']\",\n",
       "       \"['Amazon', 'Facebook']\", \"['FANGMAN', 'Amazon', 'Facebook']\",\n",
       "       \"['Austria', 'inflation', 'Germany']\", \"['oilprice']\",\n",
       "       \"['NFT', 'metaverse', 'NFTs', 'crypto']\", \"['NFT', 'crypto']\",\n",
       "       \"['send']\", \"['simps']\", \"['NFT']\", \"['ECB', 'Greece']\",\n",
       "       \"['Italy', 'ECB']\", \"['Bitcoin', 'Ether']\", \"['LightningNetwork']\",\n",
       "       \"['respectrisk']\", \"['Nodes']\", \"['GetBoosted']\",\n",
       "       \"['Crypto', 'Banking', 'Banks', 'Bitcoin', 'Cryptocurrency']\",\n",
       "       \"['Spain', 'Bitcoin']\", \"['shitcoin', 'crypto']\",\n",
       "       \"['FF', 'crypto']\", \"['Delivery']\", \"['NFT', 'Metaverse']\",\n",
       "       \"['Stablecoin', 'Cardano', 'CardanoCommunity', 'CardanoADA']\",\n",
       "       \"['Russia']\", \"['Fed', 'ECB', 'BoJ']\",\n",
       "       \"['NFT', 'NFTGame', 'NFTGaming', 'Metaverse', 'Petaverse']\",\n",
       "       \"['NFT', 'NFTs', 'NFTCommunity', 'NFTProject']\", \"['NFTs']\",\n",
       "       \"['Twitter']\", \"['Germany', 'Russia']\", \"['Ukraine']\",\n",
       "       \"['NFT', 'NFTs', 'NFTGiveaway', 'PlayToEarn']\", \"['inversebrah']\",\n",
       "       \"['Cryoto']\", \"['PivotMIA']\", \"['Oil', 'Russia']\",\n",
       "       \"['NFT', 'NFTs', 'NFTCommunity', 'NFTGame']\",\n",
       "       \"['NFT', 'NFTs', 'NFTCommunity', 'NFTGiveaways']\", \"['SuperBowl']\",\n",
       "       \"['Stablecoin', 'crypto']\", \"['Carbon']\", \"['SPX', 'ES']\",\n",
       "       \"['math']\", \"['Altseason']\", \"['Gold', 'Russia']\",\n",
       "       \"['ARKK', 'cathiewood']\", \"['France']\", \"['Palantir']\",\n",
       "       \"['Fed', 'ECB']\", \"['breaking']\", \"['Iraq', 'oil']\",\n",
       "       \"['Russia', 'gold']\", \"['memecoin', 'Crypto']\", \"['BreakingNews']\",\n",
       "       \"['XRP']\", \"['SPX']\", \"['oil', 'Russia', 'Ukraine']\",\n",
       "       \"['Gold', 'Ukraine']\", \"['ECB', 'Ukraine']\",\n",
       "       \"['Russia', 'oil', 'Ukraine']\", \"['NFT', 'NFTGiveaways', 'NFTs']\",\n",
       "       \"['Gold', 'Russia', 'Ukraine']\", \"['Eurozone', 'inflation']\",\n",
       "       \"['FazeUp']\", \"['brownandsad']\", \"['backfirerally']\",\n",
       "       \"['Germany', 'Russia', 'France', 'Italy', 'Austria']\",\n",
       "       \"['rollups']\", \"['crypto', 'Metaverse', 'PlayToEarn']\",\n",
       "       \"['Metaverse', 'PlayToEarn', 'crypto']\",\n",
       "       \"['BP', 'Rosneft', 'Ukraine']\", \"['memecoins']\", \"['Ruble']\",\n",
       "       \"['altcoins', 'crypto']\", \"['Russia', 'Bitcoin']\",\n",
       "       \"['Italys', 'inflation', 'Spain', 'France']\",\n",
       "       \"['ECB', 'inflation', 'Eurozone']\", \"['Bitcoin', 'Russia']\",\n",
       "       \"['Bitcoin', 'crypto']\", \"['Russia', 'Apple', 'Ukraine']\",\n",
       "       \"['XAPO']\", \"['Bundesbank']\", \"['Russia', 'Oil']\",\n",
       "       \"['Gas', 'Russia']\", \"['beer']\", \"['wheat', 'Russia', 'Ukraine']\",\n",
       "       \"['stagflation']\", \"['Wheat']\", \"['PlayToEarn', 'Fantom']\",\n",
       "       \"['Cronos', 'CRO', 'crofam', 'Metaverse']\", \"['altseason']\",\n",
       "       \"['Ukraine', 'Amazon']\", \"['Russia', 'China']\",\n",
       "       \"['Russia', 'oil']\", \"['Inflation', 'ECB']\",\n",
       "       \"['layer2', 'blockchain', 'rollups', 'Ethereum']\",\n",
       "       \"['crypto', 'NFTs']\", \"['Euro']\", \"['Nickel']\",\n",
       "       \"['Ukraine', 'inflation']\", \"['Nickel', 'Ukraine']\",\n",
       "       \"['FUD', 'bearpropoganda']\", \"['AppleEvent']\",\n",
       "       \"['Oil', 'Ukraine']\", \"['Crypto', 'Bitcoin']\",\n",
       "       \"['respect', 'love']\", \"['inflation', 'Russia', 'Ukraine']\",\n",
       "       \"['crypto', 'forex']\", \"['CRO', 'crofam', 'cronoschain']\",\n",
       "       \"['Ref']\", \"['terraluna', 'LUNAtics']\", \"['LUNAtics']\",\n",
       "       \"['ECB', 'Germany']\", \"['ECB', 'Inflation']\",\n",
       "       \"['CardanoCommunity']\", \"['Inflation', 'oil']\",\n",
       "       \"['China', 'Russia']\", \"['arbitrage']\", \"['crypto', 'DeFi']\",\n",
       "       \"['Ukraine', 'stagflation', 'ECB']\", \"['cryptopuke']\",\n",
       "       \"['Germany', 'inflation', 'Ukraine']\", \"['wagmi']\", \"['KOMPETE']\",\n",
       "       \"['memecoin']\", \"['FOMC']\", \"['ad']\", \"['Fed', 'inflation']\",\n",
       "       \"['PlayToEarn', 'Move2Earn']\", \"['TOTAL2', 'BTC']\", \"['blessed']\",\n",
       "       \"['Metaverse', 'PlayToEarn', 'yieldfarm', 'NFT']\", \"['P2E']\",\n",
       "       \"['yieldfarm']\", \"['UFC']\", \"['Terra']\", \"['crypto', 'crypto']\",\n",
       "       \"['Germany', 'oil']\", \"['ECB', 'Eurozone']\",\n",
       "       \"['TMXCGB', 'TMXBAX']\", \"['YachtWatch']\", \"['DuZ200']\",\n",
       "       \"['Russia', 'Ruble']\", \"['Populism', 'Germany']\",\n",
       "       \"['BoJ', 'Japan']\", \"['FF', 'Crypto']\", \"['Bayer']\",\n",
       "       \"['OscarsStillSoWhite']\", \"['Oscars']\",\n",
       "       \"['willsmith', 'chrisrock', 'oscars']\", \"['WillSmith']\",\n",
       "       \"['OSCARS']\", \"['GotGoldorRubles']\",\n",
       "       \"['boughtavocadocantbuyahouse']\",\n",
       "       \"['PlayToEarn', 'Metaverse', 'STEPN', 'Web3']\", \"['Baidu']\",\n",
       "       \"['ES_F']\", \"['ES_F', 'ES_F']\", \"['IMF', 'Russia', 'Ukraine']\",\n",
       "       \"['CRYPTO']\", \"['Eurozone', 'Spain', 'Germany', 'inflation']\",\n",
       "       \"['Crypto', 'alts']\", \"['Uniswap']\", \"['Japan', 'ECB', 'Fed']\",\n",
       "       \"['Hungary']\", \"['EVs']\", \"['Germany', 'ECB']\", \"['BSC']\",\n",
       "       \"['ECB', 'Gold']\", \"['Layer1', 'PlayToEarn', 'Metaverse']\",\n",
       "       \"['ECB', 'stagflation', 'slowflation']\",\n",
       "       \"['launchpad', 'Binance']\", \"['hackathons']\", \"['ECB', 'Italy']\",\n",
       "       \"['s']\", \"['Germany', 'inflation', 'ECB']\", \"['neverselling']\",\n",
       "       \"['crypto', 'nft', 'nfts']\", \"['France', 'Germany']\",\n",
       "       \"['Crypto', 'memecoin']\", \"['deathbyathousandtweets']\", \"['gold']\",\n",
       "       \"['inflation', 'Russia']\", \"['DeFi', 'algotrading']\", \"['ES']\",\n",
       "       \"['metaverse', 'NFT', 'L1']\",\n",
       "       \"['Metaverse', 'playtoearn', 'GameFi']\",\n",
       "       \"['Lithuania', 'inflation', 'ECB']\", \"['GameFi', 'PlayToEarn']\",\n",
       "       \"['Russia', 'default']\", \"['Germany', 'Russia', 'Ukraine']\",\n",
       "       \"['gas', 'Russia']\", \"['btc', 'ltc', 'eth', 'mrx']\",\n",
       "       \"['inflation', 'Japan']\", \"['Corn', 'Russia']\",\n",
       "       \"['FitFi', 'GameFi', 'FitFi', 'Move2Earn']\",\n",
       "       \"['STEPN', 'Move2Earn', 'MoveToEarn', 'M2E', 'NFT']\", \"['Radix']\",\n",
       "       \"['MoveToEarn']\", \"['NFLX', 'Netflix']\", \"['Netflix']\",\n",
       "       \"['Germany', 'Inflation']\",\n",
       "       \"['Fed', 'Turkey', 'Egypt', 'Ukraine']\", \"['meow']\",\n",
       "       \"['BAX', 'CGB', 'CANADIANBOND']\",\n",
       "       \"['STEPN', 'MoveToEarn', 'Move2Earn']\",\n",
       "       \"['NFTs', 'NFTs', 'GameFi']\", \"['STEPN']\",\n",
       "       \"['Netflix', 'Facebook']\", \"['Tesla', 'Twitter']\",\n",
       "       \"['chubbishop']\", \"['Germany', 'Twitter']\",\n",
       "       \"['ILV', 'Metaverse', 'GameFi', 'PlayToEarn']\",\n",
       "       \"['STEPN', 'MoveToEarn']\", \"['Euro', 'Russia']\", \"['Bitconi']\",\n",
       "       \"['Inflation', 'Germany', 'oil', 'Ukraine']\", \"['Eurozone']\",\n",
       "       \"['Bitcoin', 'ETH']\", \"['movetoearn']\",\n",
       "       \"['crypto', 'alts', 'hodl']\", \"['MoveToEarn', 'PlayToEarn']\",\n",
       "       \"['totalreturnsectorindexfutures', 'comingsoon', 'financialmarkets']\",\n",
       "       \"['WAGBO']\", \"['STEPN', 'NFT', 'Crypto']\",\n",
       "       \"['bringbackthebtc500']\", \"['resistance']\", \"['Solana']\",\n",
       "       \"['paradigmshift2022']\", \"['NFA']\", \"['PlayToEarn', 'crypto']\",\n",
       "       \"['RELAX']\", \"['BTC', 'Coinbase']\", \"['Bitcoin', 'Altcoins']\",\n",
       "       \"['Italy', 'Germany']\", \"['AllesAufAktien']\", \"['crypto', 'luna']\",\n",
       "       \"['Volatility']\", \"['STEPN', 'Bitcoin', 'Crypto']\",\n",
       "       \"['Bitcoin', 'altcoins']\", \"['FTXUSD']\", \"['Takeunder']\",\n",
       "       \"['crypto', 'stablecoins']\", \"['crypto', 'Ethereum', 'layer2']\",\n",
       "       \"['ZKrollups']\", \"['Luna']\", \"['Coinbase']\",\n",
       "       \"['LUNAtic', 'Lunacrash']\", \"['Cryptocrash', 'Bitcoin']\",\n",
       "       \"['gas', 'Ukraine']\", \"['crypto', 'Tradingview']\",\n",
       "       \"['altcoin', 'alts']\", \"['layer2', 'ZKRollup', 'Bitcoin']\",\n",
       "       \"['launchpads']\", \"['BTC', 'BTC']\", \"['stagflation', 'inflation']\",\n",
       "       \"['Japan', 'inflation']\", \"['TerraIsTerrable']\", \"['Lunatics']\",\n",
       "       \"['Crypto', 'Tradingview']\", \"['5111GT']\",\n",
       "       \"['Bitcoin', 'Cryptocrash', 'Bitcoin2022']\",\n",
       "       \"['Venezuela', 'Davos2022']\",\n",
       "       \"['Germany', 'stagflation', 'inflation']\",\n",
       "       \"['Switzerland', 'inflation', 'WEF2022', 'Davos']\",\n",
       "       \"['WEF2022', 'Ukraine']\", \"['WEF2022', 'inflation']\",\n",
       "       \"['wef2022']\", \"['inflation', 'WEF2022']\",\n",
       "       \"['Davos', 'WEF22', 'recession']\",\n",
       "       \"['wef22', 'Russia', 'Ukraine']\", \"['Euro', 'ECB', 'wef22']\",\n",
       "       \"['Spain', 'wef22']\", \"['wef22', 'Spain']\",\n",
       "       \"['China', 'Russia', 'wef22']\", \"['wef22', 'China', 'Russia']\",\n",
       "       \"['wef22']\", \"['Davos', 'WEF22']\", \"['Davos']\", \"['ECB', 'wef22']\",\n",
       "       \"['Crypto', 'Layer1', 'Layer2', 'GameFi', 'Metaverse', 'Privacy']\",\n",
       "       \"['STEPN', 'MoveToEarn', 'crypto']\", \"['Bitcoin', 'wef22']\",\n",
       "       \"['wef22', 'oil']\", \"['Russia', 'Ukraine', 'wef22']\",\n",
       "       \"['Germany', 'Russia', 'China']\", \"['WAGMI', 'GoodVibesOnly']\",\n",
       "       \"['Wheat', 'Russia']\", \"['crypro']\",\n",
       "       \"['ff', 'crypto', 'TradingView']\", \"['China', 'Germany']\",\n",
       "       \"['Layer2']\", \"['inflation', 'Eurozone', 'Spain']\",\n",
       "       \"['Italy', 'inflation', 'Germany', 'Spain']\",\n",
       "       \"['inflation', 'Germany', 'Spain', 'ECB']\", \"['layer2']\",\n",
       "       \"['Croatia']\", \"['scumbags']\", \"['Turkey', 'inflation']\",\n",
       "       \"['Layer2', 'crypto']\", \"['Arbitrum', 'Optimism']\", \"['wine']\",\n",
       "       \"['WWDC22']\", \"['BuzzFeed']\", \"['LGR']\", \"['India']\",\n",
       "       \"['Gold', 'inflation']\", \"['COM']\",\n",
       "       \"['ECB', 'Germany', 'inflation']\", \"['DXY', 'SPX']\",\n",
       "       \"['Fragmentation', 'Italy']\", \"['Bitcoin', 'inflation']\",\n",
       "       \"['petme']\", \"['cryptoscam', 'cryptocrash', 'lockthemup']\",\n",
       "       \"['next']\", \"['fed']\", \"['fakemoney']\",\n",
       "       \"['Italy', 'ECB', 'inflation']\", \"['hg_f']\", \"['insolvent']\",\n",
       "       \"['growth']\", \"['BTC', 'ETH']\", \"['kanpaiclaw']\",\n",
       "       \"['Inflation', 'Germany']\", \"['recession', 'Eurozone']\",\n",
       "       \"['BITCOIN', 'BITCOIN']\", \"['HG_F']\", \"['recession']\",\n",
       "       \"['Zalando']\", \"['blackmail']\", \"['prolifegang']\",\n",
       "       \"['contagioncontainment']\",\n",
       "       \"['Germany', 'inflation', 'recession']\",\n",
       "       \"['ECB', 'inflation', 'Italy']\", \"['Coinbase', 'crypto']\",\n",
       "       \"['BREAKING', 'OOTT']\", \"['winning']\",\n",
       "       \"['totalreturnsectorindexfutures', 'financialmarkets']\",\n",
       "       \"['RUSSIA', 'BREAKING']\", \"['Spain']\",\n",
       "       \"['Germany', 'repression', 'inflation']\", \"['Bitcoin', 'Netflix']\",\n",
       "       \"['crypto', 'Layer2']\", \"['Russia', 'China', 'India']\",\n",
       "       \"['Germany', 'recession']\", \"['playtoearn', 'metaverse']\",\n",
       "       \"['Euro', 'Germany']\", \"['Copper']\", \"['oil', 'inflation']\",\n",
       "       \"['gamefi']\", \"['notfinancialadvice']\", \"['wagmi', 'Bitcoin']\",\n",
       "       \"['ZB_F', 'CL_F', 'ES_F']\", \"['Eurozone', 'Italy']\",\n",
       "       \"['NewProfilePic']\", \"['Italy', 'Eurozone']\",\n",
       "       \"['Netflix', 'Bitcoin']\", \"['winner']\", \"['Bitcoin', 'altcoin']\",\n",
       "       \"['Italy', 'Germany', 'France']\", \"['Layer2', 'Ethereum']\",\n",
       "       \"['JCPOA']\", \"['BAX']\", \"['TSLA']\", \"['crypto', 'nft']\",\n",
       "       \"['Italy', 'Enel', 'Eni', 'Ferrari', 'Intesa']\",\n",
       "       \"['googletrends']\", \"['Layer1', 'Layer2', 'ZKrollups']\",\n",
       "       \"['NotFinancialAdvice', 'Shill', 'PastPerformanceIsNotIndicativeOfFutureResults']\",\n",
       "       \"['Italy', 'Euro', 'Germany', 'Spain']\", \"['ES_F', 'NQ_F']\",\n",
       "       \"['Uniper']\", \"['EnergyCrisis']\", \"['Recession']\",\n",
       "       \"['Italy', 'inflation']\", \"['longtermdebtcycle']\",\n",
       "       \"['NFT', 'Polarys']\", \"['Turkey', 'Russia']\", \"['BItcoin']\",\n",
       "       \"['btc']\", \"['crypto', 'layer2', 'Arbitrum']\",\n",
       "       \"['Eurozone', 'ECB', 'inflation']\",\n",
       "       \"['launchpad', 'airdrop', 'NFT']\", \"['india']\", \"['airdrop']\",\n",
       "       \"['playtoearn']\", \"['Polarys']\", \"['Energy', 'Germany']\",\n",
       "       \"['Solana', 'Polygon']\", \"['MA200']\", \"['Reply']\", \"['layer1']\",\n",
       "       \"['Gazprom']\", \"['Rollux', 'ZKrollups']\", \"['LINOecon']\",\n",
       "       \"['USDT', 'Tether']\", \"['PolarBears', 'METIS']\", \"['Germamny']\",\n",
       "       \"['FF', 'Bitcoin']\", \"['Avalanche', 'Bitcoin']\",\n",
       "       \"['Spain', 'inflation']\", \"['NFT', 'NFTs']\", \"['DXY']\", \"['ref']\",\n",
       "       \"['grateful']\", \"['kissofdeath']\",\n",
       "       \"['sponsored', 'ad', 'paidpartnership']\",\n",
       "       \"['butreallyfrankifyouwanttosponsortheaboveposthitmydmsjustkiddingloveyouglwiththemint']\",\n",
       "       \"['BIGBREAKING']\", \"['deindustrialization']\", \"['ARKMATH']\",\n",
       "       \"['layer2', 'Arbitrum']\", \"['alts', 'crypto']\", \"['tequilabros']\",\n",
       "       \"['nantucket']\", \"['ETHMerge', 'Arbitrum']\", \"['FutureProofAC']\",\n",
       "       \"['Ether', 'Bitcoin']\", \"['ETHMerge']\", \"['LUNA', 'BIGBREAKING']\",\n",
       "       \"['jordans']\", \"['EthereumMerge']\", \"['Etherum']\", \"['smart']\",\n",
       "       \"['Volkswagen']\", \"['China', 'Yuan']\", \"['inflation', 'Germany']\",\n",
       "       \"['Porsche']\", \"['Bitcoin', 'Layer1']\", \"['REF']\",\n",
       "       \"['Euro', 'inflation']\", \"['ZebuLive22']\", \"['goodpeople']\",\n",
       "       \"['XiJinping', 'BigBreaking']\", \"['Germany', 'Retailcalypse']\",\n",
       "       \"['fanduelisfun']\", \"['Germany', 'Italy']\", \"['currencycrash']\",\n",
       "       \"['GBPUSD']\", \"['Gas', 'Ukaine']\", \"['BigBreaking']\",\n",
       "       \"['Germany', 'inflation', 'inflation']\", \"['mindset']\", \"['AD']\",\n",
       "       \"['options']\", \"['CreditSuisse']\", \"['Germany', 'Euro']\",\n",
       "       \"['BiTcOiN']\", \"['ffs']\", \"['CrimeanBridge']\", \"['liqduity']\",\n",
       "       \"['Arbitrum', 'Layer2']\", \"['lasereyesbelow20k']\", \"['fakenews']\",\n",
       "       \"['Germany', 'stagflation']\", \"['Vonovia']\",\n",
       "       \"['Layer2', 'Arbitrum']\", \"['WalkAway']\", \"['PeakChina']\",\n",
       "       \"['Arbitrum']\", \"['crypto', 'NFT']\", \"['Gas']\", \"['timestamps']\",\n",
       "       \"['Twitter', 'Starlink', 'Russia', 'Ukraine']\",\n",
       "       \"['airdrops', 'crypto']\", \"['FreeAssange', 'FreeRoss']\",\n",
       "       \"['China', 'XiJinping']\", \"['Germany', 'gas']\", \"['Airdrop']\",\n",
       "       \"['Meta']\", \"['FreeAssange']\",\n",
       "       \"['crypto', 'Arbitrum', 'Layerzero', 'StarkNet']\",\n",
       "       \"['CHARTS', 'OPTIONS']\", \"['BOC']\", \"['shitcoins']\",\n",
       "       \"['Microsoft', 'Alphabet', 'Meta']\", \"['discipline']\",\n",
       "       \"['China', 'Amazon']\", \"['Arbitrum', 'StarkNet', 'zkSync']\",\n",
       "       \"['Germany', 'inflation', 'Italy', 'Spain']\", \"['defi']\",\n",
       "       \"['prioritize']\", \"['crypto', 'RealYield']\",\n",
       "       \"['Arbitrum', 'Avalanche']\", \"['Eurozone', 'Inflation']\",\n",
       "       \"['Arbitrum', 'StarkNet']\", \"['Optionstrategy']\", \"['Litecoin']\",\n",
       "       \"['inflationary']\", \"['MMT', 'debt']\", \"['Facebook', 'Meta']\",\n",
       "       \"['realyield']\", \"['cryptocrash']\",\n",
       "       \"['Arbitrum', 'StarkNet', 'ZkSync']\", \"['Tesla', 'Twittermess']\",\n",
       "       \"['Binance', 'FTX']\", \"['USElection']\", \"['VA02']\",\n",
       "       \"['crypto', 'alts']\", \"['inflation', 'Ether', 'Bitcoin']\",\n",
       "       \"['crypto', 'Arbitrum']\", \"['Fed', 'pivot']\", \"['COP27']\",\n",
       "       \"['SoftBank']\", \"['Germany', 'Eurozone']\", \"['Bitcoin', 'GBTC']\",\n",
       "       \"['HEDGING']\", \"['cypto', 'Arbitrum', 'zkSync', 'StarkNet']\",\n",
       "       \"['bondmarket']\", \"['Solana', 'Binance']\", \"['lifehack']\",\n",
       "       \"['Layer2', 'Arbitrum', 'StarkNet']\", \"['checkhisharddrive']\",\n",
       "       \"['trump']\", \"['recession', 'hopium']\", \"['RIPTwitter']\",\n",
       "       \"['Germany', 'inflation', 'Peakinflation']\",\n",
       "       \"['Arbitrum', 'zkSync', 'StarkNet']\",\n",
       "       \"['crypto', 'Arbitrum', 'StarkNet']\", \"['Grayscale', 'Bitcoin']\",\n",
       "       \"['ARKK']\", \"['DeffnerundZschaepitz']\", \"['Arbitrum', 'zkSync']\",\n",
       "       \"['Oil', 'China']\", \"['NewNFTProfilePic']\", \"['Apple', 'China']\",\n",
       "       \"['Freespeech']\", \"['Apple', 'Twitter']\",\n",
       "       \"['Germany', 'wages', 'inflation']\", \"['recession', 'recession']\",\n",
       "       \"['ZT_F', 'ES_F']\", \"['hopium', 'recession']\",\n",
       "       \"['crypto', 'launchpads']\", \"['RUSSIA']\",\n",
       "       \"['crypto', 'launchpad']\", \"['EV']\", \"['ABC2022']\",\n",
       "       \"['Bitcoin', 'Ethereum', 'Cardano', 'Solana', 'MATIC', 'DOGE', 'BNB', 'XRP']\",\n",
       "       \"['MORSPA']\", \"['RadFi2022']\", \"['Germany', 'Wirecard']\",\n",
       "       \"['Metaverse', 'P2E']\", \"['Metis']\", \"['CryptoGiveaway']\",\n",
       "       \"['OptionsTrading']\", \"['FIFAWORLDCUP']\", \"['cryptosoupgroup']\",\n",
       "       \"['SAFU']\", \"['Altcoins']\", \"['Options']\", \"['finance']\",\n",
       "       \"['crypto', 'tokenomics']\", \"['dominoeffect']\", \"['Greece']\",\n",
       "       \"['Coinbase', 'Dogecoin']\", \"['neverforget']\", \"['AAA']\",\n",
       "       \"['BinanceChristmas']\", \"['Notfinancialadvice']\",\n",
       "       \"['crypto', 'alts', 'crypto']\"], dtype=object)"
      ]
     },
     "metadata": {},
     "output_type": "display_data"
    }
   ],
   "source": [
    "display(data1['cashtags'].unique())\n",
    "display(data2['cashtags'].unique())\n",
    "display(data1['hashtags'].unique())\n",
    "display(data2['hashtags'].unique())"
   ]
  },
  {
   "cell_type": "code",
   "execution_count": null,
   "metadata": {},
   "outputs": [],
   "source": []
  }
 ],
 "metadata": {
  "kernelspec": {
   "display_name": "twitter_files",
   "language": "python",
   "name": "python3"
  },
  "language_info": {
   "codemirror_mode": {
    "name": "ipython",
    "version": 3
   },
   "file_extension": ".py",
   "mimetype": "text/x-python",
   "name": "python",
   "nbconvert_exporter": "python",
   "pygments_lexer": "ipython3",
   "version": "3.10.6"
  },
  "orig_nbformat": 4
 },
 "nbformat": 4,
 "nbformat_minor": 2
}
