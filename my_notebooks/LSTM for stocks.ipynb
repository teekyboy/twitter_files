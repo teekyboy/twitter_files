{
 "cells": [
  {
   "cell_type": "code",
   "execution_count": null,
   "id": "00136c02",
   "metadata": {},
   "outputs": [],
   "source": [
    "import pandas as pd\n",
    "from sklearn.preprocessing import MinMaxScaler\n",
    "import numpy as np\n",
    "import matplotlib.pyplot as plt\n",
    "\n",
    "from keras.models import Sequential\n",
    "from keras.layers import LSTM, Dense"
   ]
  },
  {
   "cell_type": "code",
   "execution_count": 8,
   "id": "90e4cd71",
   "metadata": {},
   "outputs": [],
   "source": [
    "df = pd.read_csv(\"../stocks/raw_data_candles/AAPL.csv\")"
   ]
  },
  {
   "cell_type": "code",
   "execution_count": 9,
   "id": "281a07d2",
   "metadata": {},
   "outputs": [
    {
     "data": {
      "text/html": [
       "<div>\n",
       "<style scoped>\n",
       "    .dataframe tbody tr th:only-of-type {\n",
       "        vertical-align: middle;\n",
       "    }\n",
       "\n",
       "    .dataframe tbody tr th {\n",
       "        vertical-align: top;\n",
       "    }\n",
       "\n",
       "    .dataframe thead th {\n",
       "        text-align: right;\n",
       "    }\n",
       "</style>\n",
       "<table border=\"1\" class=\"dataframe\">\n",
       "  <thead>\n",
       "    <tr style=\"text-align: right;\">\n",
       "      <th></th>\n",
       "      <th>time</th>\n",
       "      <th>open</th>\n",
       "      <th>high</th>\n",
       "      <th>low</th>\n",
       "      <th>close</th>\n",
       "      <th>volume</th>\n",
       "      <th>symbol</th>\n",
       "    </tr>\n",
       "  </thead>\n",
       "  <tbody>\n",
       "    <tr>\n",
       "      <th>0</th>\n",
       "      <td>2021-12-13 04:01:00</td>\n",
       "      <td>178.909663</td>\n",
       "      <td>179.226932</td>\n",
       "      <td>178.830346</td>\n",
       "      <td>178.860090</td>\n",
       "      <td>13331</td>\n",
       "      <td>AAPL</td>\n",
       "    </tr>\n",
       "    <tr>\n",
       "      <th>1</th>\n",
       "      <td>2021-12-13 04:02:00</td>\n",
       "      <td>178.959236</td>\n",
       "      <td>179.355822</td>\n",
       "      <td>178.899749</td>\n",
       "      <td>179.197188</td>\n",
       "      <td>7595</td>\n",
       "      <td>AAPL</td>\n",
       "    </tr>\n",
       "    <tr>\n",
       "      <th>2</th>\n",
       "      <td>2021-12-13 04:03:00</td>\n",
       "      <td>179.147615</td>\n",
       "      <td>179.464883</td>\n",
       "      <td>178.979066</td>\n",
       "      <td>179.365737</td>\n",
       "      <td>10868</td>\n",
       "      <td>AAPL</td>\n",
       "    </tr>\n",
       "    <tr>\n",
       "      <th>3</th>\n",
       "      <td>2021-12-13 04:04:00</td>\n",
       "      <td>179.425224</td>\n",
       "      <td>179.435139</td>\n",
       "      <td>179.355822</td>\n",
       "      <td>179.385566</td>\n",
       "      <td>6277</td>\n",
       "      <td>AAPL</td>\n",
       "    </tr>\n",
       "    <tr>\n",
       "      <th>4</th>\n",
       "      <td>2021-12-13 04:05:00</td>\n",
       "      <td>179.415310</td>\n",
       "      <td>179.415310</td>\n",
       "      <td>179.256676</td>\n",
       "      <td>179.256676</td>\n",
       "      <td>1367</td>\n",
       "      <td>AAPL</td>\n",
       "    </tr>\n",
       "    <tr>\n",
       "      <th>...</th>\n",
       "      <td>...</td>\n",
       "      <td>...</td>\n",
       "      <td>...</td>\n",
       "      <td>...</td>\n",
       "      <td>...</td>\n",
       "      <td>...</td>\n",
       "      <td>...</td>\n",
       "    </tr>\n",
       "    <tr>\n",
       "      <th>235151</th>\n",
       "      <td>2023-02-03 19:55:00</td>\n",
       "      <td>154.095401</td>\n",
       "      <td>154.095401</td>\n",
       "      <td>154.095401</td>\n",
       "      <td>154.095401</td>\n",
       "      <td>347</td>\n",
       "      <td>AAPL</td>\n",
       "    </tr>\n",
       "    <tr>\n",
       "      <th>235152</th>\n",
       "      <td>2023-02-03 19:56:00</td>\n",
       "      <td>154.095301</td>\n",
       "      <td>154.105286</td>\n",
       "      <td>154.085316</td>\n",
       "      <td>154.105286</td>\n",
       "      <td>1438</td>\n",
       "      <td>AAPL</td>\n",
       "    </tr>\n",
       "    <tr>\n",
       "      <th>235153</th>\n",
       "      <td>2023-02-03 19:57:00</td>\n",
       "      <td>154.105286</td>\n",
       "      <td>154.105286</td>\n",
       "      <td>154.095301</td>\n",
       "      <td>154.095301</td>\n",
       "      <td>588</td>\n",
       "      <td>AAPL</td>\n",
       "    </tr>\n",
       "    <tr>\n",
       "      <th>235154</th>\n",
       "      <td>2023-02-03 19:59:00</td>\n",
       "      <td>154.115270</td>\n",
       "      <td>154.115270</td>\n",
       "      <td>154.115270</td>\n",
       "      <td>154.115270</td>\n",
       "      <td>555</td>\n",
       "      <td>AAPL</td>\n",
       "    </tr>\n",
       "    <tr>\n",
       "      <th>235155</th>\n",
       "      <td>2023-02-03 20:00:00</td>\n",
       "      <td>154.105286</td>\n",
       "      <td>154.155210</td>\n",
       "      <td>154.095301</td>\n",
       "      <td>154.155210</td>\n",
       "      <td>3835</td>\n",
       "      <td>AAPL</td>\n",
       "    </tr>\n",
       "  </tbody>\n",
       "</table>\n",
       "<p>235156 rows × 7 columns</p>\n",
       "</div>"
      ],
      "text/plain": [
       "                       time        open        high         low       close  \\\n",
       "0       2021-12-13 04:01:00  178.909663  179.226932  178.830346  178.860090   \n",
       "1       2021-12-13 04:02:00  178.959236  179.355822  178.899749  179.197188   \n",
       "2       2021-12-13 04:03:00  179.147615  179.464883  178.979066  179.365737   \n",
       "3       2021-12-13 04:04:00  179.425224  179.435139  179.355822  179.385566   \n",
       "4       2021-12-13 04:05:00  179.415310  179.415310  179.256676  179.256676   \n",
       "...                     ...         ...         ...         ...         ...   \n",
       "235151  2023-02-03 19:55:00  154.095401  154.095401  154.095401  154.095401   \n",
       "235152  2023-02-03 19:56:00  154.095301  154.105286  154.085316  154.105286   \n",
       "235153  2023-02-03 19:57:00  154.105286  154.105286  154.095301  154.095301   \n",
       "235154  2023-02-03 19:59:00  154.115270  154.115270  154.115270  154.115270   \n",
       "235155  2023-02-03 20:00:00  154.105286  154.155210  154.095301  154.155210   \n",
       "\n",
       "        volume symbol  \n",
       "0        13331   AAPL  \n",
       "1         7595   AAPL  \n",
       "2        10868   AAPL  \n",
       "3         6277   AAPL  \n",
       "4         1367   AAPL  \n",
       "...        ...    ...  \n",
       "235151     347   AAPL  \n",
       "235152    1438   AAPL  \n",
       "235153     588   AAPL  \n",
       "235154     555   AAPL  \n",
       "235155    3835   AAPL  \n",
       "\n",
       "[235156 rows x 7 columns]"
      ]
     },
     "execution_count": 9,
     "metadata": {},
     "output_type": "execute_result"
    }
   ],
   "source": [
    "df"
   ]
  },
  {
   "cell_type": "code",
   "execution_count": 10,
   "id": "5dd8f9b2",
   "metadata": {},
   "outputs": [],
   "source": [
    "df = df.drop('symbol', axis=1)"
   ]
  },
  {
   "cell_type": "code",
   "execution_count": 11,
   "id": "9102674b",
   "metadata": {
    "scrolled": true
   },
   "outputs": [],
   "source": [
    "df[\"time\"] = pd.to_datetime(df[\"time\"])"
   ]
  },
  {
   "cell_type": "code",
   "execution_count": 12,
   "id": "2e2fda44",
   "metadata": {},
   "outputs": [],
   "source": [
    "df.index = df.pop('time')"
   ]
  },
  {
   "cell_type": "code",
   "execution_count": 13,
   "id": "d8b735e7",
   "metadata": {},
   "outputs": [],
   "source": [
    "X = np.array(df)"
   ]
  },
  {
   "cell_type": "code",
   "execution_count": 15,
   "id": "69b36890",
   "metadata": {},
   "outputs": [
    {
     "data": {
      "text/plain": [
       "(235156, 5)"
      ]
     },
     "execution_count": 15,
     "metadata": {},
     "output_type": "execute_result"
    }
   ],
   "source": [
    "X.shape"
   ]
  },
  {
   "cell_type": "code",
   "execution_count": 16,
   "id": "a04a2a3d",
   "metadata": {},
   "outputs": [],
   "source": [
    "scaler = MinMaxScaler()\n",
    "scaled_data = scaler.fit_transform(df[['open', 'high', 'low', 'close', 'volume']])"
   ]
  },
  {
   "cell_type": "code",
   "execution_count": 23,
   "id": "be779c3a",
   "metadata": {},
   "outputs": [],
   "source": [
    "X_train = []\n",
    "y_train = []\n",
    "for i in range(15, len(scaled_data)):\n",
    "    X_train.append(scaled_data[i-15:i, :])\n",
    "    y_train.append(scaled_data[i, 3]) # use closing price as target variable\n",
    "X_train = np.array(X_train)\n",
    "y_train = np.array(y_train)"
   ]
  },
  {
   "cell_type": "code",
   "execution_count": 24,
   "id": "f0880c04",
   "metadata": {},
   "outputs": [
    {
     "data": {
      "text/plain": [
       "(235141, 15, 5)"
      ]
     },
     "execution_count": 24,
     "metadata": {},
     "output_type": "execute_result"
    }
   ],
   "source": [
    "X_train.shape"
   ]
  },
  {
   "cell_type": "code",
   "execution_count": 25,
   "id": "f3bbb789",
   "metadata": {},
   "outputs": [],
   "source": [
    "X_test = X_train[-100:]\n",
    "y_test = y_train[-100:]\n",
    "X_train = X_train[-500:-100]\n",
    "y_train = y_train[-500:-100]"
   ]
  },
  {
   "cell_type": "code",
   "execution_count": 26,
   "id": "dde317f1",
   "metadata": {},
   "outputs": [
    {
     "data": {
      "text/plain": [
       "((400, 15, 5), (400,))"
      ]
     },
     "execution_count": 26,
     "metadata": {},
     "output_type": "execute_result"
    }
   ],
   "source": [
    "X_train.shape, y_train.shape"
   ]
  },
  {
   "cell_type": "code",
   "execution_count": 27,
   "id": "30969451",
   "metadata": {
    "scrolled": true
   },
   "outputs": [
    {
     "data": {
      "text/plain": [
       "((100, 15, 5), (100,))"
      ]
     },
     "execution_count": 27,
     "metadata": {},
     "output_type": "execute_result"
    }
   ],
   "source": [
    "X_test.shape, y_test.shape"
   ]
  },
  {
   "cell_type": "code",
   "execution_count": 22,
   "id": "64b1c339",
   "metadata": {},
   "outputs": [
    {
     "data": {
      "text/plain": [
       "array([[  178.90966324,   179.2269317 ,   178.83034613,   178.86009005,\n",
       "        13331.        ],\n",
       "       [  178.95923644,   179.35582201,   178.8997486 ,   179.19718778,\n",
       "         7595.        ],\n",
       "       [  179.14761458,   179.46488304,   178.97906572,   179.36573664,\n",
       "        10868.        ],\n",
       "       ...,\n",
       "       [  154.10528564,   154.10528564,   154.09530085,   154.09530085,\n",
       "          588.        ],\n",
       "       [  154.11527043,   154.11527043,   154.11527043,   154.11527043,\n",
       "          555.        ],\n",
       "       [  154.10528564,   154.1552096 ,   154.09530085,   154.1552096 ,\n",
       "         3835.        ]])"
      ]
     },
     "execution_count": 22,
     "metadata": {},
     "output_type": "execute_result"
    }
   ],
   "source": [
    "X"
   ]
  },
  {
   "cell_type": "code",
   "execution_count": 28,
   "id": "cf83c642",
   "metadata": {},
   "outputs": [],
   "source": [
    "X_train = np.reshape(X_train, (X_train.shape[0], X_train.shape[1], 5))\n",
    "X_test = np.reshape(X_test, (X_test.shape[0], X_test.shape[1], 5))"
   ]
  },
  {
   "cell_type": "code",
   "execution_count": 29,
   "id": "5706838d",
   "metadata": {},
   "outputs": [
    {
     "data": {
      "text/plain": [
       "((400, 15, 5), (400,))"
      ]
     },
     "execution_count": 29,
     "metadata": {},
     "output_type": "execute_result"
    }
   ],
   "source": [
    "X_train.shape, y_train.shape"
   ]
  },
  {
   "cell_type": "code",
   "execution_count": 31,
   "id": "3eaf724c",
   "metadata": {},
   "outputs": [],
   "source": [
    "model = Sequential()\n",
    "model.add(LSTM(units=50, return_sequences=True, input_shape=(X_train.shape[1], 5)))\n",
    "model.add(LSTM(units=50, return_sequences=True))\n",
    "model.add(LSTM(units=50))\n",
    "model.add(Dense(units=1))\n",
    "model.compile(optimizer='adam', loss='mean_squared_error')"
   ]
  },
  {
   "cell_type": "code",
   "execution_count": 32,
   "id": "5804d089",
   "metadata": {},
   "outputs": [
    {
     "name": "stdout",
     "output_type": "stream",
     "text": [
      "Epoch 1/50\n",
      "13/13 [==============================] - 7s 43ms/step - loss: 0.0609\n",
      "Epoch 2/50\n",
      "13/13 [==============================] - 1s 40ms/step - loss: 0.0060\n",
      "Epoch 3/50\n",
      "13/13 [==============================] - 1s 41ms/step - loss: 0.0016\n",
      "Epoch 4/50\n",
      "13/13 [==============================] - 1s 40ms/step - loss: 3.8184e-04\n",
      "Epoch 5/50\n",
      "13/13 [==============================] - 1s 42ms/step - loss: 1.4231e-04\n",
      "Epoch 6/50\n",
      "13/13 [==============================] - 1s 41ms/step - loss: 9.2765e-05\n",
      "Epoch 7/50\n",
      "13/13 [==============================] - 1s 52ms/step - loss: 6.0716e-05\n",
      "Epoch 8/50\n",
      "13/13 [==============================] - 1s 41ms/step - loss: 5.4772e-05\n",
      "Epoch 9/50\n",
      "13/13 [==============================] - 1s 44ms/step - loss: 5.2122e-05\n",
      "Epoch 10/50\n",
      "13/13 [==============================] - 1s 48ms/step - loss: 5.3126e-05\n",
      "Epoch 11/50\n",
      "13/13 [==============================] - 1s 57ms/step - loss: 5.2256e-05\n",
      "Epoch 12/50\n",
      "13/13 [==============================] - 1s 44ms/step - loss: 5.1682e-05\n",
      "Epoch 13/50\n",
      "13/13 [==============================] - 1s 41ms/step - loss: 5.3629e-05\n",
      "Epoch 14/50\n",
      "13/13 [==============================] - 1s 49ms/step - loss: 5.6266e-05\n",
      "Epoch 15/50\n",
      "13/13 [==============================] - 1s 44ms/step - loss: 5.4991e-05\n",
      "Epoch 16/50\n",
      "13/13 [==============================] - 1s 51ms/step - loss: 5.1586e-05\n",
      "Epoch 17/50\n",
      "13/13 [==============================] - 1s 44ms/step - loss: 5.2184e-05\n",
      "Epoch 18/50\n",
      "13/13 [==============================] - 1s 42ms/step - loss: 5.1572e-05\n",
      "Epoch 19/50\n",
      "13/13 [==============================] - 1s 46ms/step - loss: 5.3247e-05\n",
      "Epoch 20/50\n",
      "13/13 [==============================] - 1s 63ms/step - loss: 5.1017e-05\n",
      "Epoch 21/50\n",
      "13/13 [==============================] - 1s 45ms/step - loss: 4.9978e-05\n",
      "Epoch 22/50\n",
      "13/13 [==============================] - 1s 43ms/step - loss: 4.9591e-05\n",
      "Epoch 23/50\n",
      "13/13 [==============================] - 1s 45ms/step - loss: 5.1014e-05\n",
      "Epoch 24/50\n",
      "13/13 [==============================] - 1s 42ms/step - loss: 4.8869e-05\n",
      "Epoch 25/50\n",
      "13/13 [==============================] - 1s 45ms/step - loss: 5.2772e-05\n",
      "Epoch 26/50\n",
      "13/13 [==============================] - 1s 46ms/step - loss: 4.8237e-05\n",
      "Epoch 27/50\n",
      "13/13 [==============================] - 1s 44ms/step - loss: 4.8877e-05\n",
      "Epoch 28/50\n",
      "13/13 [==============================] - 1s 40ms/step - loss: 5.3824e-05\n",
      "Epoch 29/50\n",
      "13/13 [==============================] - 1s 49ms/step - loss: 5.0629e-05\n",
      "Epoch 30/50\n",
      "13/13 [==============================] - 1s 44ms/step - loss: 4.9795e-05\n",
      "Epoch 31/50\n",
      "13/13 [==============================] - 1s 41ms/step - loss: 5.0889e-05\n",
      "Epoch 32/50\n",
      "13/13 [==============================] - 1s 42ms/step - loss: 4.7327e-05\n",
      "Epoch 33/50\n",
      "13/13 [==============================] - 1s 46ms/step - loss: 4.5944e-05\n",
      "Epoch 34/50\n",
      "13/13 [==============================] - 1s 44ms/step - loss: 4.6762e-05\n",
      "Epoch 35/50\n",
      "13/13 [==============================] - 1s 40ms/step - loss: 4.7384e-05\n",
      "Epoch 36/50\n",
      "13/13 [==============================] - 1s 46ms/step - loss: 4.8046e-05\n",
      "Epoch 37/50\n",
      "13/13 [==============================] - 1s 41ms/step - loss: 5.3533e-05\n",
      "Epoch 38/50\n",
      "13/13 [==============================] - 1s 40ms/step - loss: 4.7015e-05\n",
      "Epoch 39/50\n",
      "13/13 [==============================] - 1s 40ms/step - loss: 4.5496e-05\n",
      "Epoch 40/50\n",
      "13/13 [==============================] - 1s 40ms/step - loss: 4.5271e-05\n",
      "Epoch 41/50\n",
      "13/13 [==============================] - 1s 40ms/step - loss: 4.7004e-05\n",
      "Epoch 42/50\n",
      "13/13 [==============================] - 1s 41ms/step - loss: 4.7002e-05\n",
      "Epoch 43/50\n",
      "13/13 [==============================] - 1s 48ms/step - loss: 4.5282e-05\n",
      "Epoch 44/50\n",
      "13/13 [==============================] - 1s 40ms/step - loss: 4.4423e-05\n",
      "Epoch 45/50\n",
      "13/13 [==============================] - 1s 40ms/step - loss: 4.9769e-05\n",
      "Epoch 46/50\n",
      "13/13 [==============================] - 1s 41ms/step - loss: 4.9591e-05\n",
      "Epoch 47/50\n",
      "13/13 [==============================] - 1s 40ms/step - loss: 4.9883e-05\n",
      "Epoch 48/50\n",
      "13/13 [==============================] - 1s 40ms/step - loss: 4.3001e-05\n",
      "Epoch 49/50\n",
      "13/13 [==============================] - 1s 40ms/step - loss: 5.0494e-05\n",
      "Epoch 50/50\n",
      "13/13 [==============================] - 1s 40ms/step - loss: 4.5210e-05\n"
     ]
    },
    {
     "data": {
      "text/plain": [
       "<keras.callbacks.History at 0x7f1265793610>"
      ]
     },
     "execution_count": 32,
     "metadata": {},
     "output_type": "execute_result"
    }
   ],
   "source": [
    "model.fit(X_train, y_train, epochs=50, batch_size=32)"
   ]
  },
  {
   "cell_type": "code",
   "execution_count": 33,
   "id": "958051e9",
   "metadata": {},
   "outputs": [
    {
     "name": "stdout",
     "output_type": "stream",
     "text": [
      "4/4 [==============================] - 1s 14ms/step - loss: 6.5937e-06\n"
     ]
    },
    {
     "data": {
      "text/plain": [
       "6.593711532332236e-06"
      ]
     },
     "execution_count": 33,
     "metadata": {},
     "output_type": "execute_result"
    }
   ],
   "source": [
    "score = model.evaluate(X_test, y_test)\n",
    "score"
   ]
  },
  {
   "cell_type": "code",
   "execution_count": 34,
   "id": "24494291",
   "metadata": {},
   "outputs": [
    {
     "name": "stdout",
     "output_type": "stream",
     "text": [
      "4/4 [==============================] - 3s 16ms/step\n"
     ]
    }
   ],
   "source": [
    "predicted_closing_prices = model.predict(X_test)"
   ]
  },
  {
   "cell_type": "code",
   "execution_count": 35,
   "id": "c1f3615d",
   "metadata": {
    "collapsed": true
   },
   "outputs": [
    {
     "data": {
      "text/plain": [
       "array([[0.52154654],\n",
       "       [0.5213912 ],\n",
       "       [0.52122724],\n",
       "       [0.5210726 ],\n",
       "       [0.52094233],\n",
       "       [0.5208054 ],\n",
       "       [0.52068913],\n",
       "       [0.5205644 ],\n",
       "       [0.5204699 ],\n",
       "       [0.5203607 ],\n",
       "       [0.520306  ],\n",
       "       [0.5202873 ],\n",
       "       [0.5203242 ],\n",
       "       [0.52032906],\n",
       "       [0.52033424],\n",
       "       [0.5203548 ],\n",
       "       [0.52038866],\n",
       "       [0.5204318 ],\n",
       "       [0.5205005 ],\n",
       "       [0.5206066 ],\n",
       "       [0.5207489 ],\n",
       "       [0.52090925],\n",
       "       [0.5210634 ],\n",
       "       [0.5212216 ],\n",
       "       [0.5213893 ],\n",
       "       [0.5215203 ],\n",
       "       [0.521672  ],\n",
       "       [0.5217706 ],\n",
       "       [0.5218829 ],\n",
       "       [0.5219835 ],\n",
       "       [0.5220525 ],\n",
       "       [0.52210706],\n",
       "       [0.52215606],\n",
       "       [0.52214587],\n",
       "       [0.5221428 ],\n",
       "       [0.52214414],\n",
       "       [0.5221424 ],\n",
       "       [0.52218515],\n",
       "       [0.52219075],\n",
       "       [0.52219343],\n",
       "       [0.52225196],\n",
       "       [0.52228034],\n",
       "       [0.52230835],\n",
       "       [0.5223086 ],\n",
       "       [0.5223092 ],\n",
       "       [0.5222798 ],\n",
       "       [0.52224773],\n",
       "       [0.5222109 ],\n",
       "       [0.5221864 ],\n",
       "       [0.5221791 ],\n",
       "       [0.5221695 ],\n",
       "       [0.5221472 ],\n",
       "       [0.5221248 ],\n",
       "       [0.52211356],\n",
       "       [0.52209324],\n",
       "       [0.5220614 ],\n",
       "       [0.5220545 ],\n",
       "       [0.5220877 ],\n",
       "       [0.5221111 ],\n",
       "       [0.5221264 ],\n",
       "       [0.522129  ],\n",
       "       [0.52212435],\n",
       "       [0.5221313 ],\n",
       "       [0.5221334 ],\n",
       "       [0.52213293],\n",
       "       [0.5221283 ],\n",
       "       [0.5221224 ],\n",
       "       [0.52214617],\n",
       "       [0.5221614 ],\n",
       "       [0.52215797],\n",
       "       [0.5221625 ],\n",
       "       [0.52216697],\n",
       "       [0.52218604],\n",
       "       [0.5222271 ],\n",
       "       [0.52226526],\n",
       "       [0.52233666],\n",
       "       [0.5224007 ],\n",
       "       [0.52246517],\n",
       "       [0.5225608 ],\n",
       "       [0.5226531 ],\n",
       "       [0.5227455 ],\n",
       "       [0.5228248 ],\n",
       "       [0.52290136],\n",
       "       [0.52297425],\n",
       "       [0.52305204],\n",
       "       [0.5231067 ],\n",
       "       [0.5231646 ],\n",
       "       [0.523191  ],\n",
       "       [0.5231896 ],\n",
       "       [0.52317256],\n",
       "       [0.5231574 ],\n",
       "       [0.5231356 ],\n",
       "       [0.5231026 ],\n",
       "       [0.5230729 ],\n",
       "       [0.52304393],\n",
       "       [0.5230153 ],\n",
       "       [0.52298665],\n",
       "       [0.5229608 ],\n",
       "       [0.5229246 ],\n",
       "       [0.5229066 ]], dtype=float32)"
      ]
     },
     "execution_count": 35,
     "metadata": {},
     "output_type": "execute_result"
    }
   ],
   "source": [
    "predicted_closing_prices"
   ]
  },
  {
   "cell_type": "code",
   "execution_count": null,
   "id": "eef0f117",
   "metadata": {},
   "outputs": [],
   "source": []
  },
  {
   "cell_type": "code",
   "execution_count": null,
   "id": "9def8da2",
   "metadata": {},
   "outputs": [],
   "source": []
  },
  {
   "cell_type": "code",
   "execution_count": null,
   "id": "3c0d1014",
   "metadata": {},
   "outputs": [],
   "source": []
  },
  {
   "cell_type": "code",
   "execution_count": null,
   "id": "bc858f96",
   "metadata": {},
   "outputs": [],
   "source": [
    "val_predictions = model.predict(X_val).flatten()\n",
    "\n",
    "plt.plot(dates_val, val_predictions)\n",
    "plt.plot(dates_val, y_val)\n",
    "plt.legend(['Validation Predictions', 'Validation Observations'])"
   ]
  },
  {
   "cell_type": "code",
   "execution_count": null,
   "id": "2e7bb335",
   "metadata": {},
   "outputs": [],
   "source": [
    "test_predictions = model.predict(X_test).flatten()\n",
    "\n",
    "plt.figure(figsize=(18, 8))\n",
    "plt.plot(dates_test, test_predictions)\n",
    "plt.plot(dates_test, y_test)\n",
    "plt.legend(['Testing Predictions', 'Testing Observations'])"
   ]
  },
  {
   "cell_type": "code",
   "execution_count": null,
   "id": "821d79aa",
   "metadata": {
    "scrolled": true
   },
   "outputs": [],
   "source": [
    "plt.figure(figsize=(18, 8))\n",
    "\n",
    "plt.plot(dates_train, train_predictions)\n",
    "plt.plot(dates_train, y_train)\n",
    "plt.plot(dates_val, val_predictions)\n",
    "plt.plot(dates_val, y_val)\n",
    "plt.plot(dates_test, test_predictions)\n",
    "plt.plot(dates_test, y_test)\n",
    "plt.legend(['Training Predictions', \n",
    "            'Training Observations',\n",
    "            'Validation Predictions', \n",
    "            'Validation Observations',\n",
    "            'Testing Predictions', \n",
    "            'Testing Observations'])"
   ]
  },
  {
   "cell_type": "markdown",
   "id": "8920c041",
   "metadata": {},
   "source": [
    "# Merging Models"
   ]
  },
  {
   "cell_type": "code",
   "execution_count": null,
   "id": "c25fdf01",
   "metadata": {},
   "outputs": [],
   "source": [
    "# LSTM model\n",
    "lstm_model = Sequential()\n",
    "# add LSTM layers\n",
    "...\n",
    "\n",
    "# Language model\n",
    "language_model = Sequential()\n",
    "# add layers\n",
    "...\n",
    "\n",
    "# Merge outputs from both models\n",
    "merged_output = Concatenate()([lstm_model.output, language_model.output])\n",
    "\n",
    "# Fully connected neural network\n",
    "model = Sequential()\n",
    "model.add(Dense(64, activation='relu', input_shape=(merged_output.shape[1],)))\n",
    "model.add(Dense(32, activation='relu'))\n",
    "model.add(Dense(1))\n",
    "\n",
    "# compile and train the model\n",
    "model.compile(optimizer=Adam(), loss='mse')\n",
    "model.fit(merged_output, y_train, ...)\n"
   ]
  },
  {
   "cell_type": "markdown",
   "id": "c6b9e845",
   "metadata": {},
   "source": [
    "# Trying to use multiple companies"
   ]
  },
  {
   "cell_type": "code",
   "execution_count": null,
   "id": "03de379c",
   "metadata": {
    "scrolled": true
   },
   "outputs": [],
   "source": [
    "df_2 = pd.read_csv(\"AAPL.csv\")\n",
    "df_3 = pd.read_csv(\"TSLA.csv\")"
   ]
  },
  {
   "cell_type": "code",
   "execution_count": null,
   "id": "3ceb9d2f",
   "metadata": {},
   "outputs": [],
   "source": [
    "df_3"
   ]
  },
  {
   "cell_type": "code",
   "execution_count": null,
   "id": "6e43e505",
   "metadata": {},
   "outputs": [],
   "source": [
    "merged_df = pd.merge(df_2, df_3, on='time')\n",
    "merged_df.columns"
   ]
  },
  {
   "cell_type": "code",
   "execution_count": null,
   "id": "87a34fcd",
   "metadata": {},
   "outputs": [],
   "source": [
    "merged_df.drop(['open_x', 'high_x', 'low_x', 'volume_x', 'symbol_x',\n",
    "       'open_y', 'high_y', 'low_y', 'volume_y', 'symbol_y'], axis=1, inplace=True)\n",
    "merged_df"
   ]
  },
  {
   "cell_type": "code",
   "execution_count": null,
   "id": "73c0cf9e",
   "metadata": {},
   "outputs": [],
   "source": [
    "merged_df = merged_df.dropna(subset=['close_x', 'close_y'])"
   ]
  },
  {
   "cell_type": "code",
   "execution_count": null,
   "id": "57a09271",
   "metadata": {},
   "outputs": [],
   "source": [
    "merged_df.rename(columns={'close_x': 'Apple', 'close_y': 'Tesla'}, inplace=True)"
   ]
  },
  {
   "cell_type": "code",
   "execution_count": null,
   "id": "0ec37ce1",
   "metadata": {
    "scrolled": false
   },
   "outputs": [],
   "source": [
    "merged_df"
   ]
  },
  {
   "cell_type": "code",
   "execution_count": null,
   "id": "f5fe220f",
   "metadata": {},
   "outputs": [],
   "source": [
    "merged_df.index = merged_df.pop('time')"
   ]
  },
  {
   "cell_type": "code",
   "execution_count": null,
   "id": "71676331",
   "metadata": {},
   "outputs": [],
   "source": [
    "merged_df"
   ]
  },
  {
   "cell_type": "code",
   "execution_count": null,
   "id": "4fd3b228",
   "metadata": {},
   "outputs": [],
   "source": [
    "df"
   ]
  },
  {
   "cell_type": "code",
   "execution_count": 28,
   "id": "efb4e338",
   "metadata": {},
   "outputs": [
    {
     "name": "stdout",
     "output_type": "stream",
     "text": [
      "(3, 4, 3)\n",
      "(3, 1, 1)\n"
     ]
    }
   ],
   "source": [
    "# --- SEQUENCE A (Paris)\n",
    "\n",
    "day_1 = [10, 25, 50]  # OBSERVATION 1 [temperature, speed, pollution]\n",
    "day_2 = [13, 10, 70]  # OBSERVATION 2 [temperature, speed, pollution]\n",
    "day_3 = [ 9,  5, 90]  # OBSERVATION 3 [temperature, speed, pollution]\n",
    "day_4 = [ 7,  0, 95]  # OBSERVATION 4 [temperature, speed, pollution]\n",
    "\n",
    "sequence_a = [day_1, day_2, day_3, day_4]\n",
    "\n",
    "y_a = [110] # Pollution at day 5\n",
    "\n",
    "# --- SEQUENCE B (Berlin)\n",
    "sequence_b = [[25, 20, 30], [26, 24, 50], [28, 20, 80], [22, 3, 110]]\n",
    "y_b = [125]\n",
    "\n",
    "# --- SEQUENCE C (London)\n",
    "sequence_c = [[15, 10, 60], [25, 20, 65], [35, 10, 75], [36, 15, 70]]\n",
    "y_c = [30]\n",
    "\n",
    "X = np.array([sequence_a, sequence_b, sequence_c]).astype(np.float32)\n",
    "y = np.expand_dims(np.array([y_a, y_b, y_c]).astype(np.float32), axis=-1)\n",
    "\n",
    "print(X.shape)\n",
    "print(y.shape)"
   ]
  },
  {
   "cell_type": "code",
   "execution_count": 32,
   "id": "677ecd92",
   "metadata": {},
   "outputs": [],
   "source": [
    "sq_a = pd.DataFrame(sequence_a)\n",
    "sq_b = pd.DataFrame(sequence_b)\n",
    "sq_c = pd.DataFrame(sequence_c)"
   ]
  },
  {
   "cell_type": "code",
   "execution_count": 34,
   "id": "c0c6cd72",
   "metadata": {},
   "outputs": [
    {
     "ename": "KeyError",
     "evalue": "'open'",
     "output_type": "error",
     "traceback": [
      "\u001b[0;31m---------------------------------------------------------------------------\u001b[0m",
      "\u001b[0;31mKeyError\u001b[0m                                  Traceback (most recent call last)",
      "Cell \u001b[0;32mIn [34], line 12\u001b[0m\n\u001b[1;32m     10\u001b[0m \u001b[38;5;66;03m# Loop through the original dataframes and append the value to the list\u001b[39;00m\n\u001b[1;32m     11\u001b[0m \u001b[38;5;28;01mfor\u001b[39;00m df \u001b[38;5;129;01min\u001b[39;00m sqs:\n\u001b[0;32m---> 12\u001b[0m     values\u001b[38;5;241m.\u001b[39mappend(\u001b[43mdf\u001b[49m\u001b[38;5;241;43m.\u001b[39;49m\u001b[43mloc\u001b[49m\u001b[43m[\u001b[49m\u001b[43mrow\u001b[49m\u001b[43m,\u001b[49m\u001b[43m \u001b[49m\u001b[43mcol\u001b[49m\u001b[43m]\u001b[49m)\n\u001b[1;32m     13\u001b[0m \u001b[38;5;66;03m# Set the value in the new dataframe to the list of values\u001b[39;00m\n\u001b[1;32m     14\u001b[0m df_concat\u001b[38;5;241m.\u001b[39mloc[row, col] \u001b[38;5;241m=\u001b[39m values\n",
      "File \u001b[0;32m~/.pyenv/versions/3.10.6/envs/lewagon/lib/python3.10/site-packages/pandas/core/indexing.py:960\u001b[0m, in \u001b[0;36m_LocationIndexer.__getitem__\u001b[0;34m(self, key)\u001b[0m\n\u001b[1;32m    958\u001b[0m     key \u001b[38;5;241m=\u001b[39m \u001b[38;5;28mtuple\u001b[39m(com\u001b[38;5;241m.\u001b[39mapply_if_callable(x, \u001b[38;5;28mself\u001b[39m\u001b[38;5;241m.\u001b[39mobj) \u001b[38;5;28;01mfor\u001b[39;00m x \u001b[38;5;129;01min\u001b[39;00m key)\n\u001b[1;32m    959\u001b[0m     \u001b[38;5;28;01mif\u001b[39;00m \u001b[38;5;28mself\u001b[39m\u001b[38;5;241m.\u001b[39m_is_scalar_access(key):\n\u001b[0;32m--> 960\u001b[0m         \u001b[38;5;28;01mreturn\u001b[39;00m \u001b[38;5;28;43mself\u001b[39;49m\u001b[38;5;241;43m.\u001b[39;49m\u001b[43mobj\u001b[49m\u001b[38;5;241;43m.\u001b[39;49m\u001b[43m_get_value\u001b[49m\u001b[43m(\u001b[49m\u001b[38;5;241;43m*\u001b[39;49m\u001b[43mkey\u001b[49m\u001b[43m,\u001b[49m\u001b[43m \u001b[49m\u001b[43mtakeable\u001b[49m\u001b[38;5;241;43m=\u001b[39;49m\u001b[38;5;28;43mself\u001b[39;49m\u001b[38;5;241;43m.\u001b[39;49m\u001b[43m_takeable\u001b[49m\u001b[43m)\u001b[49m\n\u001b[1;32m    961\u001b[0m     \u001b[38;5;28;01mreturn\u001b[39;00m \u001b[38;5;28mself\u001b[39m\u001b[38;5;241m.\u001b[39m_getitem_tuple(key)\n\u001b[1;32m    962\u001b[0m \u001b[38;5;28;01melse\u001b[39;00m:\n\u001b[1;32m    963\u001b[0m     \u001b[38;5;66;03m# we by definition only have the 0th axis\u001b[39;00m\n",
      "File \u001b[0;32m~/.pyenv/versions/3.10.6/envs/lewagon/lib/python3.10/site-packages/pandas/core/frame.py:3615\u001b[0m, in \u001b[0;36mDataFrame._get_value\u001b[0;34m(self, index, col, takeable)\u001b[0m\n\u001b[1;32m   3612\u001b[0m     series \u001b[38;5;241m=\u001b[39m \u001b[38;5;28mself\u001b[39m\u001b[38;5;241m.\u001b[39m_ixs(col, axis\u001b[38;5;241m=\u001b[39m\u001b[38;5;241m1\u001b[39m)\n\u001b[1;32m   3613\u001b[0m     \u001b[38;5;28;01mreturn\u001b[39;00m series\u001b[38;5;241m.\u001b[39m_values[index]\n\u001b[0;32m-> 3615\u001b[0m series \u001b[38;5;241m=\u001b[39m \u001b[38;5;28;43mself\u001b[39;49m\u001b[38;5;241;43m.\u001b[39;49m\u001b[43m_get_item_cache\u001b[49m\u001b[43m(\u001b[49m\u001b[43mcol\u001b[49m\u001b[43m)\u001b[49m\n\u001b[1;32m   3616\u001b[0m engine \u001b[38;5;241m=\u001b[39m \u001b[38;5;28mself\u001b[39m\u001b[38;5;241m.\u001b[39mindex\u001b[38;5;241m.\u001b[39m_engine\n\u001b[1;32m   3618\u001b[0m \u001b[38;5;28;01mif\u001b[39;00m \u001b[38;5;129;01mnot\u001b[39;00m \u001b[38;5;28misinstance\u001b[39m(\u001b[38;5;28mself\u001b[39m\u001b[38;5;241m.\u001b[39mindex, MultiIndex):\n\u001b[1;32m   3619\u001b[0m     \u001b[38;5;66;03m# CategoricalIndex: Trying to use the engine fastpath may give incorrect\u001b[39;00m\n\u001b[1;32m   3620\u001b[0m     \u001b[38;5;66;03m#  results if our categories are integers that dont match our codes\u001b[39;00m\n\u001b[1;32m   3621\u001b[0m     \u001b[38;5;66;03m# IntervalIndex: IntervalTree has no get_loc\u001b[39;00m\n",
      "File \u001b[0;32m~/.pyenv/versions/3.10.6/envs/lewagon/lib/python3.10/site-packages/pandas/core/frame.py:3931\u001b[0m, in \u001b[0;36mDataFrame._get_item_cache\u001b[0;34m(self, item)\u001b[0m\n\u001b[1;32m   3926\u001b[0m res \u001b[38;5;241m=\u001b[39m cache\u001b[38;5;241m.\u001b[39mget(item)\n\u001b[1;32m   3927\u001b[0m \u001b[38;5;28;01mif\u001b[39;00m res \u001b[38;5;129;01mis\u001b[39;00m \u001b[38;5;28;01mNone\u001b[39;00m:\n\u001b[1;32m   3928\u001b[0m     \u001b[38;5;66;03m# All places that call _get_item_cache have unique columns,\u001b[39;00m\n\u001b[1;32m   3929\u001b[0m     \u001b[38;5;66;03m#  pending resolution of GH#33047\u001b[39;00m\n\u001b[0;32m-> 3931\u001b[0m     loc \u001b[38;5;241m=\u001b[39m \u001b[38;5;28;43mself\u001b[39;49m\u001b[38;5;241;43m.\u001b[39;49m\u001b[43mcolumns\u001b[49m\u001b[38;5;241;43m.\u001b[39;49m\u001b[43mget_loc\u001b[49m\u001b[43m(\u001b[49m\u001b[43mitem\u001b[49m\u001b[43m)\u001b[49m\n\u001b[1;32m   3932\u001b[0m     res \u001b[38;5;241m=\u001b[39m \u001b[38;5;28mself\u001b[39m\u001b[38;5;241m.\u001b[39m_ixs(loc, axis\u001b[38;5;241m=\u001b[39m\u001b[38;5;241m1\u001b[39m)\n\u001b[1;32m   3934\u001b[0m     cache[item] \u001b[38;5;241m=\u001b[39m res\n",
      "File \u001b[0;32m~/.pyenv/versions/3.10.6/envs/lewagon/lib/python3.10/site-packages/pandas/core/indexes/range.py:389\u001b[0m, in \u001b[0;36mRangeIndex.get_loc\u001b[0;34m(self, key, method, tolerance)\u001b[0m\n\u001b[1;32m    387\u001b[0m             \u001b[38;5;28;01mraise\u001b[39;00m \u001b[38;5;167;01mKeyError\u001b[39;00m(key) \u001b[38;5;28;01mfrom\u001b[39;00m \u001b[38;5;21;01merr\u001b[39;00m\n\u001b[1;32m    388\u001b[0m     \u001b[38;5;28mself\u001b[39m\u001b[38;5;241m.\u001b[39m_check_indexing_error(key)\n\u001b[0;32m--> 389\u001b[0m     \u001b[38;5;28;01mraise\u001b[39;00m \u001b[38;5;167;01mKeyError\u001b[39;00m(key)\n\u001b[1;32m    390\u001b[0m \u001b[38;5;28;01mreturn\u001b[39;00m \u001b[38;5;28msuper\u001b[39m()\u001b[38;5;241m.\u001b[39mget_loc(key, method\u001b[38;5;241m=\u001b[39mmethod, tolerance\u001b[38;5;241m=\u001b[39mtolerance)\n",
      "\u001b[0;31mKeyError\u001b[0m: 'open'"
     ]
    }
   ],
   "source": [
    "sqs = [sq_a, sq_b, sq_c]\n",
    "\n",
    "df_concat = pd.DataFrame(index=sq_a.index, columns=df1.columns)\n",
    "\n",
    "# Loop through the columns and rows of the new dataframe\n",
    "for col in df_concat.columns:\n",
    "    for row in df_concat.index:\n",
    "        # Initialize an empty list to store the values from the original dataframes\n",
    "        values = []\n",
    "        # Loop through the original dataframes and append the value to the list\n",
    "        for df in sqs:\n",
    "            values.append(df.loc[row, col])\n",
    "        # Set the value in the new dataframe to the list of values\n",
    "        df_concat.loc[row, col] = values\n",
    "\n",
    "# Check the resulting dataframe\n",
    "print(df_concat.head())"
   ]
  },
  {
   "cell_type": "code",
   "execution_count": 37,
   "id": "95f446c8",
   "metadata": {},
   "outputs": [
    {
     "data": {
      "text/plain": [
       "array([[10, 25, 50],\n",
       "       [13, 10, 70],\n",
       "       [ 9,  5, 90],\n",
       "       [ 7,  0, 95]])"
      ]
     },
     "execution_count": 37,
     "metadata": {},
     "output_type": "execute_result"
    }
   ],
   "source": [
    "np.array(sq_a)"
   ]
  }
 ],
 "metadata": {
  "kernelspec": {
   "display_name": "Python 3 (ipykernel)",
   "language": "python",
   "name": "python3"
  },
  "language_info": {
   "codemirror_mode": {
    "name": "ipython",
    "version": 3
   },
   "file_extension": ".py",
   "mimetype": "text/x-python",
   "name": "python",
   "nbconvert_exporter": "python",
   "pygments_lexer": "ipython3",
   "version": "3.10.6"
  },
  "toc": {
   "base_numbering": 1,
   "nav_menu": {},
   "number_sections": true,
   "sideBar": true,
   "skip_h1_title": false,
   "title_cell": "Table of Contents",
   "title_sidebar": "Contents",
   "toc_cell": false,
   "toc_position": {},
   "toc_section_display": true,
   "toc_window_display": false
  }
 },
 "nbformat": 4,
 "nbformat_minor": 5
}
