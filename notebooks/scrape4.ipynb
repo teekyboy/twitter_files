{
 "cells": [
  {
   "cell_type": "code",
   "execution_count": 1,
   "metadata": {},
   "outputs": [],
   "source": [
    "import pandas as pd\n",
    "import snscrape.modules.twitter as sntwitter"
   ]
  },
  {
   "cell_type": "code",
   "execution_count": 2,
   "metadata": {},
   "outputs": [],
   "source": [
    "#trying to scrape tweets from 2022 for the following users\n",
    "query = 'from:mikealfred OR from:MFHoz OR from:DeItaone since:2022-01-01 until:2022-12-31'\n",
    "scraper = sntwitter.TwitterSearchScraper(query)"
   ]
  },
  {
   "cell_type": "code",
   "execution_count": 3,
   "metadata": {},
   "outputs": [],
   "source": [
    "#create empty list to store tweets\n",
    "tweets = []\n",
    "#loop through tweets and append to list\n",
    "for i, tweet in enumerate(scraper.get_items()):\n",
    "    data = [tweet.url, tweet.date, tweet.rawContent, tweet.user.username, \n",
    "            tweet.likeCount, tweet.replyCount, tweet.retweetCount, tweet.quoteCount, \n",
    "            tweet.cashtags, tweet.hashtags, tweet.viewCount]\n",
    "    tweets.append(data)"
   ]
  },
  {
   "cell_type": "code",
   "execution_count": 4,
   "metadata": {},
   "outputs": [
    {
     "data": {
      "text/html": [
       "<div>\n",
       "<style scoped>\n",
       "    .dataframe tbody tr th:only-of-type {\n",
       "        vertical-align: middle;\n",
       "    }\n",
       "\n",
       "    .dataframe tbody tr th {\n",
       "        vertical-align: top;\n",
       "    }\n",
       "\n",
       "    .dataframe thead th {\n",
       "        text-align: right;\n",
       "    }\n",
       "</style>\n",
       "<table border=\"1\" class=\"dataframe\">\n",
       "  <thead>\n",
       "    <tr style=\"text-align: right;\">\n",
       "      <th></th>\n",
       "      <th>url</th>\n",
       "      <th>date</th>\n",
       "      <th>rawContent</th>\n",
       "      <th>username</th>\n",
       "      <th>likeCount</th>\n",
       "      <th>replyCount</th>\n",
       "      <th>retweetCount</th>\n",
       "      <th>quoteCount</th>\n",
       "      <th>cashtags</th>\n",
       "      <th>hashtags</th>\n",
       "      <th>viewCount</th>\n",
       "    </tr>\n",
       "  </thead>\n",
       "  <tbody>\n",
       "    <tr>\n",
       "      <th>0</th>\n",
       "      <td>https://twitter.com/mikealfred/status/16089731...</td>\n",
       "      <td>2022-12-30 23:47:39+00:00</td>\n",
       "      <td>@w_s_bitcoin Sounds cool but I don't have a sa...</td>\n",
       "      <td>mikealfred</td>\n",
       "      <td>3</td>\n",
       "      <td>1</td>\n",
       "      <td>0</td>\n",
       "      <td>0</td>\n",
       "      <td>None</td>\n",
       "      <td>None</td>\n",
       "      <td>923.0</td>\n",
       "    </tr>\n",
       "    <tr>\n",
       "      <th>1</th>\n",
       "      <td>https://twitter.com/mikealfred/status/16089730...</td>\n",
       "      <td>2022-12-30 23:47:16+00:00</td>\n",
       "      <td>@IIICapital Now you're on to something</td>\n",
       "      <td>mikealfred</td>\n",
       "      <td>8</td>\n",
       "      <td>0</td>\n",
       "      <td>0</td>\n",
       "      <td>0</td>\n",
       "      <td>None</td>\n",
       "      <td>None</td>\n",
       "      <td>1250.0</td>\n",
       "    </tr>\n",
       "    <tr>\n",
       "      <th>2</th>\n",
       "      <td>https://twitter.com/mikealfred/status/16089718...</td>\n",
       "      <td>2022-12-30 23:42:40+00:00</td>\n",
       "      <td>@SelfMadeMastery Sounds good while you're in t...</td>\n",
       "      <td>mikealfred</td>\n",
       "      <td>2</td>\n",
       "      <td>0</td>\n",
       "      <td>0</td>\n",
       "      <td>0</td>\n",
       "      <td>None</td>\n",
       "      <td>None</td>\n",
       "      <td>98.0</td>\n",
       "    </tr>\n",
       "    <tr>\n",
       "      <th>3</th>\n",
       "      <td>https://twitter.com/mikealfred/status/16089670...</td>\n",
       "      <td>2022-12-30 23:23:22+00:00</td>\n",
       "      <td>@GRDecter Several large crypto exchanges and l...</td>\n",
       "      <td>mikealfred</td>\n",
       "      <td>7</td>\n",
       "      <td>2</td>\n",
       "      <td>0</td>\n",
       "      <td>0</td>\n",
       "      <td>None</td>\n",
       "      <td>None</td>\n",
       "      <td>2404.0</td>\n",
       "    </tr>\n",
       "    <tr>\n",
       "      <th>4</th>\n",
       "      <td>https://twitter.com/mikealfred/status/16089652...</td>\n",
       "      <td>2022-12-30 23:16:12+00:00</td>\n",
       "      <td>@Mio_Mind You are definitely my enemy if you m...</td>\n",
       "      <td>mikealfred</td>\n",
       "      <td>7</td>\n",
       "      <td>1</td>\n",
       "      <td>0</td>\n",
       "      <td>0</td>\n",
       "      <td>None</td>\n",
       "      <td>None</td>\n",
       "      <td>396.0</td>\n",
       "    </tr>\n",
       "  </tbody>\n",
       "</table>\n",
       "</div>"
      ],
      "text/plain": [
       "                                                 url  \\\n",
       "0  https://twitter.com/mikealfred/status/16089731...   \n",
       "1  https://twitter.com/mikealfred/status/16089730...   \n",
       "2  https://twitter.com/mikealfred/status/16089718...   \n",
       "3  https://twitter.com/mikealfred/status/16089670...   \n",
       "4  https://twitter.com/mikealfred/status/16089652...   \n",
       "\n",
       "                       date  \\\n",
       "0 2022-12-30 23:47:39+00:00   \n",
       "1 2022-12-30 23:47:16+00:00   \n",
       "2 2022-12-30 23:42:40+00:00   \n",
       "3 2022-12-30 23:23:22+00:00   \n",
       "4 2022-12-30 23:16:12+00:00   \n",
       "\n",
       "                                          rawContent    username  likeCount  \\\n",
       "0  @w_s_bitcoin Sounds cool but I don't have a sa...  mikealfred          3   \n",
       "1             @IIICapital Now you're on to something  mikealfred          8   \n",
       "2  @SelfMadeMastery Sounds good while you're in t...  mikealfred          2   \n",
       "3  @GRDecter Several large crypto exchanges and l...  mikealfred          7   \n",
       "4  @Mio_Mind You are definitely my enemy if you m...  mikealfred          7   \n",
       "\n",
       "   replyCount  retweetCount  quoteCount cashtags hashtags  viewCount  \n",
       "0           1             0           0     None     None      923.0  \n",
       "1           0             0           0     None     None     1250.0  \n",
       "2           0             0           0     None     None       98.0  \n",
       "3           2             0           0     None     None     2404.0  \n",
       "4           1             0           0     None     None      396.0  "
      ]
     },
     "execution_count": 4,
     "metadata": {},
     "output_type": "execute_result"
    }
   ],
   "source": [
    "#convert list to dataframe\n",
    "df = pd.DataFrame(tweets, columns= ['url', 'date', 'rawContent', 'username',\n",
    "                                    'likeCount', 'replyCount', 'retweetCount', 'quoteCount',\n",
    "                                    'cashtags', 'hashtags', 'viewCount'])\n",
    "df.head()"
   ]
  },
  {
   "cell_type": "code",
   "execution_count": 5,
   "metadata": {},
   "outputs": [
    {
     "name": "stdout",
     "output_type": "stream",
     "text": [
      "<class 'pandas.core.frame.DataFrame'>\n",
      "RangeIndex: 18140 entries, 0 to 18139\n",
      "Data columns (total 11 columns):\n",
      " #   Column        Non-Null Count  Dtype              \n",
      "---  ------        --------------  -----              \n",
      " 0   url           18140 non-null  object             \n",
      " 1   date          18140 non-null  datetime64[ns, UTC]\n",
      " 2   rawContent    18140 non-null  object             \n",
      " 3   username      18140 non-null  object             \n",
      " 4   likeCount     18140 non-null  int64              \n",
      " 5   replyCount    18140 non-null  int64              \n",
      " 6   retweetCount  18140 non-null  int64              \n",
      " 7   quoteCount    18140 non-null  int64              \n",
      " 8   cashtags      417 non-null    object             \n",
      " 9   hashtags      843 non-null    object             \n",
      " 10  viewCount     1004 non-null   float64            \n",
      "dtypes: datetime64[ns, UTC](1), float64(1), int64(4), object(5)\n",
      "memory usage: 1.5+ MB\n"
     ]
    }
   ],
   "source": [
    "df.info()"
   ]
  },
  {
   "cell_type": "code",
   "execution_count": 6,
   "metadata": {},
   "outputs": [],
   "source": [
    "#save to csv\n",
    "data = df.to_csv('file19.csv', index=False)"
   ]
  }
 ],
 "metadata": {
  "kernelspec": {
   "display_name": "twitter_files",
   "language": "python",
   "name": "python3"
  },
  "language_info": {
   "codemirror_mode": {
    "name": "ipython",
    "version": 3
   },
   "file_extension": ".py",
   "mimetype": "text/x-python",
   "name": "python",
   "nbconvert_exporter": "python",
   "pygments_lexer": "ipython3",
   "version": "3.10.6"
  },
  "orig_nbformat": 4
 },
 "nbformat": 4,
 "nbformat_minor": 2
}
