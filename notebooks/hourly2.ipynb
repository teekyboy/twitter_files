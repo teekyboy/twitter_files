{
 "cells": [
  {
   "cell_type": "code",
   "execution_count": 8,
   "metadata": {},
   "outputs": [],
   "source": [
    "import pandas as pd\n",
    "import yfinance as yf\n",
    "import time"
   ]
  },
  {
   "cell_type": "code",
   "execution_count": 9,
   "metadata": {},
   "outputs": [],
   "source": [
    "# Define time intervals for closing prices\n",
    "time_intervals = {\"1h\": \"60m\", \"1d\": \"1d\", \"1w\": \"1wk\", \"1m\": \"1mo\"}\n",
    "\n",
    "# Load data frame\n",
    "data = pd.read_csv(\"/Users/teekyboy/Desktop/random_test.csv\")"
   ]
  },
  {
   "cell_type": "code",
   "execution_count": 10,
   "metadata": {},
   "outputs": [
    {
     "name": "stdout",
     "output_type": "stream",
     "text": [
      "Unexpected exception formatting exception. Falling back to standard exception\n"
     ]
    },
    {
     "name": "stderr",
     "output_type": "stream",
     "text": [
      "Traceback (most recent call last):\n",
      "  File \"pandas/_libs/index.pyx\", line 548, in pandas._libs.index.DatetimeEngine.get_loc\n",
      "  File \"pandas/_libs/hashtable_class_helper.pxi\", line 2263, in pandas._libs.hashtable.Int64HashTable.get_item\n",
      "  File \"pandas/_libs/hashtable_class_helper.pxi\", line 2273, in pandas._libs.hashtable.Int64HashTable.get_item\n",
      "KeyError: 1640999757000000000\n",
      "\n",
      "During handling of the above exception, another exception occurred:\n",
      "\n",
      "Traceback (most recent call last):\n",
      "  File \"/Users/teekyboy/.pyenv/versions/3.10.6/envs/twitter_files/lib/python3.10/site-packages/pandas/core/indexes/base.py\", line 3802, in get_loc\n",
      "    return self._engine.get_loc(casted_key)\n",
      "  File \"pandas/_libs/index.pyx\", line 516, in pandas._libs.index.DatetimeEngine.get_loc\n",
      "  File \"pandas/_libs/index.pyx\", line 550, in pandas._libs.index.DatetimeEngine.get_loc\n",
      "KeyError: Timestamp('2021-12-31 20:15:57-0500', tz='America/New_York')\n",
      "\n",
      "The above exception was the direct cause of the following exception:\n",
      "\n",
      "Traceback (most recent call last):\n",
      "  File \"/Users/teekyboy/.pyenv/versions/3.10.6/envs/twitter_files/lib/python3.10/site-packages/pandas/core/indexes/datetimes.py\", line 736, in get_loc\n",
      "    return Index.get_loc(self, key, method, tolerance)\n",
      "  File \"/Users/teekyboy/.pyenv/versions/3.10.6/envs/twitter_files/lib/python3.10/site-packages/pandas/core/indexes/base.py\", line 3804, in get_loc\n",
      "    raise KeyError(key) from err\n",
      "KeyError: Timestamp('2021-12-31 20:15:57-0500', tz='America/New_York')\n",
      "\n",
      "The above exception was the direct cause of the following exception:\n",
      "\n",
      "Traceback (most recent call last):\n",
      "  File \"/Users/teekyboy/.pyenv/versions/3.10.6/envs/twitter_files/lib/python3.10/site-packages/IPython/core/interactiveshell.py\", line 3460, in run_code\n",
      "    exec(code_obj, self.user_global_ns, self.user_ns)\n",
      "  File \"/var/folders/sd/p4tcs9gs0hn4nt45wd9f9q1w0000gn/T/ipykernel_7243/3308498788.py\", line 10, in <module>\n",
      "    price = stock_data.loc[date, \"Close\"]\n",
      "  File \"/Users/teekyboy/.pyenv/versions/3.10.6/envs/twitter_files/lib/python3.10/site-packages/pandas/core/indexing.py\", line 1066, in __getitem__\n",
      "    return self.obj._get_value(*key, takeable=self._takeable)\n",
      "  File \"/Users/teekyboy/.pyenv/versions/3.10.6/envs/twitter_files/lib/python3.10/site-packages/pandas/core/frame.py\", line 3924, in _get_value\n",
      "    row = self.index.get_loc(index)\n",
      "  File \"/Users/teekyboy/.pyenv/versions/3.10.6/envs/twitter_files/lib/python3.10/site-packages/pandas/core/indexes/datetimes.py\", line 738, in get_loc\n",
      "    raise KeyError(orig_key) from err\n",
      "KeyError: Timestamp('2022-01-01 01:15:57+0000', tz='UTC')\n",
      "\n",
      "During handling of the above exception, another exception occurred:\n",
      "\n",
      "Traceback (most recent call last):\n",
      "  File \"/Users/teekyboy/.pyenv/versions/3.10.6/envs/twitter_files/lib/python3.10/site-packages/IPython/core/interactiveshell.py\", line 2057, in showtraceback\n",
      "    stb = self.InteractiveTB.structured_traceback(\n",
      "  File \"/Users/teekyboy/.pyenv/versions/3.10.6/envs/twitter_files/lib/python3.10/site-packages/IPython/core/ultratb.py\", line 1288, in structured_traceback\n",
      "    return FormattedTB.structured_traceback(\n",
      "  File \"/Users/teekyboy/.pyenv/versions/3.10.6/envs/twitter_files/lib/python3.10/site-packages/IPython/core/ultratb.py\", line 1177, in structured_traceback\n",
      "    return VerboseTB.structured_traceback(\n",
      "  File \"/Users/teekyboy/.pyenv/versions/3.10.6/envs/twitter_files/lib/python3.10/site-packages/IPython/core/ultratb.py\", line 1049, in structured_traceback\n",
      "    formatted_exceptions += self.format_exception_as_a_whole(etype, evalue, etb, lines_of_context,\n",
      "  File \"/Users/teekyboy/.pyenv/versions/3.10.6/envs/twitter_files/lib/python3.10/site-packages/IPython/core/ultratb.py\", line 935, in format_exception_as_a_whole\n",
      "    self.get_records(etb, number_of_lines_of_context, tb_offset) if etb else []\n",
      "  File \"/Users/teekyboy/.pyenv/versions/3.10.6/envs/twitter_files/lib/python3.10/site-packages/IPython/core/ultratb.py\", line 1003, in get_records\n",
      "    lines, first = inspect.getsourcelines(etb.tb_frame)\n",
      "  File \"/Users/teekyboy/.pyenv/versions/3.10.6/lib/python3.10/inspect.py\", line 1129, in getsourcelines\n",
      "    lines, lnum = findsource(object)\n",
      "  File \"/Users/teekyboy/.pyenv/versions/3.10.6/lib/python3.10/inspect.py\", line 958, in findsource\n",
      "    raise OSError('could not get source code')\n",
      "OSError: could not get source code\n"
     ]
    }
   ],
   "source": [
    "# Loop through stock symbols\n",
    "for symbol in data[\"stock\"]:\n",
    "    # Get stock data from Yahoo Finance\n",
    "    ticker = yf.Ticker(symbol)\n",
    "    stock_data = ticker.history(period=\"max\")\n",
    "    if not stock_data.empty:\n",
    "        # Get buying price at the time of the date column\n",
    "        date_str = data.loc[data[\"stock\"]==symbol, \"date\"].values[0]\n",
    "        date = pd.to_datetime(date_str)\n",
    "        price = stock_data.loc[date, \"Close\"]\n",
    "        if pd.isna(price):\n",
    "            # If price is not available, get opening price of next day\n",
    "            next_date = date + pd.Timedelta(days=1)\n",
    "            next_price = stock_data.loc[next_date, \"Open\"]\n",
    "            if not pd.isna(next_price):\n",
    "                price = next_price\n",
    "        # Update price column\n",
    "        data.loc[data[\"stock\"]==symbol, \"price\"] = price\n",
    "        # Get closing prices for different time intervals\n",
    "        for interval, period in time_intervals.items():\n",
    "            try:\n",
    "                closing_data = ticker.history(period=period)\n",
    "                if not closing_data.empty:\n",
    "                    closing_price = closing_data[\"Close\"].iloc[-1]\n",
    "                    data.loc[data[\"stock\"]==symbol, f\"closing_{interval}\"] = closing_price\n",
    "            except OSError:\n",
    "                print(f\"Could not get closing price for {interval} for symbol {symbol}\")\n",
    "    else:\n",
    "        print(f\"No data found for symbol {symbol}\")\n",
    "    # Sleep for 1 second to avoid API rate limit\n",
    "    time.sleep(1)"
   ]
  },
  {
   "cell_type": "code",
   "execution_count": null,
   "metadata": {},
   "outputs": [],
   "source": []
  }
 ],
 "metadata": {
  "kernelspec": {
   "display_name": "twitter_files",
   "language": "python",
   "name": "python3"
  },
  "language_info": {
   "codemirror_mode": {
    "name": "ipython",
    "version": 3
   },
   "file_extension": ".py",
   "mimetype": "text/x-python",
   "name": "python",
   "nbconvert_exporter": "python",
   "pygments_lexer": "ipython3",
   "version": "3.10.6"
  },
  "orig_nbformat": 4
 },
 "nbformat": 4,
 "nbformat_minor": 2
}
