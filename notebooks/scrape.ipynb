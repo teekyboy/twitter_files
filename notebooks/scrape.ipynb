{
 "cells": [
  {
   "cell_type": "code",
   "execution_count": 19,
   "metadata": {},
   "outputs": [],
   "source": [
    "import pandas as pd\n",
    "import snscrape.modules.twitter as sntwitter"
   ]
  },
  {
   "cell_type": "code",
   "execution_count": 20,
   "metadata": {},
   "outputs": [],
   "source": [
    "#trying to scrape tweets from 2022 for the following users\n",
    "query = 'from:Route2FI OR from:Fxhedgers OR from:LadyofCrypto1 since:2022-01-01 until:2022-12-31'\n",
    "scraper = sntwitter.TwitterSearchScraper(query)"
   ]
  },
  {
   "cell_type": "code",
   "execution_count": 21,
   "metadata": {},
   "outputs": [],
   "source": [
    "#create empty list to store tweets\n",
    "tweets = []\n",
    "#loop through tweets and append to list\n",
    "for i, tweet in enumerate(scraper.get_items()):\n",
    "    data = [tweet.url, tweet.date, tweet.rawContent, tweet.user.username, \n",
    "            tweet.likeCount, tweet.replyCount, tweet.retweetCount, tweet.quoteCount, \n",
    "            tweet.cashtags, tweet.hashtags]\n",
    "    tweets.append(data)"
   ]
  },
  {
   "cell_type": "code",
   "execution_count": 22,
   "metadata": {},
   "outputs": [
    {
     "data": {
      "text/html": [
       "<div>\n",
       "<style scoped>\n",
       "    .dataframe tbody tr th:only-of-type {\n",
       "        vertical-align: middle;\n",
       "    }\n",
       "\n",
       "    .dataframe tbody tr th {\n",
       "        vertical-align: top;\n",
       "    }\n",
       "\n",
       "    .dataframe thead th {\n",
       "        text-align: right;\n",
       "    }\n",
       "</style>\n",
       "<table border=\"1\" class=\"dataframe\">\n",
       "  <thead>\n",
       "    <tr style=\"text-align: right;\">\n",
       "      <th></th>\n",
       "      <th>url</th>\n",
       "      <th>date</th>\n",
       "      <th>rawContent</th>\n",
       "      <th>username</th>\n",
       "      <th>likeCount</th>\n",
       "      <th>replyCount</th>\n",
       "      <th>retweetCount</th>\n",
       "      <th>quoteCount</th>\n",
       "      <th>cashtags</th>\n",
       "      <th>hashtags</th>\n",
       "      <th>viewCount</th>\n",
       "    </tr>\n",
       "  </thead>\n",
       "  <tbody>\n",
       "    <tr>\n",
       "      <th>0</th>\n",
       "      <td>https://twitter.com/Route2FI/status/1608883626...</td>\n",
       "      <td>2022-12-30 17:52:02+00:00</td>\n",
       "      <td>@crypthoem Let's pray 😉</td>\n",
       "      <td>Route2FI</td>\n",
       "      <td>3</td>\n",
       "      <td>0</td>\n",
       "      <td>0</td>\n",
       "      <td>0</td>\n",
       "      <td>None</td>\n",
       "      <td>None</td>\n",
       "      <td>588.0</td>\n",
       "    </tr>\n",
       "    <tr>\n",
       "      <th>1</th>\n",
       "      <td>https://twitter.com/Route2FI/status/1608873426...</td>\n",
       "      <td>2022-12-30 17:11:30+00:00</td>\n",
       "      <td>2 days left of bera, then up only every day in...</td>\n",
       "      <td>Route2FI</td>\n",
       "      <td>205</td>\n",
       "      <td>29</td>\n",
       "      <td>18</td>\n",
       "      <td>0</td>\n",
       "      <td>None</td>\n",
       "      <td>None</td>\n",
       "      <td>31158.0</td>\n",
       "    </tr>\n",
       "    <tr>\n",
       "      <th>2</th>\n",
       "      <td>https://twitter.com/Fxhedgers/status/160886005...</td>\n",
       "      <td>2022-12-30 16:18:23+00:00</td>\n",
       "      <td>10-YR YIELD COULD BREAK ABOVE 4.00% NEXT WEEK:...</td>\n",
       "      <td>Fxhedgers</td>\n",
       "      <td>244</td>\n",
       "      <td>0</td>\n",
       "      <td>47</td>\n",
       "      <td>5</td>\n",
       "      <td>None</td>\n",
       "      <td>None</td>\n",
       "      <td>51663.0</td>\n",
       "    </tr>\n",
       "    <tr>\n",
       "      <th>3</th>\n",
       "      <td>https://twitter.com/Route2FI/status/1608814484...</td>\n",
       "      <td>2022-12-30 13:17:17+00:00</td>\n",
       "      <td>@joaquinorma1 🫡</td>\n",
       "      <td>Route2FI</td>\n",
       "      <td>2</td>\n",
       "      <td>0</td>\n",
       "      <td>0</td>\n",
       "      <td>0</td>\n",
       "      <td>None</td>\n",
       "      <td>None</td>\n",
       "      <td>135.0</td>\n",
       "    </tr>\n",
       "    <tr>\n",
       "      <th>4</th>\n",
       "      <td>https://twitter.com/Route2FI/status/1608812846...</td>\n",
       "      <td>2022-12-30 13:10:47+00:00</td>\n",
       "      <td>@E_Schhneider gm, bro</td>\n",
       "      <td>Route2FI</td>\n",
       "      <td>6</td>\n",
       "      <td>1</td>\n",
       "      <td>0</td>\n",
       "      <td>1</td>\n",
       "      <td>None</td>\n",
       "      <td>None</td>\n",
       "      <td>3373.0</td>\n",
       "    </tr>\n",
       "  </tbody>\n",
       "</table>\n",
       "</div>"
      ],
      "text/plain": [
       "                                                 url  \\\n",
       "0  https://twitter.com/Route2FI/status/1608883626...   \n",
       "1  https://twitter.com/Route2FI/status/1608873426...   \n",
       "2  https://twitter.com/Fxhedgers/status/160886005...   \n",
       "3  https://twitter.com/Route2FI/status/1608814484...   \n",
       "4  https://twitter.com/Route2FI/status/1608812846...   \n",
       "\n",
       "                       date  \\\n",
       "0 2022-12-30 17:52:02+00:00   \n",
       "1 2022-12-30 17:11:30+00:00   \n",
       "2 2022-12-30 16:18:23+00:00   \n",
       "3 2022-12-30 13:17:17+00:00   \n",
       "4 2022-12-30 13:10:47+00:00   \n",
       "\n",
       "                                          rawContent   username  likeCount  \\\n",
       "0                            @crypthoem Let's pray 😉   Route2FI          3   \n",
       "1  2 days left of bera, then up only every day in...   Route2FI        205   \n",
       "2  10-YR YIELD COULD BREAK ABOVE 4.00% NEXT WEEK:...  Fxhedgers        244   \n",
       "3                                    @joaquinorma1 🫡   Route2FI          2   \n",
       "4                              @E_Schhneider gm, bro   Route2FI          6   \n",
       "\n",
       "   replyCount  retweetCount  quoteCount cashtags hashtags  viewCount  \n",
       "0           0             0           0     None     None      588.0  \n",
       "1          29            18           0     None     None    31158.0  \n",
       "2           0            47           5     None     None    51663.0  \n",
       "3           0             0           0     None     None      135.0  \n",
       "4           1             0           1     None     None     3373.0  "
      ]
     },
     "execution_count": 22,
     "metadata": {},
     "output_type": "execute_result"
    }
   ],
   "source": [
    "#convert list to dataframe\n",
    "df = pd.DataFrame(tweets, columns= ['url', 'date', 'rawContent', 'username',\n",
    "                                    'likeCount', 'replyCount', 'retweetCount', 'quoteCount',\n",
    "                                    'cashtags', 'hashtags'])\n",
    "df.head()"
   ]
  },
  {
   "cell_type": "code",
   "execution_count": 23,
   "metadata": {},
   "outputs": [
    {
     "name": "stdout",
     "output_type": "stream",
     "text": [
      "<class 'pandas.core.frame.DataFrame'>\n",
      "RangeIndex: 19267 entries, 0 to 19266\n",
      "Data columns (total 11 columns):\n",
      " #   Column        Non-Null Count  Dtype              \n",
      "---  ------        --------------  -----              \n",
      " 0   url           19267 non-null  object             \n",
      " 1   date          19267 non-null  datetime64[ns, UTC]\n",
      " 2   rawContent    19267 non-null  object             \n",
      " 3   username      19267 non-null  object             \n",
      " 4   likeCount     19267 non-null  int64              \n",
      " 5   replyCount    19267 non-null  int64              \n",
      " 6   retweetCount  19267 non-null  int64              \n",
      " 7   quoteCount    19267 non-null  int64              \n",
      " 8   cashtags      1796 non-null   object             \n",
      " 9   hashtags      1066 non-null   object             \n",
      " 10  viewCount     392 non-null    float64            \n",
      "dtypes: datetime64[ns, UTC](1), float64(1), int64(4), object(5)\n",
      "memory usage: 1.6+ MB\n"
     ]
    }
   ],
   "source": [
    "df.info()"
   ]
  },
  {
   "cell_type": "code",
   "execution_count": 24,
   "metadata": {},
   "outputs": [],
   "source": [
    "#save to csv\n",
    "data = df.to_csv('file16.csv', index=False)"
   ]
  },
  {
   "cell_type": "code",
   "execution_count": null,
   "metadata": {},
   "outputs": [],
   "source": []
  }
 ],
 "metadata": {
  "kernelspec": {
   "display_name": "twitter-env",
   "language": "python",
   "name": "python3"
  },
  "language_info": {
   "codemirror_mode": {
    "name": "ipython",
    "version": 3
   },
   "file_extension": ".py",
   "mimetype": "text/x-python",
   "name": "python",
   "nbconvert_exporter": "python",
   "pygments_lexer": "ipython3",
   "version": "3.10.6"
  },
  "orig_nbformat": 4
 },
 "nbformat": 4,
 "nbformat_minor": 2
}
