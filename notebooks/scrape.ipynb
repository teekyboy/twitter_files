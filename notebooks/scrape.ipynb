{
 "cells": [
  {
   "cell_type": "code",
   "execution_count": 47,
   "metadata": {},
   "outputs": [],
   "source": [
    "import pandas as pd\n",
    "import snscrape.modules.twitter as sntwitter"
   ]
  },
  {
   "cell_type": "code",
   "execution_count": 48,
   "metadata": {},
   "outputs": [],
   "source": [
    "#trying to scrape tweets from 2022 for the following users\n",
    "query = 'from:elliotrades OR from:ShardiB2 OR from:bbands since:2022-01-01 until:2022-12-31'\n",
    "scraper = sntwitter.TwitterSearchScraper(query)"
   ]
  },
  {
   "cell_type": "code",
   "execution_count": 49,
   "metadata": {},
   "outputs": [],
   "source": [
    "#create empty list to store tweets\n",
    "tweets = []\n",
    "#loop through tweets and append to list\n",
    "for i, tweet in enumerate(scraper.get_items()):\n",
    "    data = [tweet.url, tweet.date, tweet.rawContent, tweet.user.username, \n",
    "            tweet.likeCount, tweet.replyCount, tweet.retweetCount, tweet.quoteCount, \n",
    "            tweet.cashtags, tweet.hashtags, tweet.viewCount]\n",
    "    tweets.append(data)"
   ]
  },
  {
   "cell_type": "code",
   "execution_count": 50,
   "metadata": {},
   "outputs": [
    {
     "data": {
      "text/html": [
       "<div>\n",
       "<style scoped>\n",
       "    .dataframe tbody tr th:only-of-type {\n",
       "        vertical-align: middle;\n",
       "    }\n",
       "\n",
       "    .dataframe tbody tr th {\n",
       "        vertical-align: top;\n",
       "    }\n",
       "\n",
       "    .dataframe thead th {\n",
       "        text-align: right;\n",
       "    }\n",
       "</style>\n",
       "<table border=\"1\" class=\"dataframe\">\n",
       "  <thead>\n",
       "    <tr style=\"text-align: right;\">\n",
       "      <th></th>\n",
       "      <th>url</th>\n",
       "      <th>date</th>\n",
       "      <th>rawContent</th>\n",
       "      <th>username</th>\n",
       "      <th>likeCount</th>\n",
       "      <th>replyCount</th>\n",
       "      <th>retweetCount</th>\n",
       "      <th>quoteCount</th>\n",
       "      <th>cashtags</th>\n",
       "      <th>hashtags</th>\n",
       "      <th>viewCount</th>\n",
       "    </tr>\n",
       "  </thead>\n",
       "  <tbody>\n",
       "    <tr>\n",
       "      <th>0</th>\n",
       "      <td>https://twitter.com/elliotrades/status/1608963...</td>\n",
       "      <td>2022-12-30 23:11:02+00:00</td>\n",
       "      <td>@notthreadguy TG please don't reply when I am ...</td>\n",
       "      <td>elliotrades</td>\n",
       "      <td>43</td>\n",
       "      <td>5</td>\n",
       "      <td>0</td>\n",
       "      <td>0</td>\n",
       "      <td>None</td>\n",
       "      <td>None</td>\n",
       "      <td>5255.0</td>\n",
       "    </tr>\n",
       "    <tr>\n",
       "      <th>1</th>\n",
       "      <td>https://twitter.com/elliotrades/status/1608960...</td>\n",
       "      <td>2022-12-30 22:56:18+00:00</td>\n",
       "      <td>@ethforfood @wabdoteth completing a game is ir...</td>\n",
       "      <td>elliotrades</td>\n",
       "      <td>4</td>\n",
       "      <td>2</td>\n",
       "      <td>0</td>\n",
       "      <td>0</td>\n",
       "      <td>None</td>\n",
       "      <td>None</td>\n",
       "      <td>256.0</td>\n",
       "    </tr>\n",
       "    <tr>\n",
       "      <th>2</th>\n",
       "      <td>https://twitter.com/elliotrades/status/1608957...</td>\n",
       "      <td>2022-12-30 22:44:31+00:00</td>\n",
       "      <td>@cryptaveli you might still be here, but class...</td>\n",
       "      <td>elliotrades</td>\n",
       "      <td>14</td>\n",
       "      <td>0</td>\n",
       "      <td>0</td>\n",
       "      <td>0</td>\n",
       "      <td>None</td>\n",
       "      <td>None</td>\n",
       "      <td>717.0</td>\n",
       "    </tr>\n",
       "    <tr>\n",
       "      <th>3</th>\n",
       "      <td>https://twitter.com/elliotrades/status/1608955...</td>\n",
       "      <td>2022-12-30 22:39:33+00:00</td>\n",
       "      <td>It's the part of the bear market where OGs are...</td>\n",
       "      <td>elliotrades</td>\n",
       "      <td>856</td>\n",
       "      <td>75</td>\n",
       "      <td>0</td>\n",
       "      <td>0</td>\n",
       "      <td>None</td>\n",
       "      <td>None</td>\n",
       "      <td>67191.0</td>\n",
       "    </tr>\n",
       "    <tr>\n",
       "      <th>4</th>\n",
       "      <td>https://twitter.com/elliotrades/status/1608954...</td>\n",
       "      <td>2022-12-30 22:34:37+00:00</td>\n",
       "      <td>@MisterFeast @SpaceLlamaNFT @GigaMartNFT Cardi...</td>\n",
       "      <td>elliotrades</td>\n",
       "      <td>2</td>\n",
       "      <td>0</td>\n",
       "      <td>0</td>\n",
       "      <td>0</td>\n",
       "      <td>None</td>\n",
       "      <td>None</td>\n",
       "      <td>82.0</td>\n",
       "    </tr>\n",
       "  </tbody>\n",
       "</table>\n",
       "</div>"
      ],
      "text/plain": [
       "                                                 url  \\\n",
       "0  https://twitter.com/elliotrades/status/1608963...   \n",
       "1  https://twitter.com/elliotrades/status/1608960...   \n",
       "2  https://twitter.com/elliotrades/status/1608957...   \n",
       "3  https://twitter.com/elliotrades/status/1608955...   \n",
       "4  https://twitter.com/elliotrades/status/1608954...   \n",
       "\n",
       "                       date  \\\n",
       "0 2022-12-30 23:11:02+00:00   \n",
       "1 2022-12-30 22:56:18+00:00   \n",
       "2 2022-12-30 22:44:31+00:00   \n",
       "3 2022-12-30 22:39:33+00:00   \n",
       "4 2022-12-30 22:34:37+00:00   \n",
       "\n",
       "                                          rawContent     username  likeCount  \\\n",
       "0  @notthreadguy TG please don't reply when I am ...  elliotrades         43   \n",
       "1  @ethforfood @wabdoteth completing a game is ir...  elliotrades          4   \n",
       "2  @cryptaveli you might still be here, but class...  elliotrades         14   \n",
       "3  It's the part of the bear market where OGs are...  elliotrades        856   \n",
       "4  @MisterFeast @SpaceLlamaNFT @GigaMartNFT Cardi...  elliotrades          2   \n",
       "\n",
       "   replyCount  retweetCount  quoteCount cashtags hashtags  viewCount  \n",
       "0           5             0           0     None     None     5255.0  \n",
       "1           2             0           0     None     None      256.0  \n",
       "2           0             0           0     None     None      717.0  \n",
       "3          75             0           0     None     None    67191.0  \n",
       "4           0             0           0     None     None       82.0  "
      ]
     },
     "execution_count": 50,
     "metadata": {},
     "output_type": "execute_result"
    }
   ],
   "source": [
    "#convert list to dataframe\n",
    "df = pd.DataFrame(tweets, columns= ['url', 'date', 'rawContent', 'username',\n",
    "                                    'likeCount', 'replyCount', 'retweetCount', 'quoteCount',\n",
    "                                    'cashtags', 'hashtags', 'viewCount'])\n",
    "df.head()"
   ]
  },
  {
   "cell_type": "code",
   "execution_count": 51,
   "metadata": {},
   "outputs": [
    {
     "name": "stdout",
     "output_type": "stream",
     "text": [
      "<class 'pandas.core.frame.DataFrame'>\n",
      "RangeIndex: 10971 entries, 0 to 10970\n",
      "Data columns (total 11 columns):\n",
      " #   Column        Non-Null Count  Dtype              \n",
      "---  ------        --------------  -----              \n",
      " 0   url           10971 non-null  object             \n",
      " 1   date          10971 non-null  datetime64[ns, UTC]\n",
      " 2   rawContent    10971 non-null  object             \n",
      " 3   username      10971 non-null  object             \n",
      " 4   likeCount     10971 non-null  int64              \n",
      " 5   replyCount    10971 non-null  int64              \n",
      " 6   retweetCount  10971 non-null  int64              \n",
      " 7   quoteCount    10971 non-null  int64              \n",
      " 8   cashtags      3101 non-null   object             \n",
      " 9   hashtags      342 non-null    object             \n",
      " 10  viewCount     554 non-null    float64            \n",
      "dtypes: datetime64[ns, UTC](1), float64(1), int64(4), object(5)\n",
      "memory usage: 942.9+ KB\n"
     ]
    }
   ],
   "source": [
    "df.info()"
   ]
  },
  {
   "cell_type": "code",
   "execution_count": 52,
   "metadata": {},
   "outputs": [],
   "source": [
    "#save to csv\n",
    "data = df.to_csv('file8.csv', index=False)"
   ]
  },
  {
   "cell_type": "code",
   "execution_count": null,
   "metadata": {},
   "outputs": [],
   "source": []
  }
 ],
 "metadata": {
  "kernelspec": {
   "display_name": "twitter-env",
   "language": "python",
   "name": "python3"
  },
  "language_info": {
   "codemirror_mode": {
    "name": "ipython",
    "version": 3
   },
   "file_extension": ".py",
   "mimetype": "text/x-python",
   "name": "python",
   "nbconvert_exporter": "python",
   "pygments_lexer": "ipython3",
   "version": "3.10.6"
  },
  "orig_nbformat": 4
 },
 "nbformat": 4,
 "nbformat_minor": 2
}
