{
 "cells": [
  {
   "cell_type": "code",
   "execution_count": null,
   "metadata": {},
   "outputs": [],
   "source": [
    "import pandas as pd\n",
    "data1 = pd.read_csv('../raw_data/twitter_1.csv')\n",
    "data2 = pd.read_csv('../raw_data/twitter_2.csv')"
   ]
  },
  {
   "cell_type": "code",
   "execution_count": null,
   "metadata": {},
   "outputs": [],
   "source": [
    "#add empty columns stock_symbol, current_value, 1min, 60min, 1day, 1week to data1 and data2\n",
    "data1['stock_symbol'] = ''\n",
    "data1['current_value'] = ''\n",
    "data1['1min'] = ''\n",
    "data1['60min'] = ''\n",
    "data1['1day'] = ''\n",
    "data1['1week'] = ''\n",
    "data2['stock_symbol'] = ''\n",
    "data2['current_value'] = ''\n",
    "data2['1min'] = ''\n",
    "data2['60min'] = ''\n",
    "data2['1day'] = ''\n",
    "data2['1week'] = ''\n",
    "#add them to the csv\n",
    "data1.to_csv('../raw_data/twitter_1.csv', index=False)\n",
    "data2.to_csv('../raw_data/twitter_2.csv', index=False)"
   ]
  },
  {
   "cell_type": "code",
   "execution_count": null,
   "metadata": {},
   "outputs": [],
   "source": [
    "# replicate rows based on the length of the list in the 'cashtag' column\n",
    "data1 = data1.explode('cashtags')\n",
    "data2 = data2.explode('cashtags')"
   ]
  },
  {
   "cell_type": "code",
   "execution_count": null,
   "metadata": {},
   "outputs": [],
   "source": [
    "#replicate rows based on the length of the list in the 'hashtag' column\n",
    "data1 = data1.explode('hashtags')\n",
    "data2 = data2.explode('hashtags')"
   ]
  },
  {
   "cell_type": "code",
   "execution_count": null,
   "metadata": {},
   "outputs": [],
   "source": [
    "data1.shape"
   ]
  },
  {
   "cell_type": "code",
   "execution_count": null,
   "metadata": {},
   "outputs": [],
   "source": []
  }
 ],
 "metadata": {
  "kernelspec": {
   "display_name": "twitter_files",
   "language": "python",
   "name": "python3"
  },
  "language_info": {
   "codemirror_mode": {
    "name": "ipython",
    "version": 3
   },
   "file_extension": ".py",
   "mimetype": "text/x-python",
   "name": "python",
   "nbconvert_exporter": "python",
   "pygments_lexer": "ipython3",
   "version": "3.10.6"
  },
  "orig_nbformat": 4
 },
 "nbformat": 4,
 "nbformat_minor": 2
}
