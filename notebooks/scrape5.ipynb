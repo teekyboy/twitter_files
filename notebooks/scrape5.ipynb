{
 "cells": [
  {
   "cell_type": "code",
   "execution_count": 7,
   "metadata": {},
   "outputs": [],
   "source": [
    "import pandas as pd\n",
    "import snscrape.modules.twitter as sntwitter"
   ]
  },
  {
   "cell_type": "code",
   "execution_count": 8,
   "metadata": {},
   "outputs": [],
   "source": [
    "#trying to scrape tweets from 2022 for the following users\n",
    "query = 'from:TommyThornton OR from:BowTiedBull OR from:zerohedge OR from:stocktalkweekly since:2022-01-01 until:2022-12-31'\n",
    "scraper = sntwitter.TwitterSearchScraper(query)"
   ]
  },
  {
   "cell_type": "code",
   "execution_count": 9,
   "metadata": {},
   "outputs": [],
   "source": [
    "#create empty list to store tweets\n",
    "tweets = []\n",
    "#loop through tweets and append to list\n",
    "for i, tweet in enumerate(scraper.get_items()):\n",
    "    data = [tweet.url, tweet.date, tweet.rawContent, tweet.user.username, \n",
    "            tweet.likeCount, tweet.replyCount, tweet.retweetCount, tweet.quoteCount, \n",
    "            tweet.cashtags, tweet.hashtags, tweet.viewCount]\n",
    "    tweets.append(data)"
   ]
  },
  {
   "cell_type": "code",
   "execution_count": 10,
   "metadata": {},
   "outputs": [
    {
     "data": {
      "text/html": [
       "<div>\n",
       "<style scoped>\n",
       "    .dataframe tbody tr th:only-of-type {\n",
       "        vertical-align: middle;\n",
       "    }\n",
       "\n",
       "    .dataframe tbody tr th {\n",
       "        vertical-align: top;\n",
       "    }\n",
       "\n",
       "    .dataframe thead th {\n",
       "        text-align: right;\n",
       "    }\n",
       "</style>\n",
       "<table border=\"1\" class=\"dataframe\">\n",
       "  <thead>\n",
       "    <tr style=\"text-align: right;\">\n",
       "      <th></th>\n",
       "      <th>url</th>\n",
       "      <th>date</th>\n",
       "      <th>rawContent</th>\n",
       "      <th>username</th>\n",
       "      <th>likeCount</th>\n",
       "      <th>replyCount</th>\n",
       "      <th>retweetCount</th>\n",
       "      <th>quoteCount</th>\n",
       "      <th>cashtags</th>\n",
       "      <th>hashtags</th>\n",
       "      <th>viewCount</th>\n",
       "    </tr>\n",
       "  </thead>\n",
       "  <tbody>\n",
       "    <tr>\n",
       "      <th>0</th>\n",
       "      <td>https://twitter.com/zerohedge/status/160897500...</td>\n",
       "      <td>2022-12-30 23:55:08+00:00</td>\n",
       "      <td>Bovard: Liberals Learned Nothing In 2022 https...</td>\n",
       "      <td>zerohedge</td>\n",
       "      <td>386</td>\n",
       "      <td>13</td>\n",
       "      <td>90</td>\n",
       "      <td>4</td>\n",
       "      <td>None</td>\n",
       "      <td>None</td>\n",
       "      <td>111932.0</td>\n",
       "    </tr>\n",
       "    <tr>\n",
       "      <th>1</th>\n",
       "      <td>https://twitter.com/BowTiedBull/status/1608968...</td>\n",
       "      <td>2022-12-30 23:30:32+00:00</td>\n",
       "      <td>@TAlanHorne https://t.co/KQ0jtS5Lbq</td>\n",
       "      <td>BowTiedBull</td>\n",
       "      <td>2</td>\n",
       "      <td>0</td>\n",
       "      <td>0</td>\n",
       "      <td>0</td>\n",
       "      <td>None</td>\n",
       "      <td>None</td>\n",
       "      <td>2566.0</td>\n",
       "    </tr>\n",
       "    <tr>\n",
       "      <th>2</th>\n",
       "      <td>https://twitter.com/zerohedge/status/160896870...</td>\n",
       "      <td>2022-12-30 23:30:08+00:00</td>\n",
       "      <td>Researcher Reveals Google Home Speakers Could'...</td>\n",
       "      <td>zerohedge</td>\n",
       "      <td>595</td>\n",
       "      <td>112</td>\n",
       "      <td>194</td>\n",
       "      <td>42</td>\n",
       "      <td>None</td>\n",
       "      <td>None</td>\n",
       "      <td>171039.0</td>\n",
       "    </tr>\n",
       "    <tr>\n",
       "      <th>3</th>\n",
       "      <td>https://twitter.com/zerohedge/status/160896241...</td>\n",
       "      <td>2022-12-30 23:05:08+00:00</td>\n",
       "      <td>The Twitter Files Have Confirmed (Again) That ...</td>\n",
       "      <td>zerohedge</td>\n",
       "      <td>1198</td>\n",
       "      <td>39</td>\n",
       "      <td>322</td>\n",
       "      <td>20</td>\n",
       "      <td>None</td>\n",
       "      <td>None</td>\n",
       "      <td>140033.0</td>\n",
       "    </tr>\n",
       "    <tr>\n",
       "      <th>4</th>\n",
       "      <td>https://twitter.com/BowTiedBull/status/1608960...</td>\n",
       "      <td>2022-12-30 22:56:11+00:00</td>\n",
       "      <td>Yep they browse $2M super cars and $10M mansio...</td>\n",
       "      <td>BowTiedBull</td>\n",
       "      <td>124</td>\n",
       "      <td>4</td>\n",
       "      <td>4</td>\n",
       "      <td>0</td>\n",
       "      <td>None</td>\n",
       "      <td>None</td>\n",
       "      <td>27301.0</td>\n",
       "    </tr>\n",
       "  </tbody>\n",
       "</table>\n",
       "</div>"
      ],
      "text/plain": [
       "                                                 url  \\\n",
       "0  https://twitter.com/zerohedge/status/160897500...   \n",
       "1  https://twitter.com/BowTiedBull/status/1608968...   \n",
       "2  https://twitter.com/zerohedge/status/160896870...   \n",
       "3  https://twitter.com/zerohedge/status/160896241...   \n",
       "4  https://twitter.com/BowTiedBull/status/1608960...   \n",
       "\n",
       "                       date  \\\n",
       "0 2022-12-30 23:55:08+00:00   \n",
       "1 2022-12-30 23:30:32+00:00   \n",
       "2 2022-12-30 23:30:08+00:00   \n",
       "3 2022-12-30 23:05:08+00:00   \n",
       "4 2022-12-30 22:56:11+00:00   \n",
       "\n",
       "                                          rawContent     username  likeCount  \\\n",
       "0  Bovard: Liberals Learned Nothing In 2022 https...    zerohedge        386   \n",
       "1                @TAlanHorne https://t.co/KQ0jtS5Lbq  BowTiedBull          2   \n",
       "2  Researcher Reveals Google Home Speakers Could'...    zerohedge        595   \n",
       "3  The Twitter Files Have Confirmed (Again) That ...    zerohedge       1198   \n",
       "4  Yep they browse $2M super cars and $10M mansio...  BowTiedBull        124   \n",
       "\n",
       "   replyCount  retweetCount  quoteCount cashtags hashtags  viewCount  \n",
       "0          13            90           4     None     None   111932.0  \n",
       "1           0             0           0     None     None     2566.0  \n",
       "2         112           194          42     None     None   171039.0  \n",
       "3          39           322          20     None     None   140033.0  \n",
       "4           4             4           0     None     None    27301.0  "
      ]
     },
     "execution_count": 10,
     "metadata": {},
     "output_type": "execute_result"
    }
   ],
   "source": [
    "#convert list to dataframe\n",
    "df = pd.DataFrame(tweets, columns= ['url', 'date', 'rawContent', 'username',\n",
    "                                    'likeCount', 'replyCount', 'retweetCount', 'quoteCount',\n",
    "                                    'cashtags', 'hashtags', 'viewCount'])\n",
    "df.head()"
   ]
  },
  {
   "cell_type": "code",
   "execution_count": 11,
   "metadata": {},
   "outputs": [
    {
     "name": "stdout",
     "output_type": "stream",
     "text": [
      "<class 'pandas.core.frame.DataFrame'>\n",
      "RangeIndex: 53462 entries, 0 to 53461\n",
      "Data columns (total 11 columns):\n",
      " #   Column        Non-Null Count  Dtype              \n",
      "---  ------        --------------  -----              \n",
      " 0   url           53462 non-null  object             \n",
      " 1   date          53462 non-null  datetime64[ns, UTC]\n",
      " 2   rawContent    53462 non-null  object             \n",
      " 3   username      53462 non-null  object             \n",
      " 4   likeCount     53462 non-null  int64              \n",
      " 5   replyCount    53462 non-null  int64              \n",
      " 6   retweetCount  53462 non-null  int64              \n",
      " 7   quoteCount    53462 non-null  int64              \n",
      " 8   cashtags      2229 non-null   object             \n",
      " 9   hashtags      74 non-null     object             \n",
      " 10  viewCount     2113 non-null   float64            \n",
      "dtypes: datetime64[ns, UTC](1), float64(1), int64(4), object(5)\n",
      "memory usage: 4.5+ MB\n"
     ]
    }
   ],
   "source": [
    "df.info()"
   ]
  },
  {
   "cell_type": "code",
   "execution_count": 12,
   "metadata": {},
   "outputs": [],
   "source": [
    "#save to csv\n",
    "data = df.to_csv('file23.csv', index=False)"
   ]
  }
 ],
 "metadata": {
  "kernelspec": {
   "display_name": "twitter_files",
   "language": "python",
   "name": "python3"
  },
  "language_info": {
   "codemirror_mode": {
    "name": "ipython",
    "version": 3
   },
   "file_extension": ".py",
   "mimetype": "text/x-python",
   "name": "python",
   "nbconvert_exporter": "python",
   "pygments_lexer": "ipython3",
   "version": "3.10.6"
  },
  "orig_nbformat": 4
 },
 "nbformat": 4,
 "nbformat_minor": 2
}
