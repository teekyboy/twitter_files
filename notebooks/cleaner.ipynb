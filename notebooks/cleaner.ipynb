{
 "cells": [
  {
   "cell_type": "code",
   "execution_count": 1,
   "metadata": {},
   "outputs": [],
   "source": [
    "import numpy as np\n",
    "import pandas as pd\n",
    "import re\n",
    "from transformers import AutoTokenizer, AutoModelForSequenceClassification\n",
    "from transformers import BertTokenizer, BertForSequenceClassification, pipeline"
   ]
  },
  {
   "cell_type": "code",
   "execution_count": 2,
   "metadata": {},
   "outputs": [],
   "source": [
    "data = pd.read_csv('../raw_data/twitter.csv')"
   ]
  },
  {
   "cell_type": "code",
   "execution_count": 3,
   "metadata": {},
   "outputs": [],
   "source": [
    "data.rename(columns={'rawContent': 'tweet'}, inplace=True)\n",
    "#add the following columns: stock_symbol, price_at_tweet, , after_1_min, after_1_hour, after_1_day, after_1_week, after_1_month, positive, negative, neutral, sentiment.\n",
    "data['stock'] = ''\n",
    "data['price_at_tweet'] = ''\n",
    "data['price_1_min'] = ''\n",
    "data['after_1_hour'] = ''\n",
    "data['after_1_day'] = ''\n",
    "data['after_1_week'] = ''\n",
    "data['after_1_month'] = ''"
   ]
  },
  {
   "cell_type": "code",
   "execution_count": 4,
   "metadata": {},
   "outputs": [],
   "source": [
    "def convert_to_datetime(data):\n",
    "    data['date'] = pd.to_datetime(data['date'], format='%Y-%m-%d %H:%M:%S')\n",
    "    return data"
   ]
  },
  {
   "cell_type": "code",
   "execution_count": 5,
   "metadata": {},
   "outputs": [],
   "source": [
    "def clean_tweet(tweet):\n",
    "    # Remove url\n",
    "    tweet = re.sub(r'https?:\\/\\/\\S+', ' ', tweet)\n",
    "    tweet = re.sub(r'http?:\\/\\/\\S+', ' ', tweet)\n",
    "    # Remove \\n\n",
    "    tweet = re.sub(r'\\n', ' ', tweet)\n",
    "    # Remove @\n",
    "    tweet = re.sub(r'@[A-Za-z0-9]+', ' ', tweet)\n",
    "    # Remove #\n",
    "    tweet = re.sub(r'#', ' ', tweet)\n",
    "    # Remove RT\n",
    "    tweet = re.sub(r'RT[\\s]+', ' ', tweet)\n",
    "    # Remove double space\n",
    "    tweet = re.sub(r'\\s\\s+', ' ', tweet)\n",
    "    return tweet"
   ]
  },
  {
   "cell_type": "code",
   "execution_count": 6,
   "metadata": {},
   "outputs": [],
   "source": [
    "data = convert_to_datetime(data)\n",
    "data['tweet'] = data['tweet'].apply(clean_tweet)"
   ]
  },
  {
   "cell_type": "code",
   "execution_count": 7,
   "metadata": {},
   "outputs": [],
   "source": [
    "symbols_list = {\n",
    "    'AAPL': ['Apple', 'Appl', 'Apple Inc.'],\n",
    "    'AMC': ['AMC Entertainment Holdings Inc.', 'AAMC'],\n",
    "    'AMZN': ['Amazon.com Inc.', 'Amazn', 'Amazon'],\n",
    "    'AMD': ['Advanced Micro Devices Inc.', 'AMED'],\n",
    "    'BB': ['BlackBerry Ltd.', 'Blacberry'],\n",
    "    'BBBY': ['Bed Bath & Beyond Inc.', 'Bedbathbeyond'],\n",
    "    'BTC': ['Bitcoin', 'bit coin'],\n",
    "    'BYND': ['Beyond Meat Inc.', 'Bynd'],\n",
    "    'CLNE': ['Clean Energy Fuels Corp.', 'Clnenergy'],\n",
    "    'CMG': ['Chipotle Mexican Grill Inc.', 'Chipotle'],\n",
    "    'COST': ['Costco Wholesale Corp.', 'Coscto'],\n",
    "    'CRSR': ['Corsair Gaming Inc.', 'Corsair'],\n",
    "    'DIS': ['Walt Disney Co.', 'Disney'],\n",
    "    'DOGE': ['Dogecoin', 'Doge coin'],\n",
    "    'ET': ['Energy Transfer LP', 'Energy Transfer'],\n",
    "    'FB': ['Facebook Inc.', 'Fb'],\n",
    "    'GME': ['GameStop Corp.', 'Gamestop'],\n",
    "    'GOOG': ['Alphabet Inc.', 'Google'],\n",
    "    'HD': ['Home Depot Inc.', 'Home Depo'],\n",
    "    'INTC': ['Intel Corp.', 'Intell'],\n",
    "    'JNJ': ['Johnson & Johnson', 'Johnsohn'],\n",
    "    'KO': ['Coca-Cola Co.', 'Coca Cola'],\n",
    "    'LULU': ['Lululemon Athletica Inc.', 'Lululemn'],\n",
    "    'MCD': [\"McDonald's Corp.\", \"McDonalds\"],\n",
    "    'MGM': ['MGM Resorts International', 'Mgmresorts'],\n",
    "    'MSFT': ['Microsoft Corp.', 'Micrsoft'],\n",
    "    'MU': ['Micron Technology Inc.', 'Micron'],\n",
    "    'NIO': ['NIO Inc.', 'Nio'],\n",
    "    'NVDA': ['NVIDIA Corp.', 'Nivida'],\n",
    "    'PFE': ['Pfizer Inc.', 'Pifzer'],\n",
    "    'PINS': ['Pinterest Inc.', 'Pintrst'],\n",
    "    'PLTR': ['Palantir Technologies Inc.', 'Palintir'],\n",
    "    'QQQ': ['Invesco QQQ Trust', 'InvescoQQQ'],\n",
    "    'RBLX': ['Roblox Corp.', 'Robloks'],\n",
    "    'RIOT': ['Riot Blockchain Inc.', 'Riott'],\n",
    "    'ROKU': ['Roku Inc.', 'Rokue'],\n",
    "    'SNDL': ['Sundial Growers Inc.', 'Sundail'],\n",
    "    'SPCE': ['Virgin Galactic Holdings Inc.', 'Spacex'],\n",
    "    'SQ': ['Square Inc.', 'Squar'],\n",
    "    'TSLA': ['Tesla Inc.', 'Teslla'],\n",
    "    'TWTR': ['Twitter Inc.', 'Twiter'],\n",
    "    'UBER': ['Uber Technologies Inc.', 'Ube'],\n",
    "    'UPST': ['Upstart Holdings Inc.', 'Upstartholdings'],\n",
    "    'WMT': ['Walmart Inc.', 'Walmrt'],\n",
    "    'XOM': ['Exxon Mobil Corp.', 'Exxonmobil'],\n",
    "    'AAL': ['American Airlines Group Inc.', 'Americanairlines'],\n",
    "    'ABNB': ['Airbnb Inc.', 'AirBnB'],\n",
    "    'ACB': ['Aurora Cannabis Inc.', 'Auroracannabis'],\n",
    "    'AMRN': ['Amarin Corp. plc', 'Amerin'],\n",
    "    'ARKK': ['ARK Innovation ETF', 'ARKinovation'],\n",
    "    'BABA': ['Alibaba Group Holding Ltd.', 'Alibaba'],\n",
    "    'BA': ['Boeing Co.', 'Boing'],\n",
    "    'BAC': ['Bank of America Corp.', 'Bankofamerica'],\n",
    "    'BIDU': ['Baidu Inc.', 'Bido'],\n",
    "    'BILI': ['Bilibili Inc.', 'Billibili'],\n",
    "    'BLNK': ['Blink Charging Co.', 'Blinkcharg'],\n",
    "    'BMY': ['Bristol Myers Squibb Co.', 'Bristolmyers'],\n",
    "    'BRK.A': ['Berkshire Hathaway Inc.', 'Berkshira'],\n",
    "    'CCL': ['Carnival Corp.', 'Carnival'],\n",
    "    'CGC': ['Canopy Growth Corp.', 'Canopygrowth'],\n",
    "    'CHWY': ['Chewy Inc.', 'Chewycom'],\n",
    "    'CSCO': ['Cisco Systems Inc.', 'Cicsco'],\n",
    "    'CVS': ['CVS Health Corp.', 'Cvshealth'],\n",
    "    'DAL': ['Delta Air Lines Inc.', 'Deltaairlines'],\n",
    "    'DDOG': ['Datadog Inc.', 'DataDog'],\n",
    "    'DISCA': ['Discovery Inc. - Class A', 'Discovera'],\n",
    "    'DKNG': ['DraftKings Inc.', 'DraftKings'],\n",
    "    'ENPH': ['Enphase Energy Inc.', 'Enphase'],\n",
    "    'EQT': ['EQT Corp.', 'Eqtcorporation'],\n",
    "    'FCEL': ['FuelCell Energy Inc.', 'Fuelcell'],\n",
    "    'FSLY': ['Fastly Inc.', 'Fastly'],\n",
    "    'GE': ['General Electric Co.', 'GeneralElectric'],\n",
    "    'GM': ['General Motors Co.', 'GeneralMotors'],\n",
    "    'GOLD': ['Barrick Gold Corp.', 'Goldmining'],\n",
    "    'GPRO': ['GoPro Inc.', 'Gopro'],\n",
    "    'GRWG': ['GrowGeneration Corp.', 'Growgen'],\n",
    "    'HPE': ['Hewlett Packard Enterprise Co.', 'Hewlettpackard'],\n",
    "    'IBB': ['iShares NASDAQ Biotechnology ETF', 'iSharesNasdaqBiotechnology'],\n",
    "    'IBKR': ['Interactive Brokers Group Inc.', 'InterectiveBrokers'],\n",
    "    'INO': ['Inovio Pharmaceuticals Inc.', 'Inovio'],\n",
    "    'JD': ['JD.com Inc.', 'JD'],\n",
    "    'JMIA': ['Jumia Technologies AG', 'Jumia'],\n",
    "    'JPM': ['JPMorgan Chase & Co.', 'JPmorgan'],\n",
    "    'KHC': ['Kraft Heinz Co.', 'KraftHeinz'],\n",
    "    'LIT': ['Global X Lithium & Battery Tech ETF', 'GlobalXlithium'],\n",
    "    'MARA': ['Marathon Digital Holdings Inc.', 'MarathonDigital'],\n",
    "    'MRNA': ['Moderna Inc.', 'Modernna'],\n",
    "    'NCLH': ['Norwegian Cruise Line Holdings Ltd.', 'Norwegiancruiseline'],\n",
    "    'NET': ['Cloudflare Inc.', 'CloudFlare'],\n",
    "    'NFLX': ['Netflix Inc.', 'Netlfix'],\n",
    "    'NKE': ['Nike Inc.', 'Nike'],\n",
    "    'NKLA': ['Nikola Corp.', 'Nicola'],\n",
    "    'NOK': ['Nokia Corp.', 'Noka'],\n",
    "    'OGI': ['OrganiGram Holdings Inc.', 'Organigram'],\n",
    "    'OTRK': ['Ontrak Inc.', 'OnTrack'],\n",
    "    'PDD': ['Pinduoduo Inc.', 'Pinduoduo'],\n",
    "    'PENN': ['Penn National Gaming Inc.', 'PennNational'],\n",
    "    'NQ': ['NASDAQ', 'Nasdaq'],\n",
    "    'SPY': ['S&P 500 ETF Trust', 'SPDRS&P500', 'SPDR', 'SPY'],\n",
    "    'ES-F': ['S&P 500 E-Mini Futures', 'S&P500E-Mini', 'S&P500E', 'S&P500', 'S&P'],\n",
    "    'DJIA': ['Dow Jones Industrial Average', 'DowJones', 'DowJonesIndustrialAverage', 'DowJonesIndustrial']\n",
    "}"
   ]
  },
  {
   "cell_type": "code",
   "execution_count": 8,
   "metadata": {},
   "outputs": [],
   "source": [
    "#inversing the dictionary\n",
    "inv_stocks = {value: key for key, values in symbols_list.items() for value in values}\n",
    "#creating a regex pattern for each inversed key\n",
    "stocks_patterns = {\n",
    "    key: re.compile(\"(\" + \"|\".join(re.escape(value) for value in values) + \")\")\n",
    "        for key, values in symbols_list.items()\n",
    "}"
   ]
  },
  {
   "cell_type": "code",
   "execution_count": 9,
   "metadata": {},
   "outputs": [],
   "source": [
    "#function to replace the stock names with the stock symbols\n",
    "def replace_stock_names(tweet):\n",
    "    tweet_clean = tweet    \n",
    "    for key, pattern in stocks_patterns.items():\n",
    "        tweet_clean = re.sub(pattern, key, tweet_clean)\n",
    "    return tweet_clean\n",
    "#apply replace_stock_names function to the tweet column\n",
    "data['tweet'] = data['tweet'].apply(lambda x: replace_stock_names(x))"
   ]
  },
  {
   "cell_type": "code",
   "execution_count": 10,
   "metadata": {},
   "outputs": [],
   "source": [
    "#get a list of stocks mentioned in a tweet and return it as a list\n",
    "def get_stocks_mentioned(tweet):\n",
    "    stocks_mentioned = []\n",
    "    for key, pattern in stocks_patterns.items():\n",
    "        if re.search(key, tweet):\n",
    "            stocks_mentioned.append(key)\n",
    "    return stocks_mentioned\n",
    "#apply get_stocks_mentioned function to the tweet column and store the result in a new column\n",
    "data['stocks_without_cashtag'] = data['tweet'].apply(lambda x: get_stocks_mentioned(x))"
   ]
  },
  {
   "cell_type": "code",
   "execution_count": 11,
   "metadata": {},
   "outputs": [],
   "source": [
    "def clean_cashtag(column):\n",
    "    cleaned_column = []\n",
    "    for value in column:\n",
    "        # Check if the value is NaN\n",
    "        if isinstance(value, float) and np.isnan(value):\n",
    "            # If so, replace with an empty list\n",
    "            cleaned_column.append([])\n",
    "        else:\n",
    "            # Remove brackets and extra spaces from string values\n",
    "            cleaned_value = str(value).strip('[]').replace(' ','').replace(\"'\",'')\n",
    "            # Split cleaned string into a list\n",
    "            cleaned_list = cleaned_value.split(',')\n",
    "            # Append cleaned list to cleaned column\n",
    "            cleaned_column.append(cleaned_list)\n",
    "    return cleaned_column\n",
    "data['cashtags'] = clean_cashtag(data['cashtags'])"
   ]
  },
  {
   "cell_type": "code",
   "execution_count": 12,
   "metadata": {},
   "outputs": [],
   "source": [
    "#if cashatag available, add the first cashatag to the stock column, else put the first stock mentioned in the stocks_without_cashtag column\n",
    "data['stock'] = data.apply(lambda x: x['cashtags'][0] if len(x['cashtags']) > 0 else x['stocks_without_cashtag'][0] if len(x['stocks_without_cashtag']) > 0 else np.nan, axis=1)"
   ]
  },
  {
   "cell_type": "code",
   "execution_count": 13,
   "metadata": {},
   "outputs": [],
   "source": [
    "#drop the rows with stock column null\n",
    "data = data[data['stock'].notnull()]"
   ]
  },
  {
   "cell_type": "code",
   "execution_count": 14,
   "metadata": {},
   "outputs": [],
   "source": [
    "data.to_csv('data.csv', index=False)"
   ]
  }
 ],
 "metadata": {
  "kernelspec": {
   "display_name": "twitter-env",
   "language": "python",
   "name": "python3"
  },
  "language_info": {
   "codemirror_mode": {
    "name": "ipython",
    "version": 3
   },
   "file_extension": ".py",
   "mimetype": "text/x-python",
   "name": "python",
   "nbconvert_exporter": "python",
   "pygments_lexer": "ipython3",
   "version": "3.10.6"
  },
  "orig_nbformat": 4
 },
 "nbformat": 4,
 "nbformat_minor": 2
}
