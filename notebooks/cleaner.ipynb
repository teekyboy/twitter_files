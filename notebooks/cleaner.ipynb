{
 "cells": [
  {
   "cell_type": "code",
   "execution_count": 1,
   "metadata": {},
   "outputs": [],
   "source": [
    "import numpy as np\n",
    "import pandas as pd\n",
    "import re"
   ]
  },
  {
   "cell_type": "code",
   "execution_count": 2,
   "metadata": {},
   "outputs": [],
   "source": [
    "data = pd.read_csv('../raw_data/prediction_data/prediction_data.csv')"
   ]
  },
  {
   "cell_type": "code",
   "execution_count": 3,
   "metadata": {},
   "outputs": [],
   "source": [
    "data.rename(columns={'rawContent': 'tweet'}, inplace=True)\n",
    "data['stock'] = ''"
   ]
  },
  {
   "cell_type": "code",
   "execution_count": 4,
   "metadata": {},
   "outputs": [],
   "source": [
    "def clean_tweet(tweet):\n",
    "    # Remove url\n",
    "    tweet = re.sub(r'https?:\\/\\/\\S+', ' ', tweet)\n",
    "    tweet = re.sub(r'http?:\\/\\/\\S+', ' ', tweet)\n",
    "    # Remove \\n\n",
    "    tweet = re.sub(r'\\n', ' ', tweet)\n",
    "    # Remove @\n",
    "    tweet = re.sub(r'@[A-Za-z0-9]+', ' ', tweet)\n",
    "    # Remove #\n",
    "    tweet = re.sub(r'#', ' ', tweet)\n",
    "    # Remove RT\n",
    "    tweet = re.sub(r'RT[\\s]+', ' ', tweet)\n",
    "    # Remove double space\n",
    "    tweet = re.sub(r'\\s\\s+', ' ', tweet)\n",
    "    #remove inc, corp, co, ltd, llc, inc., corp., co., ltd., llc., ETF and etf and their capitalizations\n",
    "    tweet = re.sub(r'\\b(lp|LP|inc|corp|co|ltd|llc|ETF|etf|Inc|Corp|Co|LLC|&amp|&)\\b', ' ', tweet)\n",
    "    return tweet\n",
    "data['tweet'] = data['tweet'].apply(clean_tweet)"
   ]
  },
  {
   "cell_type": "code",
   "execution_count": 5,
   "metadata": {},
   "outputs": [],
   "source": [
    "symbols_list = {\n",
    "    'AAPL': ['Apple', 'Appl'],\n",
    "    'AMC': ['AMC Entertainment Holdings', 'AAMC'],\n",
    "    'AMZN': ['Amazon.com', 'Amazn', 'Amazon'],\n",
    "    'AMD': ['Advanced Micro Devices', 'AMED'],\n",
    "    'BB': ['Blacberry'],\n",
    "    'BBBY': ['Bed Bath Beyond', 'Bedbathbeyond'],\n",
    "    'BTC': ['Bitcoin', 'bit coin'],\n",
    "    'BYND': ['Beyond Meat', 'Bynd'],\n",
    "    'CLNE': ['Clean Energy Fuels', 'Clnenergy'],\n",
    "    'CMG': ['Chipotle Mexican Grill', 'Chipotle'],\n",
    "    'CRSR': ['Corsair Gaming', 'Corsair'],\n",
    "    'DOGE': ['Dogecoin', 'Doge coin'],\n",
    "    'ETH': ['Ethereum', 'Etherium'],\n",
    "    'FB': ['Facebook', 'Fb'],\n",
    "    'GME': ['Gamestop'],\n",
    "    'GOOG': ['Alphabet', 'Google'],\n",
    "    'HD': ['Home Depot', 'Home Depo'],\n",
    "    'INTC': ['Intel', 'Intell'],\n",
    "    'JNJ': ['Johnson Johnson', 'Johnsohn'],\n",
    "    'LULU': ['Lululemon Athletica', 'Lululemn'],\n",
    "    'MCD': [\"McDonald's\", \"McDonalds\"],\n",
    "    'MGM': ['MGM Resorts International', 'Mgmresorts', 'Mgm resorts'],\n",
    "    'MSFT': ['Microsoft', 'Micrsoft'],\n",
    "    'NIO': ['NIO', 'Nio'],\n",
    "    'NVDA': ['NVIDIA', 'Nivida'],\n",
    "    'PFE': ['Pfizer', 'Pifzer'],\n",
    "    'PINS': ['Pinterest', 'Pintrst'],\n",
    "    'PLTR': ['Palantir Technologies', 'Palintir'],\n",
    "    'QQQ': ['Invesco QQQ', 'InvescoQQQ'],\n",
    "    'RBLX': ['Roblox', 'Robloks'],\n",
    "    'ROKU': ['Roku', 'Rokue'],\n",
    "    'SNDL': ['Sundial Growers', 'Sundail'],\n",
    "    'SPCE': ['Virgin Galactic Holdings', 'Spacex'],\n",
    "    'SQ': ['Square', 'Squar'],\n",
    "    'TSLA': ['Tesla', 'Teslla'],\n",
    "    'TWTR': ['Twitter', 'Twiter'],\n",
    "    'UBER': ['Uber Technologies', 'Ube'],\n",
    "    'UPST': ['Upstart Holdings', 'Upstartholdings'],\n",
    "    'WMT': ['Walmart', 'Walmrt'],\n",
    "    'XOM': ['Exxon Mobil', 'Exxonmobil'],\n",
    "    'AAL': ['American Airlines Group', 'Americanairlines'],\n",
    "    'ABNB': ['Airbnb', 'AirBnB'],\n",
    "    'ACB': ['Aurora Cannabis', 'Auroracannabis'],\n",
    "    'AMRN': ['Amarin', 'Amerin'],\n",
    "    'ARKK': ['ARK Innovation', 'ARKinovation'],\n",
    "    'BABA': ['Alibaba Group ', 'Alibaba'],\n",
    "    'BAC': ['Bank of America', 'Bankofamerica'],\n",
    "    'BIDU': ['Baidu', 'Bido'],\n",
    "    'BILI': ['Bilibili', 'Billibili'],\n",
    "    'BLNK': ['Blink Charging', 'Blinkcharg'],\n",
    "    'BMY': ['Bristol Myers Squibb', 'Bristolmyers'],\n",
    "    'BRK.A': ['Berkshire Hathaway', 'Berkshira'],\n",
    "    'CCL': ['Carnival'],\n",
    "    'CGC': ['Canopy Growth', 'Canopygrowth'],\n",
    "    'CHWY': ['Chewy', 'Chewycom'],\n",
    "    'CSCO': ['Cisco Systems', 'Cicsco'],\n",
    "    'CVS': ['CVS Health', 'Cvshealth'],\n",
    "    'DAL': ['Delta Air Lines', 'Deltaairlines'],\n",
    "    'DDOG': ['Datadog', 'DataDog'],\n",
    "    'DISCA': ['Discovery - Class A', 'Discovera'],\n",
    "    'DKNG': ['DraftKings', 'DraftKings'],\n",
    "    'ENPH': ['Enphase Energy', 'Enphase'],\n",
    "    'EQT': ['EQT', 'Eqtcorporation'],\n",
    "    'FCEL': ['FuelCell Energy', 'Fuelcell'],\n",
    "    'FSLY': ['Fastly', 'Fastly'],\n",
    "    'GOLD': ['Barrick Gold', 'Goldmining'],\n",
    "    'GPRO': ['Gopro'],\n",
    "    'GRWG': ['GrowGeneration', 'Growgen'],\n",
    "    'HPE': ['Hewlett Packard Enterprise', 'Hewlettpackard'],\n",
    "    'IBB': ['iShares NASDAQ Biotechnology', 'iSharesNasdaqBiotechnology'],\n",
    "    'IBKR': ['Interactive Brokers Group', 'InterectiveBrokers'],\n",
    "    'INO': ['Inovio Pharmaceuticals', 'Inovio'],\n",
    "    'JD': ['JD.com', 'JD'],\n",
    "    'JMIA': ['Jumia Technologies', 'Jumia'],\n",
    "    'JPM': ['JPMorgan Chase', 'JPmorgan'],\n",
    "    'KHC': ['Kraft Heinz', 'KraftHeinz'],\n",
    "    'LIT': ['Global X Lithium & Battery Tech ETF', 'GlobalXlithium'],\n",
    "    'MARA': ['Marathon Digital Holdings', 'MarathonDigital'],\n",
    "    'MRNA': ['Moderna', 'Modernna'],\n",
    "    'NCLH': ['Norwegian Cruise Line Holdings', 'Norwegiancruiseline'],\n",
    "    'NET': ['Cloudflare', 'CloudFlare'],\n",
    "    'NFLX': ['Netflix'],\n",
    "    'NKE': ['Nike'],\n",
    "    'NKLA': ['Nikola', 'Nicola'],\n",
    "    'NOK': ['Nokia', 'Noka'],\n",
    "    'OGI': ['OrganiGram Holdings', 'Organigram'],\n",
    "    'OTRK': ['Ontrak', 'OnTrack'],\n",
    "    'PDD': ['Pinduoduo', 'Pinduoduo'],\n",
    "    'PENN': ['Penn National Gaming', 'PennNational'],\n",
    "    'NQ': ['NASDAQ', 'Nasdaq'],\n",
    "    'SPY': ['S&P 500 ETF Trust', 'SPDRS&P500', 'SPDR', 'SPY'],\n",
    "    'ES-F': ['S&P 500 E-Mini Futures', 'S&P500E-Mini', 'S&P500E', 'S&P500', 'S&P'],\n",
    "    'DJIA': ['Dow Jones Industrial Average', 'DowJones']\n",
    "}\n",
    "#found issues with ET, DIS, COST, KO, MU, RIOT, BA, GE, LIT, PENN "
   ]
  },
  {
   "cell_type": "code",
   "execution_count": 6,
   "metadata": {},
   "outputs": [],
   "source": [
    "#creating a regex pattern for each inversed key\n",
    "stocks_patterns = {\n",
    "    key: re.compile(\"(\" + \"|\".join(re.escape(value) for value in values) + \")\")\n",
    "        for key, values in symbols_list.items()\n",
    "}"
   ]
  },
  {
   "cell_type": "code",
   "execution_count": 7,
   "metadata": {},
   "outputs": [],
   "source": [
    "#function to replace the stock names with the stock symbols\n",
    "def replace_stock_names(tweet):\n",
    "    tweet_clean = tweet    \n",
    "    for key, pattern in stocks_patterns.items():\n",
    "        tweet_clean = re.sub(pattern, key, tweet_clean)\n",
    "    return tweet_clean\n",
    "#apply replace_stock_names function to the tweet column\n",
    "data['tweet'] = data['tweet'].apply(lambda x: replace_stock_names(x))"
   ]
  },
  {
   "cell_type": "code",
   "execution_count": 8,
   "metadata": {},
   "outputs": [],
   "source": [
    "#get a list of stocks mentioned in a tweet and return it as a list\n",
    "def get_stocks_mentioned(tweet):\n",
    "    stocks_mentioned = []\n",
    "    for key, pattern in stocks_patterns.items():\n",
    "        if re.search(key, tweet):\n",
    "            stocks_mentioned.append(key)\n",
    "    return stocks_mentioned\n",
    "#apply get_stocks_mentioned function to the tweet column and store the result in a new column\n",
    "data['stocks_without_cashtag'] = data['tweet'].apply(lambda x: get_stocks_mentioned(x))"
   ]
  },
  {
   "cell_type": "code",
   "execution_count": 9,
   "metadata": {},
   "outputs": [],
   "source": [
    "def clean_cashtag(column):\n",
    "    cleaned_column = []\n",
    "    for value in column:\n",
    "        # Check if the value is NaN\n",
    "        if isinstance(value, float) and np.isnan(value):\n",
    "            # If so, replace with an empty list\n",
    "            cleaned_column.append([])\n",
    "        else:\n",
    "            # Remove brackets and extra spaces from string values\n",
    "            cleaned_value = str(value).strip('[]').replace(' ','').replace(\"'\",'')\n",
    "            # Split cleaned string into a list\n",
    "            cleaned_list = cleaned_value.split(',')\n",
    "            # Append cleaned list to cleaned column\n",
    "            cleaned_column.append(cleaned_list)\n",
    "    return cleaned_column\n",
    "data['cashtags'] = clean_cashtag(data['cashtags'])"
   ]
  },
  {
   "cell_type": "code",
   "execution_count": 10,
   "metadata": {},
   "outputs": [],
   "source": [
    "#if cashatag available, add the first cashatag to the stock column, else put the first stock mentioned in the stocks_without_cashtag column\n",
    "data['stock'] = data.apply(lambda x: x['cashtags'][0] if len(x['cashtags']) > 0 else x['stocks_without_cashtag'][0] if len(x['stocks_without_cashtag']) > 0 else np.nan, axis=1)"
   ]
  },
  {
   "cell_type": "code",
   "execution_count": 11,
   "metadata": {},
   "outputs": [],
   "source": [
    "#drop the rows with stock column null\n",
    "data = data[data['stock'].notnull()]"
   ]
  },
  {
   "cell_type": "code",
   "execution_count": 12,
   "metadata": {},
   "outputs": [],
   "source": [
    "data.drop(['cashtags', 'stocks_without_cashtag'], axis=1, inplace=True)"
   ]
  },
  {
   "cell_type": "code",
   "execution_count": 13,
   "metadata": {},
   "outputs": [],
   "source": [
    "data.to_csv('../raw_data/prediction_data/prediction_pre_finbert.csv', index=False)"
   ]
  }
 ],
 "metadata": {
  "kernelspec": {
   "display_name": "twitter-env",
   "language": "python",
   "name": "python3"
  },
  "language_info": {
   "codemirror_mode": {
    "name": "ipython",
    "version": 3
   },
   "file_extension": ".py",
   "mimetype": "text/x-python",
   "name": "python",
   "nbconvert_exporter": "python",
   "pygments_lexer": "ipython3",
   "version": "3.10.6"
  },
  "orig_nbformat": 4
 },
 "nbformat": 4,
 "nbformat_minor": 2
}
