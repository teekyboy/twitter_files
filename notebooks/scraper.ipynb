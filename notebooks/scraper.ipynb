{
 "cells": [
  {
   "cell_type": "code",
   "execution_count": 1,
   "metadata": {},
   "outputs": [],
   "source": [
    "import pandas as pd\n",
    "import snscrape.modules.twitter as sntwitter"
   ]
  },
  {
   "cell_type": "code",
   "execution_count": 7,
   "metadata": {},
   "outputs": [],
   "source": [
    "username1 = 'from:example_user1'\n",
    "username2 = 'from:example_user2'\n",
    "start_date = '2022-01-01'\n",
    "end_date = '2022-12-31'"
   ]
  },
  {
   "cell_type": "code",
   "execution_count": 4,
   "metadata": {},
   "outputs": [],
   "source": [
    "query = f'{username1} OR {username2} since:{start_date} until:{end_date}'\n",
    "scraper = sntwitter.TwitterSearchScraper(query)"
   ]
  },
  {
   "cell_type": "code",
   "execution_count": 11,
   "metadata": {},
   "outputs": [],
   "source": [
    "#create empty list to store tweets\n",
    "tweets = []\n",
    "#loop through tweets and append to list\n",
    "for i, tweet in enumerate(scraper.get_items()):\n",
    "    data = [tweet.url, tweet.date, tweet.rawContent, tweet.user.username, \n",
    "            tweet.likeCount, tweet.replyCount, tweet.retweetCount, tweet.quoteCount, \n",
    "            tweet.cashtags, tweet.hashtags, tweet.mentionedUsers, tweet.viewCount]\n",
    "    tweets.append(data)"
   ]
  },
  {
   "cell_type": "code",
   "execution_count": 12,
   "metadata": {},
   "outputs": [
    {
     "data": {
      "text/html": [
       "<div>\n",
       "<style scoped>\n",
       "    .dataframe tbody tr th:only-of-type {\n",
       "        vertical-align: middle;\n",
       "    }\n",
       "\n",
       "    .dataframe tbody tr th {\n",
       "        vertical-align: top;\n",
       "    }\n",
       "\n",
       "    .dataframe thead th {\n",
       "        text-align: right;\n",
       "    }\n",
       "</style>\n",
       "<table border=\"1\" class=\"dataframe\">\n",
       "  <thead>\n",
       "    <tr style=\"text-align: right;\">\n",
       "      <th></th>\n",
       "      <th>url</th>\n",
       "      <th>date</th>\n",
       "      <th>rawContent</th>\n",
       "      <th>username</th>\n",
       "      <th>likeCount</th>\n",
       "      <th>replyCount</th>\n",
       "      <th>retweetCount</th>\n",
       "      <th>quoteCount</th>\n",
       "      <th>cashtags</th>\n",
       "      <th>hashtags</th>\n",
       "      <th>mentionedUsers</th>\n",
       "      <th>viewCount</th>\n",
       "    </tr>\n",
       "  </thead>\n",
       "  <tbody>\n",
       "    <tr>\n",
       "      <th>0</th>\n",
       "      <td>https://twitter.com/Fxhedgers/status/162092440...</td>\n",
       "      <td>2023-02-01 23:17:48+00:00</td>\n",
       "      <td>U.S. DOLLAR INDEX  FALLS 1.23% TO 100.85</td>\n",
       "      <td>Fxhedgers</td>\n",
       "      <td>259</td>\n",
       "      <td>0</td>\n",
       "      <td>40</td>\n",
       "      <td>8</td>\n",
       "      <td>None</td>\n",
       "      <td>None</td>\n",
       "      <td>None</td>\n",
       "      <td>53716</td>\n",
       "    </tr>\n",
       "    <tr>\n",
       "      <th>1</th>\n",
       "      <td>https://twitter.com/Route2FI/status/1620912026...</td>\n",
       "      <td>2023-02-01 22:28:36+00:00</td>\n",
       "      <td>Mini alt season</td>\n",
       "      <td>Route2FI</td>\n",
       "      <td>107</td>\n",
       "      <td>12</td>\n",
       "      <td>6</td>\n",
       "      <td>2</td>\n",
       "      <td>None</td>\n",
       "      <td>None</td>\n",
       "      <td>None</td>\n",
       "      <td>23339</td>\n",
       "    </tr>\n",
       "    <tr>\n",
       "      <th>2</th>\n",
       "      <td>https://twitter.com/Fxhedgers/status/162087892...</td>\n",
       "      <td>2023-02-01 20:17:05+00:00</td>\n",
       "      <td>$5 TRILLION IN U.S. MONEY MARKET ACCOUNTS, AT ...</td>\n",
       "      <td>Fxhedgers</td>\n",
       "      <td>918</td>\n",
       "      <td>0</td>\n",
       "      <td>181</td>\n",
       "      <td>25</td>\n",
       "      <td>None</td>\n",
       "      <td>None</td>\n",
       "      <td>None</td>\n",
       "      <td>140606</td>\n",
       "    </tr>\n",
       "    <tr>\n",
       "      <th>3</th>\n",
       "      <td>https://twitter.com/Fxhedgers/status/162087282...</td>\n",
       "      <td>2023-02-01 19:52:51+00:00</td>\n",
       "      <td>SQUEEZE</td>\n",
       "      <td>Fxhedgers</td>\n",
       "      <td>380</td>\n",
       "      <td>0</td>\n",
       "      <td>38</td>\n",
       "      <td>3</td>\n",
       "      <td>None</td>\n",
       "      <td>None</td>\n",
       "      <td>None</td>\n",
       "      <td>47268</td>\n",
       "    </tr>\n",
       "    <tr>\n",
       "      <th>4</th>\n",
       "      <td>https://twitter.com/Fxhedgers/status/162084095...</td>\n",
       "      <td>2023-02-01 17:46:12+00:00</td>\n",
       "      <td>CHATGPT UNLEASHES STOCK TRADER STAMPEDE FOR EV...</td>\n",
       "      <td>Fxhedgers</td>\n",
       "      <td>191</td>\n",
       "      <td>0</td>\n",
       "      <td>27</td>\n",
       "      <td>8</td>\n",
       "      <td>None</td>\n",
       "      <td>None</td>\n",
       "      <td>None</td>\n",
       "      <td>47532</td>\n",
       "    </tr>\n",
       "  </tbody>\n",
       "</table>\n",
       "</div>"
      ],
      "text/plain": [
       "                                                 url  \\\n",
       "0  https://twitter.com/Fxhedgers/status/162092440...   \n",
       "1  https://twitter.com/Route2FI/status/1620912026...   \n",
       "2  https://twitter.com/Fxhedgers/status/162087892...   \n",
       "3  https://twitter.com/Fxhedgers/status/162087282...   \n",
       "4  https://twitter.com/Fxhedgers/status/162084095...   \n",
       "\n",
       "                       date  \\\n",
       "0 2023-02-01 23:17:48+00:00   \n",
       "1 2023-02-01 22:28:36+00:00   \n",
       "2 2023-02-01 20:17:05+00:00   \n",
       "3 2023-02-01 19:52:51+00:00   \n",
       "4 2023-02-01 17:46:12+00:00   \n",
       "\n",
       "                                          rawContent   username  likeCount  \\\n",
       "0           U.S. DOLLAR INDEX  FALLS 1.23% TO 100.85  Fxhedgers        259   \n",
       "1                                    Mini alt season   Route2FI        107   \n",
       "2  $5 TRILLION IN U.S. MONEY MARKET ACCOUNTS, AT ...  Fxhedgers        918   \n",
       "3                                            SQUEEZE  Fxhedgers        380   \n",
       "4  CHATGPT UNLEASHES STOCK TRADER STAMPEDE FOR EV...  Fxhedgers        191   \n",
       "\n",
       "   replyCount  retweetCount  quoteCount cashtags hashtags mentionedUsers  \\\n",
       "0           0            40           8     None     None           None   \n",
       "1          12             6           2     None     None           None   \n",
       "2           0           181          25     None     None           None   \n",
       "3           0            38           3     None     None           None   \n",
       "4           0            27           8     None     None           None   \n",
       "\n",
       "   viewCount  \n",
       "0      53716  \n",
       "1      23339  \n",
       "2     140606  \n",
       "3      47268  \n",
       "4      47532  "
      ]
     },
     "execution_count": 12,
     "metadata": {},
     "output_type": "execute_result"
    }
   ],
   "source": [
    "#convert list to dataframe\n",
    "df = pd.DataFrame(tweets, columns= ['url', 'date', 'rawContent', 'username',\n",
    "                                    'likeCount', 'replyCount', 'retweetCount', 'quoteCount',\n",
    "                                    'cashtags', 'hashtags', 'mentionedUsers', 'viewCount'])\n",
    "df.head()"
   ]
  },
  {
   "cell_type": "code",
   "execution_count": 13,
   "metadata": {},
   "outputs": [
    {
     "name": "stdout",
     "output_type": "stream",
     "text": [
      "<class 'pandas.core.frame.DataFrame'>\n",
      "RangeIndex: 356 entries, 0 to 355\n",
      "Data columns (total 12 columns):\n",
      " #   Column          Non-Null Count  Dtype              \n",
      "---  ------          --------------  -----              \n",
      " 0   url             356 non-null    object             \n",
      " 1   date            356 non-null    datetime64[ns, UTC]\n",
      " 2   rawContent      356 non-null    object             \n",
      " 3   username        356 non-null    object             \n",
      " 4   likeCount       356 non-null    int64              \n",
      " 5   replyCount      356 non-null    int64              \n",
      " 6   retweetCount    356 non-null    int64              \n",
      " 7   quoteCount      356 non-null    int64              \n",
      " 8   cashtags        24 non-null     object             \n",
      " 9   hashtags        5 non-null      object             \n",
      " 10  mentionedUsers  187 non-null    object             \n",
      " 11  viewCount       356 non-null    int64              \n",
      "dtypes: datetime64[ns, UTC](1), int64(5), object(6)\n",
      "memory usage: 33.5+ KB\n"
     ]
    }
   ],
   "source": [
    "df.info()"
   ]
  },
  {
   "cell_type": "code",
   "execution_count": 24,
   "metadata": {},
   "outputs": [],
   "source": [
    "#save to csv\n",
    "data = df.to_csv('file.csv', index=False)"
   ]
  }
 ],
 "metadata": {
  "kernelspec": {
   "display_name": "twitter-env",
   "language": "python",
   "name": "python3"
  },
  "language_info": {
   "codemirror_mode": {
    "name": "ipython",
    "version": 3
   },
   "file_extension": ".py",
   "mimetype": "text/x-python",
   "name": "python",
   "nbconvert_exporter": "python",
   "pygments_lexer": "ipython3",
   "version": "3.10.6"
  },
  "orig_nbformat": 4
 },
 "nbformat": 4,
 "nbformat_minor": 2
}
