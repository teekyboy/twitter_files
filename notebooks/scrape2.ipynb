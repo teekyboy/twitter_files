{
 "cells": [
  {
   "cell_type": "code",
   "execution_count": 19,
   "metadata": {},
   "outputs": [],
   "source": [
    "import pandas as pd\n",
    "import snscrape.modules.twitter as sntwitter"
   ]
  },
  {
   "cell_type": "code",
   "execution_count": 20,
   "metadata": {},
   "outputs": [],
   "source": [
    "#trying to scrape tweets from 2022 for the following users\n",
    "query = 'from:AltcoinPsycho OR from:markminervini OR from:michaelbatnick since:2022-01-01 until:2022-12-31'\n",
    "scraper = sntwitter.TwitterSearchScraper(query)"
   ]
  },
  {
   "cell_type": "code",
   "execution_count": 21,
   "metadata": {},
   "outputs": [],
   "source": [
    "#create empty list to store tweets\n",
    "tweets = []\n",
    "#loop through tweets and append to list\n",
    "for i, tweet in enumerate(scraper.get_items()):\n",
    "    data = [tweet.url, tweet.date, tweet.rawContent, tweet.user.username, \n",
    "            tweet.likeCount, tweet.replyCount, tweet.retweetCount, tweet.quoteCount, \n",
    "            tweet.cashtags, tweet.hashtags, tweet.viewCount]\n",
    "    tweets.append(data)"
   ]
  },
  {
   "cell_type": "code",
   "execution_count": 22,
   "metadata": {},
   "outputs": [
    {
     "data": {
      "text/html": [
       "<div>\n",
       "<style scoped>\n",
       "    .dataframe tbody tr th:only-of-type {\n",
       "        vertical-align: middle;\n",
       "    }\n",
       "\n",
       "    .dataframe tbody tr th {\n",
       "        vertical-align: top;\n",
       "    }\n",
       "\n",
       "    .dataframe thead th {\n",
       "        text-align: right;\n",
       "    }\n",
       "</style>\n",
       "<table border=\"1\" class=\"dataframe\">\n",
       "  <thead>\n",
       "    <tr style=\"text-align: right;\">\n",
       "      <th></th>\n",
       "      <th>url</th>\n",
       "      <th>date</th>\n",
       "      <th>rawContent</th>\n",
       "      <th>username</th>\n",
       "      <th>likeCount</th>\n",
       "      <th>replyCount</th>\n",
       "      <th>retweetCount</th>\n",
       "      <th>quoteCount</th>\n",
       "      <th>cashtags</th>\n",
       "      <th>hashtags</th>\n",
       "      <th>viewCount</th>\n",
       "    </tr>\n",
       "  </thead>\n",
       "  <tbody>\n",
       "    <tr>\n",
       "      <th>0</th>\n",
       "      <td>https://twitter.com/AltcoinPsycho/status/16089...</td>\n",
       "      <td>2022-12-30 19:46:49+00:00</td>\n",
       "      <td>True self-custody of assets is the only path f...</td>\n",
       "      <td>AltcoinPsycho</td>\n",
       "      <td>167</td>\n",
       "      <td>11</td>\n",
       "      <td>16</td>\n",
       "      <td>2</td>\n",
       "      <td>None</td>\n",
       "      <td>None</td>\n",
       "      <td>42627.0</td>\n",
       "    </tr>\n",
       "    <tr>\n",
       "      <th>1</th>\n",
       "      <td>https://twitter.com/AltcoinPsycho/status/16089...</td>\n",
       "      <td>2022-12-30 19:34:54+00:00</td>\n",
       "      <td>@SBF_FTX Okay and what about the $684k that wa...</td>\n",
       "      <td>AltcoinPsycho</td>\n",
       "      <td>1656</td>\n",
       "      <td>50</td>\n",
       "      <td>205</td>\n",
       "      <td>5</td>\n",
       "      <td>None</td>\n",
       "      <td>None</td>\n",
       "      <td>529516.0</td>\n",
       "    </tr>\n",
       "    <tr>\n",
       "      <th>2</th>\n",
       "      <td>https://twitter.com/AltcoinPsycho/status/16088...</td>\n",
       "      <td>2022-12-30 18:43:11+00:00</td>\n",
       "      <td>@schmosby_xbt Lmaooo I’m cooking up something ...</td>\n",
       "      <td>AltcoinPsycho</td>\n",
       "      <td>6</td>\n",
       "      <td>0</td>\n",
       "      <td>0</td>\n",
       "      <td>0</td>\n",
       "      <td>None</td>\n",
       "      <td>None</td>\n",
       "      <td>3124.0</td>\n",
       "    </tr>\n",
       "    <tr>\n",
       "      <th>3</th>\n",
       "      <td>https://twitter.com/michaelbatnick/status/1608...</td>\n",
       "      <td>2022-12-29 22:54:50+00:00</td>\n",
       "      <td>@FiSurgi I just meant relative to talent and e...</td>\n",
       "      <td>michaelbatnick</td>\n",
       "      <td>1</td>\n",
       "      <td>1</td>\n",
       "      <td>0</td>\n",
       "      <td>0</td>\n",
       "      <td>None</td>\n",
       "      <td>None</td>\n",
       "      <td>355.0</td>\n",
       "    </tr>\n",
       "    <tr>\n",
       "      <th>4</th>\n",
       "      <td>https://twitter.com/AltcoinPsycho/status/16085...</td>\n",
       "      <td>2022-12-29 22:43:19+00:00</td>\n",
       "      <td>RIP late shorters</td>\n",
       "      <td>AltcoinPsycho</td>\n",
       "      <td>280</td>\n",
       "      <td>24</td>\n",
       "      <td>12</td>\n",
       "      <td>3</td>\n",
       "      <td>None</td>\n",
       "      <td>None</td>\n",
       "      <td>71702.0</td>\n",
       "    </tr>\n",
       "  </tbody>\n",
       "</table>\n",
       "</div>"
      ],
      "text/plain": [
       "                                                 url  \\\n",
       "0  https://twitter.com/AltcoinPsycho/status/16089...   \n",
       "1  https://twitter.com/AltcoinPsycho/status/16089...   \n",
       "2  https://twitter.com/AltcoinPsycho/status/16088...   \n",
       "3  https://twitter.com/michaelbatnick/status/1608...   \n",
       "4  https://twitter.com/AltcoinPsycho/status/16085...   \n",
       "\n",
       "                       date  \\\n",
       "0 2022-12-30 19:46:49+00:00   \n",
       "1 2022-12-30 19:34:54+00:00   \n",
       "2 2022-12-30 18:43:11+00:00   \n",
       "3 2022-12-29 22:54:50+00:00   \n",
       "4 2022-12-29 22:43:19+00:00   \n",
       "\n",
       "                                          rawContent        username  \\\n",
       "0  True self-custody of assets is the only path f...   AltcoinPsycho   \n",
       "1  @SBF_FTX Okay and what about the $684k that wa...   AltcoinPsycho   \n",
       "2  @schmosby_xbt Lmaooo I’m cooking up something ...   AltcoinPsycho   \n",
       "3  @FiSurgi I just meant relative to talent and e...  michaelbatnick   \n",
       "4                                  RIP late shorters   AltcoinPsycho   \n",
       "\n",
       "   likeCount  replyCount  retweetCount  quoteCount cashtags hashtags  \\\n",
       "0        167          11            16           2     None     None   \n",
       "1       1656          50           205           5     None     None   \n",
       "2          6           0             0           0     None     None   \n",
       "3          1           1             0           0     None     None   \n",
       "4        280          24            12           3     None     None   \n",
       "\n",
       "   viewCount  \n",
       "0    42627.0  \n",
       "1   529516.0  \n",
       "2     3124.0  \n",
       "3      355.0  \n",
       "4    71702.0  "
      ]
     },
     "execution_count": 22,
     "metadata": {},
     "output_type": "execute_result"
    }
   ],
   "source": [
    "#convert list to dataframe\n",
    "df = pd.DataFrame(tweets, columns= ['url', 'date', 'rawContent', 'username',\n",
    "                                    'likeCount', 'replyCount', 'retweetCount', 'quoteCount',\n",
    "                                    'cashtags', 'hashtags', 'viewCount'])\n",
    "df.head()"
   ]
  },
  {
   "cell_type": "code",
   "execution_count": 23,
   "metadata": {},
   "outputs": [
    {
     "name": "stdout",
     "output_type": "stream",
     "text": [
      "<class 'pandas.core.frame.DataFrame'>\n",
      "RangeIndex: 8560 entries, 0 to 8559\n",
      "Data columns (total 11 columns):\n",
      " #   Column        Non-Null Count  Dtype              \n",
      "---  ------        --------------  -----              \n",
      " 0   url           8560 non-null   object             \n",
      " 1   date          8560 non-null   datetime64[ns, UTC]\n",
      " 2   rawContent    8560 non-null   object             \n",
      " 3   username      8560 non-null   object             \n",
      " 4   likeCount     8560 non-null   int64              \n",
      " 5   replyCount    8560 non-null   int64              \n",
      " 6   retweetCount  8560 non-null   int64              \n",
      " 7   quoteCount    8560 non-null   int64              \n",
      " 8   cashtags      152 non-null    object             \n",
      " 9   hashtags      31 non-null     object             \n",
      " 10  viewCount     120 non-null    float64            \n",
      "dtypes: datetime64[ns, UTC](1), float64(1), int64(4), object(5)\n",
      "memory usage: 735.8+ KB\n"
     ]
    }
   ],
   "source": [
    "df.info()"
   ]
  },
  {
   "cell_type": "code",
   "execution_count": 24,
   "metadata": {},
   "outputs": [],
   "source": [
    "#save to csv\n",
    "data = df.to_csv('file21.csv', index=False)"
   ]
  },
  {
   "cell_type": "code",
   "execution_count": null,
   "metadata": {},
   "outputs": [],
   "source": []
  }
 ],
 "metadata": {
  "kernelspec": {
   "display_name": "twitter_files",
   "language": "python",
   "name": "python3"
  },
  "language_info": {
   "codemirror_mode": {
    "name": "ipython",
    "version": 3
   },
   "file_extension": ".py",
   "mimetype": "text/x-python",
   "name": "python",
   "nbconvert_exporter": "python",
   "pygments_lexer": "ipython3",
   "version": "3.10.6"
  },
  "orig_nbformat": 4
 },
 "nbformat": 4,
 "nbformat_minor": 2
}
