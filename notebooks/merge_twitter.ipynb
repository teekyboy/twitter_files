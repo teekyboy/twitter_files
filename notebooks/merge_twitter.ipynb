{
 "cells": [
  {
   "cell_type": "code",
   "execution_count": 1,
   "metadata": {},
   "outputs": [],
   "source": [
    "import pandas as pd"
   ]
  },
  {
   "cell_type": "code",
   "execution_count": 2,
   "metadata": {},
   "outputs": [],
   "source": [
    "df1 = pd.read_csv('raw_data/file1.csv', parse_dates=['date'])\n",
    "df2 = pd.read_csv('raw_data/file2.csv', parse_dates=['date'])\n",
    "df3 = pd.read_csv('raw_data/file3.csv', parse_dates=['date'])\n",
    "df4 = pd.read_csv('raw_data/file4.csv', parse_dates=['date'])\n",
    "df5 = pd.read_csv('raw_data/file5.csv', parse_dates=['date'])\n",
    "df6 = pd.read_csv('raw_data/file6.csv', parse_dates=['date'])\n",
    "df7 = pd.read_csv('raw_data/file7.csv', parse_dates=['date'])\n",
    "df8 = pd.read_csv('raw_data/file8.csv', parse_dates=['date'])\n",
    "df9 = pd.read_csv('raw_data/file9.csv', parse_dates=['date'])\n",
    "df10 = pd.read_csv('raw_data/file10.csv', parse_dates=['date'])\n",
    "df11 = pd.read_csv('raw_data/file11.csv', parse_dates=['date'])\n",
    "df12 = pd.read_csv('raw_data/file12.csv', parse_dates=['date'])"
   ]
  },
  {
   "cell_type": "code",
   "execution_count": 3,
   "metadata": {},
   "outputs": [
    {
     "data": {
      "text/plain": [
       "(139488, 11)"
      ]
     },
     "execution_count": 3,
     "metadata": {},
     "output_type": "execute_result"
    }
   ],
   "source": [
    "data1 = pd.concat([df1, df2, df3, df4, df5, df6, df7, df8, df9, df10, df11, df12], axis=0, ignore_index=True, sort=False)\n",
    "data1 = data1.sort_values(by='date')\n",
    "data1.shape"
   ]
  },
  {
   "cell_type": "code",
   "execution_count": 4,
   "metadata": {},
   "outputs": [],
   "source": [
    "data1.to_csv('raw_data/twitter_1.csv', index=False)"
   ]
  },
  {
   "cell_type": "code",
   "execution_count": 5,
   "metadata": {},
   "outputs": [],
   "source": [
    "df13 = pd.read_csv('raw_data/file13.csv', parse_dates=['date'])\n",
    "df14 = pd.read_csv('raw_data/file14.csv', parse_dates=['date'])\n",
    "df15 = pd.read_csv('raw_data/file15.csv', parse_dates=['date'])\n",
    "df16 = pd.read_csv('raw_data/file16.csv', parse_dates=['date'])\n",
    "df17 = pd.read_csv('raw_data/file17.csv', parse_dates=['date'])\n",
    "df18 = pd.read_csv('raw_data/file18.csv', parse_dates=['date'])\n",
    "df19 = pd.read_csv('raw_data/file19.csv', parse_dates=['date'])\n",
    "df20 = pd.read_csv('raw_data/file20.csv', parse_dates=['date'])\n",
    "df21 = pd.read_csv('raw_data/file21.csv', parse_dates=['date'])\n",
    "df22 = pd.read_csv('raw_data/file22.csv', parse_dates=['date'])\n",
    "df23 = pd.read_csv('raw_data/file23.csv', parse_dates=['date'])"
   ]
  },
  {
   "cell_type": "code",
   "execution_count": 6,
   "metadata": {},
   "outputs": [
    {
     "data": {
      "text/plain": [
       "(229584, 11)"
      ]
     },
     "execution_count": 6,
     "metadata": {},
     "output_type": "execute_result"
    }
   ],
   "source": [
    "data2 = pd.concat([df13, df14, df15, df16, df17, df18, df19, df20, df21, df22, df23], axis=0, ignore_index=True, sort=False)\n",
    "data2 = data2.sort_values(by='date')\n",
    "data2.shape"
   ]
  },
  {
   "cell_type": "code",
   "execution_count": 7,
   "metadata": {},
   "outputs": [],
   "source": [
    "data2.to_csv('raw_data/twitter_2.csv', index=False)"
   ]
  },
  {
   "cell_type": "code",
   "execution_count": null,
   "metadata": {},
   "outputs": [],
   "source": []
  }
 ],
 "metadata": {
  "kernelspec": {
   "display_name": "twitter_files",
   "language": "python",
   "name": "python3"
  },
  "language_info": {
   "codemirror_mode": {
    "name": "ipython",
    "version": 3
   },
   "file_extension": ".py",
   "mimetype": "text/x-python",
   "name": "python",
   "nbconvert_exporter": "python",
   "pygments_lexer": "ipython3",
   "version": "3.10.6"
  },
  "orig_nbformat": 4
 },
 "nbformat": 4,
 "nbformat_minor": 2
}
