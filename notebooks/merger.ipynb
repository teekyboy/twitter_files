{
 "cells": [
  {
   "cell_type": "code",
   "execution_count": 1,
   "metadata": {},
   "outputs": [],
   "source": [
    "import pandas as pd"
   ]
  },
  {
   "cell_type": "code",
   "execution_count": 2,
   "metadata": {},
   "outputs": [],
   "source": [
    "df1 = pd.read_csv('../raw_data/prediction_data/file1.csv', parse_dates=['date'])\n",
    "df2 = pd.read_csv('../raw_data/prediction_data/file2.csv', parse_dates=['date'])\n",
    "df3 = pd.read_csv('../raw_data/prediction_data/file3.csv', parse_dates=['date'])\n",
    "df4 = pd.read_csv('../raw_data/prediction_data/file4.csv', parse_dates=['date'])\n",
    "df5 = pd.read_csv('../raw_data/prediction_data/file5.csv', parse_dates=['date'])\n",
    "df6 = pd.read_csv('../raw_data/prediction_data/file6.csv', parse_dates=['date'])\n",
    "df7 = pd.read_csv('../raw_data/prediction_data/file7.csv', parse_dates=['date'])\n",
    "df8 = pd.read_csv('../raw_data/prediction_data/file8.csv', parse_dates=['date'])\n",
    "df9 = pd.read_csv('../raw_data/prediction_data/file9.csv', parse_dates=['date'])\n",
    "df10 = pd.read_csv('../raw_data/prediction_data/file10.csv', parse_dates=['date'])\n",
    "df11 = pd.read_csv('../raw_data/prediction_data/file11.csv', parse_dates=['date'])\n",
    "df12 = pd.read_csv('../raw_data/prediction_data/file12.csv', parse_dates=['date'])\n",
    "df13 = pd.read_csv('../raw_data/prediction_data/file13.csv', parse_dates=['date'])\n",
    "df14 = pd.read_csv('../raw_data/prediction_data/file14.csv', parse_dates=['date'])\n",
    "df15 = pd.read_csv('../raw_data/prediction_data/file15.csv', parse_dates=['date'])\n",
    "df16 = pd.read_csv('../raw_data/prediction_data/file16.csv', parse_dates=['date'])\n",
    "df17 = pd.read_csv('../raw_data/prediction_data/file17.csv', parse_dates=['date'])\n",
    "df18 = pd.read_csv('../raw_data/prediction_data/file18.csv', parse_dates=['date'])"
   ]
  },
  {
   "cell_type": "code",
   "execution_count": 3,
   "metadata": {},
   "outputs": [
    {
     "data": {
      "text/plain": [
       "(72352, 12)"
      ]
     },
     "execution_count": 3,
     "metadata": {},
     "output_type": "execute_result"
    }
   ],
   "source": [
    "data = pd.concat([df1, df2, df3, df4, df5, df6, df7, df8, df9, df10, \n",
    "                  df11, df12, df13, df14, df15, df16, df17, df18], \n",
    "                 axis=0, ignore_index=True, sort=False)\n",
    "data = data.sort_values(by='date')\n",
    "data.shape"
   ]
  },
  {
   "cell_type": "code",
   "execution_count": 4,
   "metadata": {},
   "outputs": [],
   "source": [
    "data.to_csv('../raw_data/prediction_data/prediction_data.csv', index=False)"
   ]
  },
  {
   "cell_type": "code",
   "execution_count": null,
   "metadata": {},
   "outputs": [],
   "source": []
  }
 ],
 "metadata": {
  "kernelspec": {
   "display_name": "twitter_files",
   "language": "python",
   "name": "python3"
  },
  "language_info": {
   "codemirror_mode": {
    "name": "ipython",
    "version": 3
   },
   "file_extension": ".py",
   "mimetype": "text/x-python",
   "name": "python",
   "nbconvert_exporter": "python",
   "pygments_lexer": "ipython3",
   "version": "3.10.6"
  },
  "orig_nbformat": 4
 },
 "nbformat": 4,
 "nbformat_minor": 2
}
