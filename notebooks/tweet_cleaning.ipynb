{
 "cells": [
  {
   "cell_type": "code",
   "execution_count": 1,
   "metadata": {},
   "outputs": [],
   "source": [
    "import pandas as pd\n",
    "import re\n",
    "import emoji\n",
    "from transformers import AutoTokenizer, AutoModelForSequenceClassification\n",
    "from sklearn.preprocessing import MinMaxScaler\n",
    "from transformers import BertTokenizer, BertForSequenceClassification, pipeline\n",
    "import torch"
   ]
  },
  {
   "cell_type": "code",
   "execution_count": 2,
   "metadata": {},
   "outputs": [
    {
     "name": "stderr",
     "output_type": "stream",
     "text": [
      "/var/folders/sd/p4tcs9gs0hn4nt45wd9f9q1w0000gn/T/ipykernel_13931/399126454.py:2: DtypeWarning: Columns (9) have mixed types. Specify dtype option on import or set low_memory=False.\n",
      "  df2 = pd.read_csv('../raw_data/twitter_2.csv')\n"
     ]
    }
   ],
   "source": [
    "df1 = pd.read_csv('../raw_data/twitter_1.csv')\n",
    "df2 = pd.read_csv('../raw_data/twitter_2.csv')\n",
    "df = pd.concat([df1, df2], ignore_index=True)"
   ]
  },
  {
   "cell_type": "code",
   "execution_count": 3,
   "metadata": {},
   "outputs": [
    {
     "data": {
      "text/plain": [
       "(139488, 17)"
      ]
     },
     "metadata": {},
     "output_type": "display_data"
    },
    {
     "data": {
      "text/plain": [
       "(229584, 17)"
      ]
     },
     "metadata": {},
     "output_type": "display_data"
    }
   ],
   "source": [
    "display(df1.shape)\n",
    "display(df2.shape)"
   ]
  },
  {
   "cell_type": "code",
   "execution_count": 4,
   "metadata": {},
   "outputs": [],
   "source": [
    "df.rename(columns={'rawContent': 'tweet'}, inplace=True)"
   ]
  },
  {
   "cell_type": "code",
   "execution_count": 5,
   "metadata": {},
   "outputs": [],
   "source": [
    "def convert_to_datetime(df):\n",
    "    df['date'] = pd.to_datetime(df['date'], format='%Y-%m-%d %H:%M:%S')\n",
    "    return df"
   ]
  },
  {
   "cell_type": "code",
   "execution_count": 6,
   "metadata": {},
   "outputs": [],
   "source": [
    "def convert_emojis(string):\n",
    "    text = emoji.demojize(string)\n",
    "    text = text.replace(\":\", \"\").replace(\"_\", \" \")\n",
    "    return text"
   ]
  },
  {
   "cell_type": "code",
   "execution_count": 7,
   "metadata": {},
   "outputs": [],
   "source": [
    "def clean_tweet(tweet):\n",
    "    \n",
    "    # Remove url\n",
    "    tweet = re.sub(r'https?:\\/\\/\\S+', '', tweet)\n",
    "    tweet = re.sub(r'http?:\\/\\/\\S+', '', tweet)\n",
    "    \n",
    "    # Remove \\n\n",
    "    tweet = re.sub(r'\\n', '', tweet)\n",
    "    \n",
    "    # Remove @\n",
    "    tweet = re.sub(r'@[A-Za-z0-9]+', '', tweet)\n",
    "    \n",
    "    # Remove #\n",
    "    tweet = re.sub(r'#', '', tweet)\n",
    "    \n",
    "    # Remove RT\n",
    "    tweet = re.sub(r'RT[\\s]+', '', tweet)\n",
    "    \n",
    "    # Convert to lower case\n",
    "    tweet = tweet.lower()\n",
    "    \n",
    "    # Remove \"#&'()*/:;@[\\]^`{|}~\"\n",
    "    tweet = re.sub(r'[#&\\'\\(\\)\\*\\+\\/:;@\\[\\]\\^`{|}~]', '', tweet)\n",
    "    \n",
    "    # Remove double space\n",
    "    tweet = re.sub(r'\\s\\s+', ' ', tweet)\n",
    "    \n",
    "    return tweet"
   ]
  },
  {
   "cell_type": "code",
   "execution_count": 8,
   "metadata": {},
   "outputs": [],
   "source": [
    "df = convert_to_datetime(df)\n",
    "df['tweet'] = df['tweet'].apply(clean_tweet)\n",
    "df['tweet'] = df['tweet'].apply(convert_emojis)"
   ]
  },
  {
   "cell_type": "code",
   "execution_count": 9,
   "metadata": {},
   "outputs": [],
   "source": [
    "list1 = ['AAPL', 'Apple Inc.', 'Appl', \n",
    "         'AMC', 'AMC Entertainment Holdings Inc.', 'AAMC', \n",
    "         'AC', 'AMZN', 'Amazon.com Inc.', 'Amazn', 'AMD', \n",
    "         'Advanced Micro Devices Inc.', 'AMED', \n",
    "         'BB', 'BlackBerry Ltd.', 'Blacberry', \n",
    "         'BBBY', 'Bed Bath & Beyond Inc.', 'Bedbathbeyond', \n",
    "         'BTC', 'Bitcoin', 'bit coin', 'BYND', 'Beyond Meat Inc.', 'Bynd', \n",
    "         'CLNE', 'Clean Energy Fuels Corp.', 'Clnenergy', \n",
    "         'CMG', 'Chipotle Mexican Grill Inc.', 'Chipotle', 'COST', \n",
    "         'Costco Wholesale Corp.', 'Coscto', 'CRSR', 'Corsair Gaming Inc.', \n",
    "         'Corsair', 'DIS', 'Walt Disney Co.', 'Disney', 'DOGE', 'Dogecoin', \n",
    "         'Doge coin', 'ET', 'Energy Transfer LP', 'Energy Transfer', 'F', \n",
    "         'Ford Motor Co.', 'Ford', 'FB', 'Facebook Inc.', 'Fb', 'GME', \n",
    "         'GameStop Corp.', 'Gamestop', 'GOOG', 'Alphabet Inc.', 'Google', \n",
    "         'HD', 'Home Depot Inc.', 'Home Depo', 'INTC', 'Intel Corp.', \n",
    "         'Intell', 'JNJ', 'Johnson & Johnson', 'Johnsohn', 'KO', \n",
    "         'Coca-Cola Co.', 'Coca Cola', 'LULU', 'Lululemon Athletica Inc.', \n",
    "         'Lululemn', 'MCD', \"McDonald's Corp.\", \"McDonalds\", 'MGM', \n",
    "         'MGM Resorts International', 'Mgmresorts', 'MSFT', 'Microsoft Corp.', \n",
    "         'Micrsoft', 'MU', 'Micron Technology Inc.', 'Micron', \n",
    "         'NIO', 'NIO Inc.', 'Nio', 'NVDA', 'NVIDIA Corp.', 'Nivida', \n",
    "         'PFE', 'Pfizer Inc.', 'Pifzer', 'PINS', 'Pinterest Inc.', \n",
    "         'Pintrst', 'PLTR', 'Palantir Technologies Inc.', 'Palintir', \n",
    "         'QQQ', 'Invesco QQQ Trust', 'InvescoQQQ', 'RBLX', \n",
    "         'Roblox Corp.', 'Robloks', 'RIOT', 'Riot Blockchain Inc.', \n",
    "         'Riott', 'ROKU', 'Roku Inc.', 'Rokue', 'SNDL', \n",
    "         'Sundial Growers Inc.', 'Sundail', 'SPCE', \n",
    "         'Virgin Galactic Holdings Inc.', 'Spacex', 'SQ', 'Square Inc.', \n",
    "         'Squar', 'T', 'AT&T Inc.', 'Att', 'TSLA', 'Tesla Inc.', \n",
    "         'Teslla', 'TWTR', 'Twitter Inc.', 'Twiter', 'UBER', \n",
    "         'Uber Technologies Inc.', 'Ube', 'UPST', 'Upstart Holdings Inc.', \n",
    "         'Upstartholdings', 'V', 'Visa Inc.', 'Visa', 'WMT', 'Walmart Inc.', \n",
    "         'Walmrt', 'XOM', 'Exxon Mobil Corp.', 'Exxonmobil']\n",
    "list2 = ['AAL', 'American Airlines Group Inc.', 'Americanairlines',\n",
    "        'ABNB', 'Airbnb Inc.', 'AirBnB',\n",
    "        'ACB', 'Aurora Cannabis Inc.', 'Auroracannabis',\n",
    "        'AMRN', 'Amarin Corp. plc', 'Amerin',\n",
    "        'ARKK', 'ARK Innovation ETF', 'ARKinovation',\n",
    "        'BABA', 'Alibaba Group Holding Ltd.', 'Alibaba',\n",
    "        'BA', 'Boeing Co.', 'Boing',\n",
    "        'BAC', 'Bank of America Corp.', 'Bankofamerica',\n",
    "        'BIDU', 'Baidu Inc.', 'Bido',\n",
    "        'BILI', 'Bilibili Inc.', 'Billibili',\n",
    "        'BLNK', 'Blink Charging Co.', 'Blinkcharg',\n",
    "        'BMY', 'Bristol Myers Squibb Co.', 'Bristolmyers',\n",
    "        'BRK.A', 'Berkshire Hathaway Inc.', 'Berkshira',\n",
    "        'CCL', 'Carnival Corp.', 'Carnival',\n",
    "        'CGC', 'Canopy Growth Corp.', 'Canopygrowth',\n",
    "        'CHWY', 'Chewy Inc.', 'Chewycom',\n",
    "        'CSCO', 'Cisco Systems Inc.', 'Cicsco',\n",
    "        'CVS', 'CVS Health Corp.', 'Cvshealth',\n",
    "        'DAL', 'Delta Air Lines Inc.', 'Deltaairlines',\n",
    "        'DDOG', 'Datadog Inc.', 'DataDog',\n",
    "        'DISCA', 'Discovery Inc. - Class A', 'Discovera',\n",
    "        'DKNG', 'DraftKings Inc.', 'DraftKings',\n",
    "        'ENPH', 'Enphase Energy Inc.', 'Enphase',\n",
    "        'EQT', 'EQT Corp.', 'Eqtcorporation',\n",
    "        'FCEL', 'FuelCell Energy Inc.', 'Fuelcell',\n",
    "        'FSLY', 'Fastly Inc.', 'Fastly',\n",
    "        'GE', 'General Electric Co.', 'GeneralElectric',\n",
    "        'GM', 'General Motors Co.', 'GeneralMotors',\n",
    "        'GOLD', 'Barrick Gold Corp.', 'Goldmining',\n",
    "        'GPRO', 'GoPro Inc.', 'Gopro',\n",
    "        'GRWG', 'GrowGeneration Corp.', 'Growgen',\n",
    "        'HPE', 'Hewlett Packard Enterprise Co.', 'Hewlettpackard',\n",
    "        'IBB', 'iShares NASDAQ Biotechnology ETF', 'iSharesNasdaqBiotechnology',\n",
    "        'IBKR', 'Interactive Brokers Group Inc.', 'InterectiveBrokers',\n",
    "        'INO', 'Inovio Pharmaceuticals Inc.', 'Inovio',\n",
    "        'JD', 'JD.com Inc.', 'JD',\n",
    "        'JMIA', 'Jumia Technologies AG', 'Jumia',\n",
    "        'JPM', 'JPMorgan Chase & Co.', 'JPmorgan',\n",
    "        'KHC', 'Kraft Heinz Co.', 'KraftHeinz',\n",
    "        'LIT', 'Global X Lithium & Battery Tech ETF', 'GlobalXlithium',\n",
    "        'MARA', 'Marathon Digital Holdings Inc.', 'MarathonDigital',\n",
    "        'MRNA', 'Moderna Inc.', 'Modernna',\n",
    "        'NCLH', 'Norwegian Cruise Line Holdings Ltd.', 'Norwegiancruiseline',\n",
    "        'NET', 'Cloudflare Inc.', 'CloudFlare',\n",
    "        'NFLX', 'Netflix Inc.', 'Netlfix',\n",
    "        'NKE', 'Nike Inc.', 'Nike', 'NKLA', 'Nikola Corp.', 'Nicola', 'NOK', 'Nokia Corp.', 'Noka', 'O', 'Realty Income Corp.', 'Realtyincome', 'OGI', 'OrganiGram Holdings Inc.', 'Organigram', 'OTRK', 'Ontrak Inc.', 'OnTrack', 'PDD', 'Pinduoduo Inc.', 'Pinduoduo', 'PENN', 'Penn National Gaming Inc.', 'PennNational']\n"
   ]
  },
  {
   "cell_type": "code",
   "execution_count": 10,
   "metadata": {},
   "outputs": [],
   "source": [
    "keywords = []\n",
    "\n",
    "for word in list1:\n",
    "    word = clean_tweet(word)\n",
    "    word = word.replace('inc.', '').replace('ltd.', '').replace('co.', '').replace('corp.', '').replace('.com', '')\n",
    "    keywords.append(word)\n",
    "\n",
    "for word in list2:\n",
    "    word = clean_tweet(word)\n",
    "    word = word.replace('inc.', '').replace('ltd.', '').replace('co.', '').replace('corp.', '').replace('.com', '')\n",
    "    keywords.append(word)"
   ]
  },
  {
   "cell_type": "code",
   "execution_count": 11,
   "metadata": {},
   "outputs": [],
   "source": [
    "top50 = pd.read_csv('../raw_data/top50.csv')\n",
    "cashtags = top50['cashtags'].tolist()"
   ]
  },
  {
   "cell_type": "code",
   "execution_count": 12,
   "metadata": {},
   "outputs": [],
   "source": [
    "for cashtag in cashtags:\n",
    "    cashtag = clean_tweet(cashtag)\n",
    "    cashtag = re.sub(r'[^\\w\\s]', '', cashtag)\n",
    "    cashtag = cashtag.replace(' ', '')\n",
    "    \n",
    "    if cashtag not in keywords:\n",
    "        keywords.append(cashtag)"
   ]
  },
  {
   "cell_type": "code",
   "execution_count": 13,
   "metadata": {},
   "outputs": [],
   "source": [
    "for keyword in keywords:\n",
    "    if len(keyword) < 2:\n",
    "        keywords.remove(keyword)"
   ]
  },
  {
   "cell_type": "code",
   "execution_count": 14,
   "metadata": {},
   "outputs": [
    {
     "data": {
      "text/plain": [
       "(369072, 17)"
      ]
     },
     "execution_count": 14,
     "metadata": {},
     "output_type": "execute_result"
    }
   ],
   "source": [
    "df.shape"
   ]
  },
  {
   "cell_type": "code",
   "execution_count": 23,
   "metadata": {},
   "outputs": [],
   "source": [
    "condition1 = df['cashtags'].notnull()\n",
    "condition2 = df['hashtags'].notnull()\n",
    "condition3 = df['tweet'].str.contains(keyword, case=False)"
   ]
  },
  {
   "cell_type": "code",
   "execution_count": 24,
   "metadata": {},
   "outputs": [],
   "source": [
    "# Filter the DataFrame based on the conditions\n",
    "final_data = df[condition1 | condition2 | condition3]\n",
    "\n",
    "# Reset the index of the filtered DataFrame\n",
    "final_data = final_data.reset_index(drop=True)"
   ]
  },
  {
   "cell_type": "code",
   "execution_count": 25,
   "metadata": {},
   "outputs": [
    {
     "data": {
      "text/plain": [
       "(69137, 17)"
      ]
     },
     "execution_count": 25,
     "metadata": {},
     "output_type": "execute_result"
    }
   ],
   "source": [
    "final_data.shape"
   ]
  },
  {
   "cell_type": "code",
   "execution_count": 27,
   "metadata": {},
   "outputs": [],
   "source": [
    "final_data.to_csv('../raw_data/final_data.csv', index=False)"
   ]
  },
  {
   "cell_type": "code",
   "execution_count": null,
   "metadata": {},
   "outputs": [],
   "source": []
  }
 ],
 "metadata": {
  "kernelspec": {
   "display_name": "twitter-env",
   "language": "python",
   "name": "python3"
  },
  "language_info": {
   "codemirror_mode": {
    "name": "ipython",
    "version": 3
   },
   "file_extension": ".py",
   "mimetype": "text/x-python",
   "name": "python",
   "nbconvert_exporter": "python",
   "pygments_lexer": "ipython3",
   "version": "3.10.6"
  },
  "orig_nbformat": 4
 },
 "nbformat": 4,
 "nbformat_minor": 2
}
