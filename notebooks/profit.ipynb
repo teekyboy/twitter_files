{
 "cells": [
  {
   "cell_type": "code",
   "execution_count": 1,
   "metadata": {},
   "outputs": [],
   "source": [
    "import pandas as pd"
   ]
  },
  {
   "cell_type": "code",
   "execution_count": 2,
   "metadata": {},
   "outputs": [],
   "source": [
    "data = pd.read_csv('../raw_data/sentimental_data.csv')"
   ]
  },
  {
   "cell_type": "code",
   "execution_count": 3,
   "metadata": {},
   "outputs": [
    {
     "data": {
      "text/plain": [
       "(69137, 20)"
      ]
     },
     "execution_count": 3,
     "metadata": {},
     "output_type": "execute_result"
    }
   ],
   "source": [
    "data.shape"
   ]
  },
  {
   "cell_type": "code",
   "execution_count": 4,
   "metadata": {},
   "outputs": [],
   "source": [
    "#delete the rows with the sentiment neutral\n",
    "data = data[data['sentiment'] != 'neutral']\n",
    "data = data.reset_index(drop=True)"
   ]
  },
  {
   "cell_type": "code",
   "execution_count": 5,
   "metadata": {},
   "outputs": [
    {
     "data": {
      "text/plain": [
       "(16496, 20)"
      ]
     },
     "execution_count": 5,
     "metadata": {},
     "output_type": "execute_result"
    }
   ],
   "source": [
    "new_data = data[data['sentiment'] != 'Neutral']\n",
    "new_data = new_data.reset_index(drop=True)\n",
    "new_data.shape"
   ]
  },
  {
   "cell_type": "code",
   "execution_count": 6,
   "metadata": {},
   "outputs": [],
   "source": [
    "new_data = data "
   ]
  },
  {
   "cell_type": "code",
   "execution_count": 7,
   "metadata": {},
   "outputs": [
    {
     "data": {
      "text/plain": [
       "StockMKTNewz       11863\n",
       "whale_alert         9766\n",
       "johnscharts         4792\n",
       "CheddarFlow         4458\n",
       "ShardiB2            3274\n",
       "Jake__Wujastyk      2762\n",
       "gurgavin            2248\n",
       "CryptoGodJohn       1960\n",
       "CryptoWizardd       1814\n",
       "traderstewie        1812\n",
       "Ninjascalp          1704\n",
       "LadyofCrypto1       1688\n",
       "AdamMancini4        1508\n",
       "OMillionaires       1389\n",
       "stocktalkweekly     1291\n",
       "Anbessa100          1158\n",
       "Schuldensuehner     1153\n",
       "LilMoonLambo         984\n",
       "mikealfred           962\n",
       "TommyThornton        856\n",
       "Pentosh1             819\n",
       "alphatrends          796\n",
       "Stocktwits           756\n",
       "Route2FI             713\n",
       "crypto_iso           681\n",
       "saxena_puru          653\n",
       "CryptoCapo_          629\n",
       "eWhispers            600\n",
       "charliebilello       595\n",
       "inmortalcrypto       549\n",
       "CryptoKaleo          511\n",
       "CordovaTrades        502\n",
       "oddgems              469\n",
       "NekozTek             384\n",
       "ColdBloodShill       354\n",
       "PeterLBrandt         331\n",
       "thecryptomonk        308\n",
       "MFHoz                291\n",
       "Sheldon_Sniper       283\n",
       "FirstSquawk          169\n",
       "Fxhedgers            168\n",
       "cryptomanran         166\n",
       "markminervini        142\n",
       "PelosiTracker_       138\n",
       "CryptoDonAlt         125\n",
       "BowTiedBull          111\n",
       "bbands                67\n",
       "ChrisCamillo          64\n",
       "RaoulGMI              60\n",
       "LynAldenContact       60\n",
       "ThinkingUSD           44\n",
       "AltcoinPsycho         35\n",
       "elliotrades           33\n",
       "tier10k               23\n",
       "HsakaTrades           21\n",
       "zerohedge             19\n",
       "Trader_Dante          17\n",
       "hasufl                 8\n",
       "michaelbatnick         1\n",
       "Name: username, dtype: int64"
      ]
     },
     "execution_count": 7,
     "metadata": {},
     "output_type": "execute_result"
    }
   ],
   "source": [
    "#show usernames with maximum number of tweets\n",
    "data['username'].value_counts()"
   ]
  },
  {
   "cell_type": "code",
   "execution_count": 8,
   "metadata": {},
   "outputs": [
    {
     "data": {
      "text/plain": [
       "Index(['url', 'date', 'tweet', 'username', 'likeCount', 'replyCount',\n",
       "       'retweetCount', 'quoteCount', 'cashtags', 'hashtags', 'stock_symbol',\n",
       "       'current_value', '1min', '60min', '1day', '1week', 'positive',\n",
       "       'negative', 'neutral', 'sentiment'],\n",
       "      dtype='object')"
      ]
     },
     "execution_count": 8,
     "metadata": {},
     "output_type": "execute_result"
    }
   ],
   "source": [
    "data.columns"
   ]
  },
  {
   "cell_type": "code",
   "execution_count": 9,
   "metadata": {},
   "outputs": [
    {
     "name": "stderr",
     "output_type": "stream",
     "text": [
      "/var/folders/sd/p4tcs9gs0hn4nt45wd9f9q1w0000gn/T/ipykernel_4937/2971311255.py:2: FutureWarning: The default value of regex will change from True to False in a future version. In addition, single character regular expressions will *not* be treated as literal strings when regex=True.\n",
      "  data['stock_symbol'] = data['cashtags'].str.replace('[','').str.replace(']','').str.replace(\"'\",'')\n"
     ]
    }
   ],
   "source": [
    "#use cashtag to populate the column 'stock_symbol' by removing the [] and ' signs\n",
    "data['stock_symbol'] = data['cashtags'].str.replace('[','').str.replace(']','').str.replace(\"'\",'')"
   ]
  },
  {
   "cell_type": "code",
   "execution_count": 10,
   "metadata": {},
   "outputs": [],
   "source": [
    "#use the first 3 characters of the stock symbol and remove the other ones\n",
    "data['stock_symbol'] = data['stock_symbol'].str[:3]"
   ]
  },
  {
   "cell_type": "code",
   "execution_count": 11,
   "metadata": {},
   "outputs": [],
   "source": [
    "#remove the rows with the stock symbol 'nan'\n",
    "data = data[data['stock_symbol'] != 'nan']"
   ]
  },
  {
   "cell_type": "code",
   "execution_count": 12,
   "metadata": {},
   "outputs": [],
   "source": [
    "#change data['date'] to datetime format\n",
    "data['date'] = pd.to_datetime(data['date'])"
   ]
  },
  {
   "cell_type": "code",
   "execution_count": 13,
   "metadata": {},
   "outputs": [
    {
     "data": {
      "text/plain": [
       "datetime64[ns, UTC]"
      ]
     },
     "execution_count": 13,
     "metadata": {},
     "output_type": "execute_result"
    }
   ],
   "source": [
    "data['date'].dtypes"
   ]
  },
  {
   "cell_type": "code",
   "execution_count": 15,
   "metadata": {},
   "outputs": [],
   "source": [
    "#change the date format to show just the year, the month and the day in datetime format\n",
    "data['date'] = data['date'].dt.strftime('%Y-%m-%d')"
   ]
  },
  {
   "cell_type": "code",
   "execution_count": 16,
   "metadata": {},
   "outputs": [],
   "source": [
    "import pandas as pd\n",
    "from alpha_vantage.timeseries import TimeSeries\n",
    "api_key = 'RGUX1KUUCDUCRYAC'"
   ]
  },
  {
   "cell_type": "code",
   "execution_count": 17,
   "metadata": {},
   "outputs": [
    {
     "ename": "ValueError",
     "evalue": "Thank you for using Alpha Vantage! This is a premium endpoint. You may subscribe to any of the premium plans at https://www.alphavantage.co/premium/ to instantly unlock all premium endpoints",
     "output_type": "error",
     "traceback": [
      "\u001b[0;31m---------------------------------------------------------------------------\u001b[0m",
      "\u001b[0;31mValueError\u001b[0m                                Traceback (most recent call last)",
      "Cell \u001b[0;32mIn[17], line 11\u001b[0m\n\u001b[1;32m      9\u001b[0m start_date \u001b[39m=\u001b[39m \u001b[39m'\u001b[39m\u001b[39m2022-01-01\u001b[39m\u001b[39m'\u001b[39m\n\u001b[1;32m     10\u001b[0m end_date \u001b[39m=\u001b[39m \u001b[39m'\u001b[39m\u001b[39m2022-12-31\u001b[39m\u001b[39m'\u001b[39m\n\u001b[0;32m---> 11\u001b[0m data, meta_data \u001b[39m=\u001b[39m ts\u001b[39m.\u001b[39;49mget_daily(symbol\u001b[39m=\u001b[39;49msymbol, outputsize\u001b[39m=\u001b[39;49m\u001b[39m'\u001b[39;49m\u001b[39mcompact\u001b[39;49m\u001b[39m'\u001b[39;49m)\n\u001b[1;32m     12\u001b[0m stock_price \u001b[39m=\u001b[39m data\u001b[39m.\u001b[39mloc[time][\u001b[39m'\u001b[39m\u001b[39m4. close\u001b[39m\u001b[39m'\u001b[39m]\n\u001b[1;32m     13\u001b[0m \u001b[39m# Update the dataframe with the stock price\u001b[39;00m\n",
      "File \u001b[0;32m~/.pyenv/versions/3.10.6/envs/twitter_files/lib/python3.10/site-packages/alpha_vantage/alphavantage.py:218\u001b[0m, in \u001b[0;36mAlphaVantage._output_format.<locals>._format_wrapper\u001b[0;34m(self, *args, **kwargs)\u001b[0m\n\u001b[1;32m    216\u001b[0m \u001b[39m@wraps\u001b[39m(func)\n\u001b[1;32m    217\u001b[0m \u001b[39mdef\u001b[39;00m \u001b[39m_format_wrapper\u001b[39m(\u001b[39mself\u001b[39m, \u001b[39m*\u001b[39margs, \u001b[39m*\u001b[39m\u001b[39m*\u001b[39mkwargs):\n\u001b[0;32m--> 218\u001b[0m     call_response, data_key, meta_data_key \u001b[39m=\u001b[39m func(\n\u001b[1;32m    219\u001b[0m         \u001b[39mself\u001b[39;49m, \u001b[39m*\u001b[39;49margs, \u001b[39m*\u001b[39;49m\u001b[39m*\u001b[39;49mkwargs)\n\u001b[1;32m    220\u001b[0m     \u001b[39mif\u001b[39;00m \u001b[39m'\u001b[39m\u001b[39mjson\u001b[39m\u001b[39m'\u001b[39m \u001b[39min\u001b[39;00m \u001b[39mself\u001b[39m\u001b[39m.\u001b[39moutput_format\u001b[39m.\u001b[39mlower() \u001b[39mor\u001b[39;00m \u001b[39m'\u001b[39m\u001b[39mpandas\u001b[39m\u001b[39m'\u001b[39m \\\n\u001b[1;32m    221\u001b[0m             \u001b[39min\u001b[39;00m \u001b[39mself\u001b[39m\u001b[39m.\u001b[39moutput_format\u001b[39m.\u001b[39mlower():\n\u001b[1;32m    222\u001b[0m         \u001b[39mif\u001b[39;00m data_key \u001b[39mis\u001b[39;00m \u001b[39mnot\u001b[39;00m \u001b[39mNone\u001b[39;00m:\n",
      "File \u001b[0;32m~/.pyenv/versions/3.10.6/envs/twitter_files/lib/python3.10/site-packages/alpha_vantage/alphavantage.py:160\u001b[0m, in \u001b[0;36mAlphaVantage._call_api_on_func.<locals>._call_wrapper\u001b[0;34m(self, *args, **kwargs)\u001b[0m\n\u001b[1;32m    158\u001b[0m \u001b[39melse\u001b[39;00m:\n\u001b[1;32m    159\u001b[0m     url \u001b[39m=\u001b[39m \u001b[39m'\u001b[39m\u001b[39m{}\u001b[39;00m\u001b[39m{}\u001b[39;00m\u001b[39m'\u001b[39m\u001b[39m.\u001b[39mformat(url, apikey_parameter)\n\u001b[0;32m--> 160\u001b[0m \u001b[39mreturn\u001b[39;00m \u001b[39mself\u001b[39;49m\u001b[39m.\u001b[39;49m_handle_api_call(url), data_key, meta_data_key\n",
      "File \u001b[0;32m~/.pyenv/versions/3.10.6/envs/twitter_files/lib/python3.10/site-packages/alpha_vantage/alphavantage.py:361\u001b[0m, in \u001b[0;36mAlphaVantage._handle_api_call\u001b[0;34m(self, url)\u001b[0m\n\u001b[1;32m    359\u001b[0m     \u001b[39mraise\u001b[39;00m \u001b[39mValueError\u001b[39;00m(json_response[\u001b[39m\"\u001b[39m\u001b[39mError Message\u001b[39m\u001b[39m\"\u001b[39m])\n\u001b[1;32m    360\u001b[0m \u001b[39melif\u001b[39;00m \u001b[39m\"\u001b[39m\u001b[39mInformation\u001b[39m\u001b[39m\"\u001b[39m \u001b[39min\u001b[39;00m json_response \u001b[39mand\u001b[39;00m \u001b[39mself\u001b[39m\u001b[39m.\u001b[39mtreat_info_as_error:\n\u001b[0;32m--> 361\u001b[0m     \u001b[39mraise\u001b[39;00m \u001b[39mValueError\u001b[39;00m(json_response[\u001b[39m\"\u001b[39m\u001b[39mInformation\u001b[39m\u001b[39m\"\u001b[39m])\n\u001b[1;32m    362\u001b[0m \u001b[39melif\u001b[39;00m \u001b[39m\"\u001b[39m\u001b[39mNote\u001b[39m\u001b[39m\"\u001b[39m \u001b[39min\u001b[39;00m json_response \u001b[39mand\u001b[39;00m \u001b[39mself\u001b[39m\u001b[39m.\u001b[39mtreat_info_as_error:\n\u001b[1;32m    363\u001b[0m     \u001b[39mraise\u001b[39;00m \u001b[39mValueError\u001b[39;00m(json_response[\u001b[39m\"\u001b[39m\u001b[39mNote\u001b[39m\u001b[39m\"\u001b[39m])\n",
      "\u001b[0;31mValueError\u001b[0m: Thank you for using Alpha Vantage! This is a premium endpoint. You may subscribe to any of the premium plans at https://www.alphavantage.co/premium/ to instantly unlock all premium endpoints"
     ]
    }
   ],
   "source": [
    "# Initialize the Alpha Vantage API client\n",
    "ts = TimeSeries(key=api_key, output_format='pandas')\n",
    "\n",
    "# Loop through each row in the dataframe\n",
    "for index, row in data.iterrows():\n",
    "    # Get the stock price at the specified time using Alpha Vantage API\n",
    "    symbol = row['stock_symbol']\n",
    "    time = row['date']\n",
    "    start_date = '2022-01-01'\n",
    "    end_date = '2022-12-31'\n",
    "    data, meta_data = ts.get_daily(symbol=symbol, outputsize='compact')\n",
    "    stock_price = data.loc[time]['4. close']\n",
    "    # Update the dataframe with the stock price\n",
    "    data.at[index, 'stock_price'] = stock_price"
   ]
  },
  {
   "cell_type": "code",
   "execution_count": null,
   "metadata": {},
   "outputs": [],
   "source": []
  }
 ],
 "metadata": {
  "kernelspec": {
   "display_name": "twitter_files",
   "language": "python",
   "name": "python3"
  },
  "language_info": {
   "codemirror_mode": {
    "name": "ipython",
    "version": 3
   },
   "file_extension": ".py",
   "mimetype": "text/x-python",
   "name": "python",
   "nbconvert_exporter": "python",
   "pygments_lexer": "ipython3",
   "version": "3.10.6"
  },
  "orig_nbformat": 4
 },
 "nbformat": 4,
 "nbformat_minor": 2
}
