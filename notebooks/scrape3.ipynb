{
 "cells": [
  {
   "cell_type": "code",
   "execution_count": 19,
   "metadata": {},
   "outputs": [],
   "source": [
    "import pandas as pd\n",
    "import snscrape.modules.twitter as sntwitter"
   ]
  },
  {
   "cell_type": "code",
   "execution_count": 20,
   "metadata": {},
   "outputs": [],
   "source": [
    "#trying to scrape tweets from 2022 for the following users\n",
    "query = 'from:crypto_iso OR from:FirstSquawk OR from:StockMKTNewz since:2022-01-01 until:2022-12-31'\n",
    "scraper = sntwitter.TwitterSearchScraper(query)"
   ]
  },
  {
   "cell_type": "code",
   "execution_count": 21,
   "metadata": {},
   "outputs": [],
   "source": [
    "#create empty list to store tweets\n",
    "tweets = []\n",
    "#loop through tweets and append to list\n",
    "for i, tweet in enumerate(scraper.get_items()):\n",
    "    data = [tweet.url, tweet.date, tweet.rawContent, tweet.user.username, \n",
    "            tweet.likeCount, tweet.replyCount, tweet.retweetCount, tweet.quoteCount, \n",
    "            tweet.cashtags, tweet.hashtags, tweet.viewCount]\n",
    "    tweets.append(data)"
   ]
  },
  {
   "cell_type": "code",
   "execution_count": 22,
   "metadata": {},
   "outputs": [
    {
     "data": {
      "text/html": [
       "<div>\n",
       "<style scoped>\n",
       "    .dataframe tbody tr th:only-of-type {\n",
       "        vertical-align: middle;\n",
       "    }\n",
       "\n",
       "    .dataframe tbody tr th {\n",
       "        vertical-align: top;\n",
       "    }\n",
       "\n",
       "    .dataframe thead th {\n",
       "        text-align: right;\n",
       "    }\n",
       "</style>\n",
       "<table border=\"1\" class=\"dataframe\">\n",
       "  <thead>\n",
       "    <tr style=\"text-align: right;\">\n",
       "      <th></th>\n",
       "      <th>url</th>\n",
       "      <th>date</th>\n",
       "      <th>rawContent</th>\n",
       "      <th>username</th>\n",
       "      <th>likeCount</th>\n",
       "      <th>replyCount</th>\n",
       "      <th>retweetCount</th>\n",
       "      <th>quoteCount</th>\n",
       "      <th>cashtags</th>\n",
       "      <th>hashtags</th>\n",
       "      <th>viewCount</th>\n",
       "    </tr>\n",
       "  </thead>\n",
       "  <tbody>\n",
       "    <tr>\n",
       "      <th>0</th>\n",
       "      <td>https://twitter.com/StockMKTNewz/status/160896...</td>\n",
       "      <td>2022-12-30 23:24:46+00:00</td>\n",
       "      <td>A judge has set January 3rd for the first pre-...</td>\n",
       "      <td>StockMKTNewz</td>\n",
       "      <td>49</td>\n",
       "      <td>5</td>\n",
       "      <td>5</td>\n",
       "      <td>1</td>\n",
       "      <td>[MSFT, ATVI]</td>\n",
       "      <td>None</td>\n",
       "      <td>22356.0</td>\n",
       "    </tr>\n",
       "    <tr>\n",
       "      <th>1</th>\n",
       "      <td>https://twitter.com/crypto_iso/status/16089614...</td>\n",
       "      <td>2022-12-30 23:01:22+00:00</td>\n",
       "      <td>@crypto_hooper Infinity panda holders - 250 \\n...</td>\n",
       "      <td>crypto_iso</td>\n",
       "      <td>0</td>\n",
       "      <td>1</td>\n",
       "      <td>0</td>\n",
       "      <td>0</td>\n",
       "      <td>None</td>\n",
       "      <td>None</td>\n",
       "      <td>123.0</td>\n",
       "    </tr>\n",
       "    <tr>\n",
       "      <th>2</th>\n",
       "      <td>https://twitter.com/crypto_iso/status/16089612...</td>\n",
       "      <td>2022-12-30 23:00:26+00:00</td>\n",
       "      <td>@WizardMerk Not yet.</td>\n",
       "      <td>crypto_iso</td>\n",
       "      <td>0</td>\n",
       "      <td>0</td>\n",
       "      <td>0</td>\n",
       "      <td>0</td>\n",
       "      <td>None</td>\n",
       "      <td>None</td>\n",
       "      <td>268.0</td>\n",
       "    </tr>\n",
       "    <tr>\n",
       "      <th>3</th>\n",
       "      <td>https://twitter.com/StockMKTNewz/status/160895...</td>\n",
       "      <td>2022-12-30 22:44:12+00:00</td>\n",
       "      <td>@elonmusk @teslaownersSV @Tesla Crazy year ......</td>\n",
       "      <td>StockMKTNewz</td>\n",
       "      <td>54</td>\n",
       "      <td>5</td>\n",
       "      <td>2</td>\n",
       "      <td>0</td>\n",
       "      <td>None</td>\n",
       "      <td>None</td>\n",
       "      <td>31777.0</td>\n",
       "    </tr>\n",
       "    <tr>\n",
       "      <th>4</th>\n",
       "      <td>https://twitter.com/StockMKTNewz/status/160895...</td>\n",
       "      <td>2022-12-30 22:36:56+00:00</td>\n",
       "      <td>Final heat map of the S&amp;amp;P 500's performanc...</td>\n",
       "      <td>StockMKTNewz</td>\n",
       "      <td>444</td>\n",
       "      <td>24</td>\n",
       "      <td>152</td>\n",
       "      <td>19</td>\n",
       "      <td>None</td>\n",
       "      <td>None</td>\n",
       "      <td>145329.0</td>\n",
       "    </tr>\n",
       "  </tbody>\n",
       "</table>\n",
       "</div>"
      ],
      "text/plain": [
       "                                                 url  \\\n",
       "0  https://twitter.com/StockMKTNewz/status/160896...   \n",
       "1  https://twitter.com/crypto_iso/status/16089614...   \n",
       "2  https://twitter.com/crypto_iso/status/16089612...   \n",
       "3  https://twitter.com/StockMKTNewz/status/160895...   \n",
       "4  https://twitter.com/StockMKTNewz/status/160895...   \n",
       "\n",
       "                       date  \\\n",
       "0 2022-12-30 23:24:46+00:00   \n",
       "1 2022-12-30 23:01:22+00:00   \n",
       "2 2022-12-30 23:00:26+00:00   \n",
       "3 2022-12-30 22:44:12+00:00   \n",
       "4 2022-12-30 22:36:56+00:00   \n",
       "\n",
       "                                          rawContent      username  likeCount  \\\n",
       "0  A judge has set January 3rd for the first pre-...  StockMKTNewz         49   \n",
       "1  @crypto_hooper Infinity panda holders - 250 \\n...    crypto_iso          0   \n",
       "2                               @WizardMerk Not yet.    crypto_iso          0   \n",
       "3  @elonmusk @teslaownersSV @Tesla Crazy year ......  StockMKTNewz         54   \n",
       "4  Final heat map of the S&amp;P 500's performanc...  StockMKTNewz        444   \n",
       "\n",
       "   replyCount  retweetCount  quoteCount      cashtags hashtags  viewCount  \n",
       "0           5             5           1  [MSFT, ATVI]     None    22356.0  \n",
       "1           1             0           0          None     None      123.0  \n",
       "2           0             0           0          None     None      268.0  \n",
       "3           5             2           0          None     None    31777.0  \n",
       "4          24           152          19          None     None   145329.0  "
      ]
     },
     "execution_count": 22,
     "metadata": {},
     "output_type": "execute_result"
    }
   ],
   "source": [
    "#convert list to dataframe\n",
    "df = pd.DataFrame(tweets, columns= ['url', 'date', 'rawContent', 'username',\n",
    "                                    'likeCount', 'replyCount', 'retweetCount', 'quoteCount',\n",
    "                                    'cashtags', 'hashtags', 'viewCount'])\n",
    "df.head()"
   ]
  },
  {
   "cell_type": "code",
   "execution_count": 23,
   "metadata": {},
   "outputs": [
    {
     "name": "stdout",
     "output_type": "stream",
     "text": [
      "<class 'pandas.core.frame.DataFrame'>\n",
      "RangeIndex: 57252 entries, 0 to 57251\n",
      "Data columns (total 11 columns):\n",
      " #   Column        Non-Null Count  Dtype              \n",
      "---  ------        --------------  -----              \n",
      " 0   url           57252 non-null  object             \n",
      " 1   date          57252 non-null  datetime64[ns, UTC]\n",
      " 2   rawContent    57252 non-null  object             \n",
      " 3   username      57252 non-null  object             \n",
      " 4   likeCount     57252 non-null  int64              \n",
      " 5   replyCount    57252 non-null  int64              \n",
      " 6   retweetCount  57252 non-null  int64              \n",
      " 7   quoteCount    57252 non-null  int64              \n",
      " 8   cashtags      12513 non-null  object             \n",
      " 9   hashtags      212 non-null    object             \n",
      " 10  viewCount     1931 non-null   float64            \n",
      "dtypes: datetime64[ns, UTC](1), float64(1), int64(4), object(5)\n",
      "memory usage: 4.8+ MB\n"
     ]
    }
   ],
   "source": [
    "df.info()"
   ]
  },
  {
   "cell_type": "code",
   "execution_count": 24,
   "metadata": {},
   "outputs": [],
   "source": [
    "#save to csv\n",
    "data = df.to_csv('file22.csv', index=False)"
   ]
  },
  {
   "cell_type": "code",
   "execution_count": null,
   "metadata": {},
   "outputs": [],
   "source": []
  }
 ],
 "metadata": {
  "kernelspec": {
   "display_name": "twitter_files",
   "language": "python",
   "name": "python3"
  },
  "language_info": {
   "codemirror_mode": {
    "name": "ipython",
    "version": 3
   },
   "file_extension": ".py",
   "mimetype": "text/x-python",
   "name": "python",
   "nbconvert_exporter": "python",
   "pygments_lexer": "ipython3",
   "version": "3.10.6"
  },
  "orig_nbformat": 4
 },
 "nbformat": 4,
 "nbformat_minor": 2
}
